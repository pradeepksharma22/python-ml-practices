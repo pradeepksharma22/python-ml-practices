{
 "cells": [
  {
   "cell_type": "code",
   "execution_count": 2,
   "id": "45d271bd",
   "metadata": {},
   "outputs": [],
   "source": [
    "import numpy as np"
   ]
  },
  {
   "cell_type": "code",
   "execution_count": 3,
   "id": "5112b4d2",
   "metadata": {},
   "outputs": [],
   "source": [
    "#M = np.linalg.inv(B2)\n",
    "B2 = np.array([[3,-3],[4,-5]])\n",
    "M = np.linalg.inv(B2)\n"
   ]
  },
  {
   "cell_type": "code",
   "execution_count": 4,
   "id": "0a68fa75",
   "metadata": {},
   "outputs": [
    {
     "data": {
      "text/plain": [
       "array([[ 1.66666667, -1.        ],\n",
       "       [ 1.33333333, -1.        ]])"
      ]
     },
     "execution_count": 4,
     "metadata": {},
     "output_type": "execute_result"
    }
   ],
   "source": [
    "M"
   ]
  },
  {
   "cell_type": "code",
   "execution_count": 5,
   "id": "df6d432f",
   "metadata": {},
   "outputs": [
    {
     "data": {
      "text/plain": [
       "array([[3.],\n",
       "       [2.]])"
      ]
     },
     "execution_count": 5,
     "metadata": {},
     "output_type": "execute_result"
    }
   ],
   "source": [
    "v1 = np.array([[3],[2]])\n",
    "v2 = M @ v1\n",
    "v2"
   ]
  },
  {
   "cell_type": "code",
   "execution_count": 4,
   "id": "42340f4a",
   "metadata": {},
   "outputs": [
    {
     "name": "stdout",
     "output_type": "stream",
     "text": [
      "bash\n",
      "success\n",
      "wors\n",
      "sweep\n",
      "happili\n"
     ]
    }
   ],
   "source": [
    "from nltk.stem import PorterStemmer\n",
    "e_words= [\"Bashed\", \"Successful\", \"Worse\", \"Sweeping\", \"happily\"]\n",
    "ps =PorterStemmer()\n",
    "for w in e_words:\n",
    "    rootWord=ps.stem(w)\n",
    "    print(rootWord)"
   ]
  },
  {
   "cell_type": "code",
   "execution_count": null,
   "id": "9b14be81",
   "metadata": {},
   "outputs": [],
   "source": [
    "import spacy\n",
    "from spacy.matcher import Matcher\n",
    "nlp = spacy.load(\"en_core_web_sm\")\n",
    "\n",
    "rule = [{'DEP':'nsubjpass'}]\n",
    "matcher = Matcher(nlp.vocab)\n",
    "matcher.add('Rule',[rule])\n",
    "\n",
    "doc = nlp(\"I am learning NLP from upGrad.\")\n",
    "matcher(doc)"
   ]
  },
  {
   "cell_type": "code",
   "execution_count": null,
   "id": "34375c23",
   "metadata": {},
   "outputs": [],
   "source": []
  }
 ],
 "metadata": {
  "kernelspec": {
   "display_name": "Python 3 (ipykernel)",
   "language": "python",
   "name": "python3"
  },
  "language_info": {
   "codemirror_mode": {
    "name": "ipython",
    "version": 3
   },
   "file_extension": ".py",
   "mimetype": "text/x-python",
   "name": "python",
   "nbconvert_exporter": "python",
   "pygments_lexer": "ipython3",
   "version": "3.9.7"
  }
 },
 "nbformat": 4,
 "nbformat_minor": 5
}
