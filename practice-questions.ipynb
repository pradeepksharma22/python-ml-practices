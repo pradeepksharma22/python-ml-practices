{
 "cells": [
  {
   "cell_type": "markdown",
   "id": "e12aeea9",
   "metadata": {},
   "source": [
    "Count the number of missing values in each column of the dataset 'marks'."
   ]
  },
  {
   "cell_type": "code",
   "execution_count": 23,
   "id": "0c761c7f",
   "metadata": {},
   "outputs": [
    {
     "data": {
      "text/html": [
       "<div>\n",
       "<style scoped>\n",
       "    .dataframe tbody tr th:only-of-type {\n",
       "        vertical-align: middle;\n",
       "    }\n",
       "\n",
       "    .dataframe tbody tr th {\n",
       "        vertical-align: top;\n",
       "    }\n",
       "\n",
       "    .dataframe thead th {\n",
       "        text-align: right;\n",
       "    }\n",
       "</style>\n",
       "<table border=\"1\" class=\"dataframe\">\n",
       "  <thead>\n",
       "    <tr style=\"text-align: right;\">\n",
       "      <th></th>\n",
       "      <th>Prefix</th>\n",
       "      <th>Assignment</th>\n",
       "      <th>Tutorial</th>\n",
       "      <th>Midterm</th>\n",
       "      <th>TakeHome</th>\n",
       "      <th>Final</th>\n",
       "    </tr>\n",
       "  </thead>\n",
       "  <tbody>\n",
       "    <tr>\n",
       "      <th>0</th>\n",
       "      <td>5</td>\n",
       "      <td>57.14</td>\n",
       "      <td>34.09</td>\n",
       "      <td>64.38</td>\n",
       "      <td>51.48</td>\n",
       "      <td>52.50</td>\n",
       "    </tr>\n",
       "    <tr>\n",
       "      <th>1</th>\n",
       "      <td>8</td>\n",
       "      <td>95.05</td>\n",
       "      <td>105.49</td>\n",
       "      <td>67.50</td>\n",
       "      <td>99.07</td>\n",
       "      <td>68.33</td>\n",
       "    </tr>\n",
       "    <tr>\n",
       "      <th>2</th>\n",
       "      <td>8</td>\n",
       "      <td>83.70</td>\n",
       "      <td>83.17</td>\n",
       "      <td>30.00</td>\n",
       "      <td>63.15</td>\n",
       "      <td>48.89</td>\n",
       "    </tr>\n",
       "    <tr>\n",
       "      <th>3</th>\n",
       "      <td>7</td>\n",
       "      <td>81.22</td>\n",
       "      <td>96.06</td>\n",
       "      <td>49.38</td>\n",
       "      <td>105.93</td>\n",
       "      <td>80.56</td>\n",
       "    </tr>\n",
       "    <tr>\n",
       "      <th>4</th>\n",
       "      <td>8</td>\n",
       "      <td>91.32</td>\n",
       "      <td>93.64</td>\n",
       "      <td>95.00</td>\n",
       "      <td>107.41</td>\n",
       "      <td>73.89</td>\n",
       "    </tr>\n",
       "  </tbody>\n",
       "</table>\n",
       "</div>"
      ],
      "text/plain": [
       "   Prefix  Assignment  Tutorial  Midterm  TakeHome  Final\n",
       "0       5       57.14     34.09    64.38     51.48  52.50\n",
       "1       8       95.05    105.49    67.50     99.07  68.33\n",
       "2       8       83.70     83.17    30.00     63.15  48.89\n",
       "3       7       81.22     96.06    49.38    105.93  80.56\n",
       "4       8       91.32     93.64    95.00    107.41  73.89"
      ]
     },
     "execution_count": 23,
     "metadata": {},
     "output_type": "execute_result"
    }
   ],
   "source": [
    "import pandas as pd\n",
    "marks = pd.read_csv('https://media-doselect.s3.amazonaws.com/generic/GZVBQG5pzJeNaL1ve50Rv9YNV/class-grades.csv')\n",
    "marks.head()"
   ]
  },
  {
   "cell_type": "code",
   "execution_count": 24,
   "id": "e8f22556",
   "metadata": {},
   "outputs": [
    {
     "data": {
      "text/plain": [
       "Prefix         0\n",
       "Assignment     2\n",
       "Tutorial      12\n",
       "Midterm       16\n",
       "TakeHome       9\n",
       "Final          5\n",
       "dtype: int64"
      ]
     },
     "execution_count": 24,
     "metadata": {},
     "output_type": "execute_result"
    }
   ],
   "source": [
    "marks.isnull().sum()"
   ]
  },
  {
   "cell_type": "markdown",
   "id": "97a54b25",
   "metadata": {},
   "source": [
    "### Removing rows with missing values\n",
    "Description\n",
    "Remove all the rows in the dataset 'marks' having 5 missing values and then print the number of missing values in each column."
   ]
  },
  {
   "cell_type": "code",
   "execution_count": 25,
   "id": "c48e883d",
   "metadata": {},
   "outputs": [],
   "source": [
    "import pandas as pd\n",
    "marks = pd.read_csv('https://media-doselect.s3.amazonaws.com/generic/VodvGKvJAaeNrG7kvOQV38aog/class-grades.csv')"
   ]
  },
  {
   "cell_type": "code",
   "execution_count": 27,
   "id": "dc13c1c0",
   "metadata": {},
   "outputs": [
    {
     "name": "stdout",
     "output_type": "stream",
     "text": [
      "Prefix         0\n",
      "Assignment     0\n",
      "Tutorial      10\n",
      "Midterm       14\n",
      "TakeHome       7\n",
      "Final          3\n",
      "dtype: int64\n"
     ]
    }
   ],
   "source": [
    "#marks= marks.drop(marks[marks.isnull().sum(axis=1)==5].index)\n",
    "#marks= marks.dropna(thresh=5)\n",
    "marks = marks[marks.isnull().sum(axis=1) != 5]\n",
    "print(marks.isnull().sum())"
   ]
  },
  {
   "cell_type": "code",
   "execution_count": 27,
   "id": "1e218f36",
   "metadata": {},
   "outputs": [
    {
     "data": {
      "text/plain": [
       "Prefix         0\n",
       "Assignment     0\n",
       "Tutorial      10\n",
       "Midterm       14\n",
       "TakeHome       7\n",
       "Final          3\n",
       "dtype: int64"
      ]
     },
     "execution_count": 27,
     "metadata": {},
     "output_type": "execute_result"
    }
   ],
   "source": [
    "marks =  marks[marks.isnull().sum(axis=1)!=5]\n",
    "marks.isnull().sum()"
   ]
  },
  {
   "cell_type": "markdown",
   "id": "9bbf0848",
   "metadata": {},
   "source": [
    "### Removing extra characters from a column\n",
    "Description\n",
    "The given data frame 'customer' has a column 'Cust_id' which has values Cust_1, Cust_2 and so on.\n",
    "Remove the repeated 'Cust_' from the column Cust_id so that the output column Cust_id have just numbers like 1, 2, 3 and so on.\n",
    "Print the first 10 rows of the dataset  'customer' after processing."
   ]
  },
  {
   "cell_type": "code",
   "execution_count": 38,
   "id": "61b949a7",
   "metadata": {},
   "outputs": [
    {
     "data": {
      "text/html": [
       "<div>\n",
       "<style scoped>\n",
       "    .dataframe tbody tr th:only-of-type {\n",
       "        vertical-align: middle;\n",
       "    }\n",
       "\n",
       "    .dataframe tbody tr th {\n",
       "        vertical-align: top;\n",
       "    }\n",
       "\n",
       "    .dataframe thead th {\n",
       "        text-align: right;\n",
       "    }\n",
       "</style>\n",
       "<table border=\"1\" class=\"dataframe\">\n",
       "  <thead>\n",
       "    <tr style=\"text-align: right;\">\n",
       "      <th></th>\n",
       "      <th>Customer_Name</th>\n",
       "      <th>Province</th>\n",
       "      <th>Region</th>\n",
       "      <th>Customer_Segment</th>\n",
       "      <th>Cust_id</th>\n",
       "    </tr>\n",
       "  </thead>\n",
       "  <tbody>\n",
       "    <tr>\n",
       "      <th>0</th>\n",
       "      <td>MUHAMMED MACINTYRE</td>\n",
       "      <td>NUNAVUT</td>\n",
       "      <td>NUNAVUT</td>\n",
       "      <td>SMALL BUSINESS</td>\n",
       "      <td>Cust_1</td>\n",
       "    </tr>\n",
       "    <tr>\n",
       "      <th>1</th>\n",
       "      <td>BARRY FRENCH</td>\n",
       "      <td>NUNAVUT</td>\n",
       "      <td>NUNAVUT</td>\n",
       "      <td>CONSUMER</td>\n",
       "      <td>Cust_2</td>\n",
       "    </tr>\n",
       "    <tr>\n",
       "      <th>2</th>\n",
       "      <td>CLAY ROZENDAL</td>\n",
       "      <td>NUNAVUT</td>\n",
       "      <td>NUNAVUT</td>\n",
       "      <td>CORPORATE</td>\n",
       "      <td>Cust_3</td>\n",
       "    </tr>\n",
       "    <tr>\n",
       "      <th>3</th>\n",
       "      <td>CARLOS SOLTERO</td>\n",
       "      <td>NUNAVUT</td>\n",
       "      <td>NUNAVUT</td>\n",
       "      <td>CONSUMER</td>\n",
       "      <td>Cust_4</td>\n",
       "    </tr>\n",
       "    <tr>\n",
       "      <th>4</th>\n",
       "      <td>CARL JACKSON</td>\n",
       "      <td>NUNAVUT</td>\n",
       "      <td>NUNAVUT</td>\n",
       "      <td>CORPORATE</td>\n",
       "      <td>Cust_5</td>\n",
       "    </tr>\n",
       "  </tbody>\n",
       "</table>\n",
       "</div>"
      ],
      "text/plain": [
       "        Customer_Name Province   Region Customer_Segment Cust_id\n",
       "0  MUHAMMED MACINTYRE  NUNAVUT  NUNAVUT   SMALL BUSINESS  Cust_1\n",
       "1        BARRY FRENCH  NUNAVUT  NUNAVUT         CONSUMER  Cust_2\n",
       "2       CLAY ROZENDAL  NUNAVUT  NUNAVUT        CORPORATE  Cust_3\n",
       "3      CARLOS SOLTERO  NUNAVUT  NUNAVUT         CONSUMER  Cust_4\n",
       "4        CARL JACKSON  NUNAVUT  NUNAVUT        CORPORATE  Cust_5"
      ]
     },
     "execution_count": 38,
     "metadata": {},
     "output_type": "execute_result"
    }
   ],
   "source": [
    "import pandas as pd\n",
    "customer = pd.read_csv('https://media-doselect.s3.amazonaws.com/generic/9B2ZPE1apMvqrLWx7p8ge9dqX/cust_dimen.csv')\n",
    "customer.head()"
   ]
  },
  {
   "cell_type": "code",
   "execution_count": 39,
   "id": "dbf3ed70",
   "metadata": {},
   "outputs": [],
   "source": [
    "#customer['Cust_id'] = customer.Cust_id.apply(lambda x:x[5:])\n",
    "customer['Cust_id'] = customer.Cust_id.apply(lambda x: x.strip('Cust_'))\n",
    "#customer['Cust_id'] = customer['Cust_id'].map(lambda x: x.strip('Cust_'))"
   ]
  },
  {
   "cell_type": "code",
   "execution_count": 40,
   "id": "5adc9c50",
   "metadata": {},
   "outputs": [
    {
     "data": {
      "text/html": [
       "<div>\n",
       "<style scoped>\n",
       "    .dataframe tbody tr th:only-of-type {\n",
       "        vertical-align: middle;\n",
       "    }\n",
       "\n",
       "    .dataframe tbody tr th {\n",
       "        vertical-align: top;\n",
       "    }\n",
       "\n",
       "    .dataframe thead th {\n",
       "        text-align: right;\n",
       "    }\n",
       "</style>\n",
       "<table border=\"1\" class=\"dataframe\">\n",
       "  <thead>\n",
       "    <tr style=\"text-align: right;\">\n",
       "      <th></th>\n",
       "      <th>Customer_Name</th>\n",
       "      <th>Province</th>\n",
       "      <th>Region</th>\n",
       "      <th>Customer_Segment</th>\n",
       "      <th>Cust_id</th>\n",
       "    </tr>\n",
       "  </thead>\n",
       "  <tbody>\n",
       "    <tr>\n",
       "      <th>0</th>\n",
       "      <td>MUHAMMED MACINTYRE</td>\n",
       "      <td>NUNAVUT</td>\n",
       "      <td>NUNAVUT</td>\n",
       "      <td>SMALL BUSINESS</td>\n",
       "      <td>1</td>\n",
       "    </tr>\n",
       "    <tr>\n",
       "      <th>1</th>\n",
       "      <td>BARRY FRENCH</td>\n",
       "      <td>NUNAVUT</td>\n",
       "      <td>NUNAVUT</td>\n",
       "      <td>CONSUMER</td>\n",
       "      <td>2</td>\n",
       "    </tr>\n",
       "    <tr>\n",
       "      <th>2</th>\n",
       "      <td>CLAY ROZENDAL</td>\n",
       "      <td>NUNAVUT</td>\n",
       "      <td>NUNAVUT</td>\n",
       "      <td>CORPORATE</td>\n",
       "      <td>3</td>\n",
       "    </tr>\n",
       "    <tr>\n",
       "      <th>3</th>\n",
       "      <td>CARLOS SOLTERO</td>\n",
       "      <td>NUNAVUT</td>\n",
       "      <td>NUNAVUT</td>\n",
       "      <td>CONSUMER</td>\n",
       "      <td>4</td>\n",
       "    </tr>\n",
       "    <tr>\n",
       "      <th>4</th>\n",
       "      <td>CARL JACKSON</td>\n",
       "      <td>NUNAVUT</td>\n",
       "      <td>NUNAVUT</td>\n",
       "      <td>CORPORATE</td>\n",
       "      <td>5</td>\n",
       "    </tr>\n",
       "    <tr>\n",
       "      <th>5</th>\n",
       "      <td>MONICA FEDERLE</td>\n",
       "      <td>NUNAVUT</td>\n",
       "      <td>NUNAVUT</td>\n",
       "      <td>CORPORATE</td>\n",
       "      <td>6</td>\n",
       "    </tr>\n",
       "    <tr>\n",
       "      <th>6</th>\n",
       "      <td>DOROTHY BADDERS</td>\n",
       "      <td>NUNAVUT</td>\n",
       "      <td>NUNAVUT</td>\n",
       "      <td>HOME OFFICE</td>\n",
       "      <td>7</td>\n",
       "    </tr>\n",
       "    <tr>\n",
       "      <th>7</th>\n",
       "      <td>NEOLA SCHNEIDER</td>\n",
       "      <td>NUNAVUT</td>\n",
       "      <td>NUNAVUT</td>\n",
       "      <td>HOME OFFICE</td>\n",
       "      <td>8</td>\n",
       "    </tr>\n",
       "    <tr>\n",
       "      <th>8</th>\n",
       "      <td>CARLOS DALY</td>\n",
       "      <td>NUNAVUT</td>\n",
       "      <td>NUNAVUT</td>\n",
       "      <td>HOME OFFICE</td>\n",
       "      <td>9</td>\n",
       "    </tr>\n",
       "    <tr>\n",
       "      <th>9</th>\n",
       "      <td>CLAUDIA MINER</td>\n",
       "      <td>NUNAVUT</td>\n",
       "      <td>NUNAVUT</td>\n",
       "      <td>SMALL BUSINESS</td>\n",
       "      <td>10</td>\n",
       "    </tr>\n",
       "  </tbody>\n",
       "</table>\n",
       "</div>"
      ],
      "text/plain": [
       "        Customer_Name Province   Region Customer_Segment Cust_id\n",
       "0  MUHAMMED MACINTYRE  NUNAVUT  NUNAVUT   SMALL BUSINESS       1\n",
       "1        BARRY FRENCH  NUNAVUT  NUNAVUT         CONSUMER       2\n",
       "2       CLAY ROZENDAL  NUNAVUT  NUNAVUT        CORPORATE       3\n",
       "3      CARLOS SOLTERO  NUNAVUT  NUNAVUT         CONSUMER       4\n",
       "4        CARL JACKSON  NUNAVUT  NUNAVUT        CORPORATE       5\n",
       "5      MONICA FEDERLE  NUNAVUT  NUNAVUT        CORPORATE       6\n",
       "6     DOROTHY BADDERS  NUNAVUT  NUNAVUT      HOME OFFICE       7\n",
       "7     NEOLA SCHNEIDER  NUNAVUT  NUNAVUT      HOME OFFICE       8\n",
       "8         CARLOS DALY  NUNAVUT  NUNAVUT      HOME OFFICE       9\n",
       "9       CLAUDIA MINER  NUNAVUT  NUNAVUT   SMALL BUSINESS      10"
      ]
     },
     "execution_count": 40,
     "metadata": {},
     "output_type": "execute_result"
    }
   ],
   "source": [
    "customer.head(10)"
   ]
  },
  {
   "cell_type": "code",
   "execution_count": 29,
   "id": "750bf9f6",
   "metadata": {},
   "outputs": [
    {
     "data": {
      "text/html": [
       "<div>\n",
       "<style scoped>\n",
       "    .dataframe tbody tr th:only-of-type {\n",
       "        vertical-align: middle;\n",
       "    }\n",
       "\n",
       "    .dataframe tbody tr th {\n",
       "        vertical-align: top;\n",
       "    }\n",
       "\n",
       "    .dataframe thead th {\n",
       "        text-align: right;\n",
       "    }\n",
       "</style>\n",
       "<table border=\"1\" class=\"dataframe\">\n",
       "  <thead>\n",
       "    <tr style=\"text-align: right;\">\n",
       "      <th></th>\n",
       "      <th>A</th>\n",
       "      <th>B</th>\n",
       "      <th>C</th>\n",
       "    </tr>\n",
       "  </thead>\n",
       "  <tbody>\n",
       "    <tr>\n",
       "      <th>Row 1</th>\n",
       "      <td>1</td>\n",
       "      <td>10</td>\n",
       "      <td>20</td>\n",
       "    </tr>\n",
       "    <tr>\n",
       "      <th>Row 2</th>\n",
       "      <td>2</td>\n",
       "      <td>20</td>\n",
       "      <td>40</td>\n",
       "    </tr>\n",
       "    <tr>\n",
       "      <th>Row 3</th>\n",
       "      <td>3</td>\n",
       "      <td>30</td>\n",
       "      <td>60</td>\n",
       "    </tr>\n",
       "    <tr>\n",
       "      <th>Row 4</th>\n",
       "      <td>4</td>\n",
       "      <td>40</td>\n",
       "      <td>80</td>\n",
       "    </tr>\n",
       "  </tbody>\n",
       "</table>\n",
       "</div>"
      ],
      "text/plain": [
       "       A   B   C\n",
       "Row 1  1  10  20\n",
       "Row 2  2  20  40\n",
       "Row 3  3  30  60\n",
       "Row 4  4  40  80"
      ]
     },
     "execution_count": 29,
     "metadata": {},
     "output_type": "execute_result"
    }
   ],
   "source": [
    "import pandas as pd\n",
    "df = pd.DataFrame({ 'A': [1,2,3,4], \n",
    "                   'B': [10,20,30,40],\n",
    "                   'C': [20,40,60,80]\n",
    "                  }, \n",
    "                  index=['Row 1', 'Row 2', 'Row 3', 'Row 4'])\n",
    "df"
   ]
  },
  {
   "cell_type": "code",
   "execution_count": 31,
   "id": "78ded123",
   "metadata": {},
   "outputs": [
    {
     "data": {
      "text/html": [
       "<div>\n",
       "<style scoped>\n",
       "    .dataframe tbody tr th:only-of-type {\n",
       "        vertical-align: middle;\n",
       "    }\n",
       "\n",
       "    .dataframe tbody tr th {\n",
       "        vertical-align: top;\n",
       "    }\n",
       "\n",
       "    .dataframe thead th {\n",
       "        text-align: right;\n",
       "    }\n",
       "</style>\n",
       "<table border=\"1\" class=\"dataframe\">\n",
       "  <thead>\n",
       "    <tr style=\"text-align: right;\">\n",
       "      <th></th>\n",
       "      <th>A</th>\n",
       "      <th>B</th>\n",
       "      <th>C</th>\n",
       "      <th>D</th>\n",
       "    </tr>\n",
       "  </thead>\n",
       "  <tbody>\n",
       "    <tr>\n",
       "      <th>Row 1</th>\n",
       "      <td>1</td>\n",
       "      <td>10</td>\n",
       "      <td>20</td>\n",
       "      <td>31.0</td>\n",
       "    </tr>\n",
       "    <tr>\n",
       "      <th>Row 2</th>\n",
       "      <td>2</td>\n",
       "      <td>20</td>\n",
       "      <td>40</td>\n",
       "      <td>62.0</td>\n",
       "    </tr>\n",
       "    <tr>\n",
       "      <th>Row 3</th>\n",
       "      <td>3</td>\n",
       "      <td>30</td>\n",
       "      <td>60</td>\n",
       "      <td>93.0</td>\n",
       "    </tr>\n",
       "    <tr>\n",
       "      <th>Row 4</th>\n",
       "      <td>4</td>\n",
       "      <td>40</td>\n",
       "      <td>80</td>\n",
       "      <td>124.0</td>\n",
       "    </tr>\n",
       "  </tbody>\n",
       "</table>\n",
       "</div>"
      ],
      "text/plain": [
       "       A   B   C      D\n",
       "Row 1  1  10  20   31.0\n",
       "Row 2  2  20  40   62.0\n",
       "Row 3  3  30  60   93.0\n",
       "Row 4  4  40  80  124.0"
      ]
     },
     "execution_count": 31,
     "metadata": {},
     "output_type": "execute_result"
    }
   ],
   "source": [
    "# Let's call this \"custom_sum\" as \"sum\" is a built-in function\n",
    "def custom_sum(row):\n",
    "    return row.sum()\n",
    "#df['D'] = df.apply(custom_sum, axis=1)\n",
    "df['D'] = df.apply(lambda x:x.sum(), axis=1)\n",
    "\n",
    "df"
   ]
  },
  {
   "cell_type": "code",
   "execution_count": 10,
   "id": "b0a9e361",
   "metadata": {},
   "outputs": [
    {
     "data": {
      "text/html": [
       "<div>\n",
       "<style scoped>\n",
       "    .dataframe tbody tr th:only-of-type {\n",
       "        vertical-align: middle;\n",
       "    }\n",
       "\n",
       "    .dataframe tbody tr th {\n",
       "        vertical-align: top;\n",
       "    }\n",
       "\n",
       "    .dataframe thead th {\n",
       "        text-align: right;\n",
       "    }\n",
       "</style>\n",
       "<table border=\"1\" class=\"dataframe\">\n",
       "  <thead>\n",
       "    <tr style=\"text-align: right;\">\n",
       "      <th></th>\n",
       "      <th>A</th>\n",
       "      <th>B</th>\n",
       "      <th>C</th>\n",
       "      <th>D</th>\n",
       "    </tr>\n",
       "  </thead>\n",
       "  <tbody>\n",
       "    <tr>\n",
       "      <th>Row 1</th>\n",
       "      <td>1</td>\n",
       "      <td>10</td>\n",
       "      <td>20</td>\n",
       "      <td>31</td>\n",
       "    </tr>\n",
       "    <tr>\n",
       "      <th>Row 2</th>\n",
       "      <td>2</td>\n",
       "      <td>20</td>\n",
       "      <td>40</td>\n",
       "      <td>62</td>\n",
       "    </tr>\n",
       "    <tr>\n",
       "      <th>Row 3</th>\n",
       "      <td>3</td>\n",
       "      <td>30</td>\n",
       "      <td>60</td>\n",
       "      <td>93</td>\n",
       "    </tr>\n",
       "    <tr>\n",
       "      <th>Row 4</th>\n",
       "      <td>4</td>\n",
       "      <td>40</td>\n",
       "      <td>80</td>\n",
       "      <td>124</td>\n",
       "    </tr>\n",
       "    <tr>\n",
       "      <th>Row 5</th>\n",
       "      <td>10</td>\n",
       "      <td>100</td>\n",
       "      <td>200</td>\n",
       "      <td>310</td>\n",
       "    </tr>\n",
       "  </tbody>\n",
       "</table>\n",
       "</div>"
      ],
      "text/plain": [
       "        A    B    C    D\n",
       "Row 1   1   10   20   31\n",
       "Row 2   2   20   40   62\n",
       "Row 3   3   30   60   93\n",
       "Row 4   4   40   80  124\n",
       "Row 5  10  100  200  310"
      ]
     },
     "execution_count": 10,
     "metadata": {},
     "output_type": "execute_result"
    }
   ],
   "source": [
    "df.loc['Row 5'] = df.apply(custom_sum, axis=0)\n",
    "df"
   ]
  },
  {
   "cell_type": "code",
   "execution_count": 11,
   "id": "1e5c3d1e",
   "metadata": {},
   "outputs": [
    {
     "data": {
      "text/html": [
       "<div>\n",
       "<style scoped>\n",
       "    .dataframe tbody tr th:only-of-type {\n",
       "        vertical-align: middle;\n",
       "    }\n",
       "\n",
       "    .dataframe tbody tr th {\n",
       "        vertical-align: top;\n",
       "    }\n",
       "\n",
       "    .dataframe thead th {\n",
       "        text-align: right;\n",
       "    }\n",
       "</style>\n",
       "<table border=\"1\" class=\"dataframe\">\n",
       "  <thead>\n",
       "    <tr style=\"text-align: right;\">\n",
       "      <th></th>\n",
       "      <th>A</th>\n",
       "      <th>B</th>\n",
       "      <th>C</th>\n",
       "      <th>D</th>\n",
       "      <th>E</th>\n",
       "    </tr>\n",
       "  </thead>\n",
       "  <tbody>\n",
       "    <tr>\n",
       "      <th>Row 1</th>\n",
       "      <td>1</td>\n",
       "      <td>10</td>\n",
       "      <td>20</td>\n",
       "      <td>31</td>\n",
       "      <td>40</td>\n",
       "    </tr>\n",
       "    <tr>\n",
       "      <th>Row 2</th>\n",
       "      <td>2</td>\n",
       "      <td>20</td>\n",
       "      <td>40</td>\n",
       "      <td>62</td>\n",
       "      <td>80</td>\n",
       "    </tr>\n",
       "    <tr>\n",
       "      <th>Row 3</th>\n",
       "      <td>3</td>\n",
       "      <td>30</td>\n",
       "      <td>60</td>\n",
       "      <td>93</td>\n",
       "      <td>120</td>\n",
       "    </tr>\n",
       "    <tr>\n",
       "      <th>Row 4</th>\n",
       "      <td>4</td>\n",
       "      <td>40</td>\n",
       "      <td>80</td>\n",
       "      <td>124</td>\n",
       "      <td>160</td>\n",
       "    </tr>\n",
       "    <tr>\n",
       "      <th>Row 5</th>\n",
       "      <td>10</td>\n",
       "      <td>100</td>\n",
       "      <td>200</td>\n",
       "      <td>310</td>\n",
       "      <td>400</td>\n",
       "    </tr>\n",
       "  </tbody>\n",
       "</table>\n",
       "</div>"
      ],
      "text/plain": [
       "        A    B    C    D    E\n",
       "Row 1   1   10   20   31   40\n",
       "Row 2   2   20   40   62   80\n",
       "Row 3   3   30   60   93  120\n",
       "Row 4   4   40   80  124  160\n",
       "Row 5  10  100  200  310  400"
      ]
     },
     "execution_count": 11,
     "metadata": {},
     "output_type": "execute_result"
    }
   ],
   "source": [
    "df['E'] = df['C'].apply(lambda x:x*2)\n",
    "df"
   ]
  },
  {
   "cell_type": "code",
   "execution_count": 12,
   "id": "49474ad0",
   "metadata": {},
   "outputs": [],
   "source": [
    "def cal_multi_col(row):\n",
    "    return [row['A'] * 2, row['B'] * 3]"
   ]
  },
  {
   "cell_type": "code",
   "execution_count": 13,
   "id": "27da710a",
   "metadata": {},
   "outputs": [
    {
     "data": {
      "text/html": [
       "<div>\n",
       "<style scoped>\n",
       "    .dataframe tbody tr th:only-of-type {\n",
       "        vertical-align: middle;\n",
       "    }\n",
       "\n",
       "    .dataframe tbody tr th {\n",
       "        vertical-align: top;\n",
       "    }\n",
       "\n",
       "    .dataframe thead th {\n",
       "        text-align: right;\n",
       "    }\n",
       "</style>\n",
       "<table border=\"1\" class=\"dataframe\">\n",
       "  <thead>\n",
       "    <tr style=\"text-align: right;\">\n",
       "      <th></th>\n",
       "      <th>A</th>\n",
       "      <th>B</th>\n",
       "      <th>C</th>\n",
       "      <th>D</th>\n",
       "      <th>E</th>\n",
       "      <th>0</th>\n",
       "      <th>1</th>\n",
       "    </tr>\n",
       "  </thead>\n",
       "  <tbody>\n",
       "    <tr>\n",
       "      <th>Row 1</th>\n",
       "      <td>1</td>\n",
       "      <td>10</td>\n",
       "      <td>20</td>\n",
       "      <td>31</td>\n",
       "      <td>40</td>\n",
       "      <td>2</td>\n",
       "      <td>30</td>\n",
       "    </tr>\n",
       "    <tr>\n",
       "      <th>Row 2</th>\n",
       "      <td>2</td>\n",
       "      <td>20</td>\n",
       "      <td>40</td>\n",
       "      <td>62</td>\n",
       "      <td>80</td>\n",
       "      <td>4</td>\n",
       "      <td>60</td>\n",
       "    </tr>\n",
       "    <tr>\n",
       "      <th>Row 3</th>\n",
       "      <td>3</td>\n",
       "      <td>30</td>\n",
       "      <td>60</td>\n",
       "      <td>93</td>\n",
       "      <td>120</td>\n",
       "      <td>6</td>\n",
       "      <td>90</td>\n",
       "    </tr>\n",
       "    <tr>\n",
       "      <th>Row 4</th>\n",
       "      <td>4</td>\n",
       "      <td>40</td>\n",
       "      <td>80</td>\n",
       "      <td>124</td>\n",
       "      <td>160</td>\n",
       "      <td>8</td>\n",
       "      <td>120</td>\n",
       "    </tr>\n",
       "    <tr>\n",
       "      <th>Row 5</th>\n",
       "      <td>10</td>\n",
       "      <td>100</td>\n",
       "      <td>200</td>\n",
       "      <td>310</td>\n",
       "      <td>400</td>\n",
       "      <td>20</td>\n",
       "      <td>300</td>\n",
       "    </tr>\n",
       "  </tbody>\n",
       "</table>\n",
       "</div>"
      ],
      "text/plain": [
       "        A    B    C    D    E   0    1\n",
       "Row 1   1   10   20   31   40   2   30\n",
       "Row 2   2   20   40   62   80   4   60\n",
       "Row 3   3   30   60   93  120   6   90\n",
       "Row 4   4   40   80  124  160   8  120\n",
       "Row 5  10  100  200  310  400  20  300"
      ]
     },
     "execution_count": 13,
     "metadata": {},
     "output_type": "execute_result"
    }
   ],
   "source": [
    "res = df.apply(cal_multi_col, axis=1, result_type='expand')\n",
    "df[res.columns] = res\n",
    "df"
   ]
  },
  {
   "cell_type": "code",
   "execution_count": 14,
   "id": "86dcd0bf",
   "metadata": {},
   "outputs": [
    {
     "data": {
      "text/html": [
       "<div>\n",
       "<style scoped>\n",
       "    .dataframe tbody tr th:only-of-type {\n",
       "        vertical-align: middle;\n",
       "    }\n",
       "\n",
       "    .dataframe tbody tr th {\n",
       "        vertical-align: top;\n",
       "    }\n",
       "\n",
       "    .dataframe thead th {\n",
       "        text-align: right;\n",
       "    }\n",
       "</style>\n",
       "<table border=\"1\" class=\"dataframe\">\n",
       "  <thead>\n",
       "    <tr style=\"text-align: right;\">\n",
       "      <th></th>\n",
       "      <th>A</th>\n",
       "      <th>B</th>\n",
       "      <th>C</th>\n",
       "      <th>D</th>\n",
       "      <th>E</th>\n",
       "      <th>0</th>\n",
       "      <th>1</th>\n",
       "      <th>New</th>\n",
       "    </tr>\n",
       "  </thead>\n",
       "  <tbody>\n",
       "    <tr>\n",
       "      <th>Row 1</th>\n",
       "      <td>1</td>\n",
       "      <td>10</td>\n",
       "      <td>20</td>\n",
       "      <td>31</td>\n",
       "      <td>40</td>\n",
       "      <td>2</td>\n",
       "      <td>30</td>\n",
       "      <td>[2, 30]</td>\n",
       "    </tr>\n",
       "    <tr>\n",
       "      <th>Row 2</th>\n",
       "      <td>2</td>\n",
       "      <td>20</td>\n",
       "      <td>40</td>\n",
       "      <td>62</td>\n",
       "      <td>80</td>\n",
       "      <td>4</td>\n",
       "      <td>60</td>\n",
       "      <td>[4, 60]</td>\n",
       "    </tr>\n",
       "    <tr>\n",
       "      <th>Row 3</th>\n",
       "      <td>3</td>\n",
       "      <td>30</td>\n",
       "      <td>60</td>\n",
       "      <td>93</td>\n",
       "      <td>120</td>\n",
       "      <td>6</td>\n",
       "      <td>90</td>\n",
       "      <td>[6, 90]</td>\n",
       "    </tr>\n",
       "    <tr>\n",
       "      <th>Row 4</th>\n",
       "      <td>4</td>\n",
       "      <td>40</td>\n",
       "      <td>80</td>\n",
       "      <td>124</td>\n",
       "      <td>160</td>\n",
       "      <td>8</td>\n",
       "      <td>120</td>\n",
       "      <td>[8, 120]</td>\n",
       "    </tr>\n",
       "    <tr>\n",
       "      <th>Row 5</th>\n",
       "      <td>10</td>\n",
       "      <td>100</td>\n",
       "      <td>200</td>\n",
       "      <td>310</td>\n",
       "      <td>400</td>\n",
       "      <td>20</td>\n",
       "      <td>300</td>\n",
       "      <td>[20, 300]</td>\n",
       "    </tr>\n",
       "  </tbody>\n",
       "</table>\n",
       "</div>"
      ],
      "text/plain": [
       "        A    B    C    D    E   0    1        New\n",
       "Row 1   1   10   20   31   40   2   30    [2, 30]\n",
       "Row 2   2   20   40   62   80   4   60    [4, 60]\n",
       "Row 3   3   30   60   93  120   6   90    [6, 90]\n",
       "Row 4   4   40   80  124  160   8  120   [8, 120]\n",
       "Row 5  10  100  200  310  400  20  300  [20, 300]"
      ]
     },
     "execution_count": 14,
     "metadata": {},
     "output_type": "execute_result"
    }
   ],
   "source": [
    "df['New'] = df.apply(cal_multi_col, axis=1, result_type='reduce')\n",
    "df"
   ]
  },
  {
   "cell_type": "code",
   "execution_count": 17,
   "id": "cee38cee",
   "metadata": {},
   "outputs": [
    {
     "data": {
      "text/html": [
       "<div>\n",
       "<style scoped>\n",
       "    .dataframe tbody tr th:only-of-type {\n",
       "        vertical-align: middle;\n",
       "    }\n",
       "\n",
       "    .dataframe tbody tr th {\n",
       "        vertical-align: top;\n",
       "    }\n",
       "\n",
       "    .dataframe thead th {\n",
       "        text-align: right;\n",
       "    }\n",
       "</style>\n",
       "<table border=\"1\" class=\"dataframe\">\n",
       "  <thead>\n",
       "    <tr style=\"text-align: right;\">\n",
       "      <th></th>\n",
       "      <th>A</th>\n",
       "      <th>B</th>\n",
       "      <th>C</th>\n",
       "      <th>D</th>\n",
       "      <th>E</th>\n",
       "      <th>0</th>\n",
       "      <th>1</th>\n",
       "      <th>New</th>\n",
       "    </tr>\n",
       "  </thead>\n",
       "  <tbody>\n",
       "    <tr>\n",
       "      <th>Row 1</th>\n",
       "      <td>1</td>\n",
       "      <td>10</td>\n",
       "      <td>20</td>\n",
       "      <td>31</td>\n",
       "      <td>40</td>\n",
       "      <td>2</td>\n",
       "      <td>30</td>\n",
       "      <td>[2, 30]</td>\n",
       "    </tr>\n",
       "    <tr>\n",
       "      <th>Row 2</th>\n",
       "      <td>2</td>\n",
       "      <td>20</td>\n",
       "      <td>40</td>\n",
       "      <td>62</td>\n",
       "      <td>80</td>\n",
       "      <td>4</td>\n",
       "      <td>60</td>\n",
       "      <td>[4, 60]</td>\n",
       "    </tr>\n",
       "    <tr>\n",
       "      <th>Row 3</th>\n",
       "      <td>3</td>\n",
       "      <td>30</td>\n",
       "      <td>60</td>\n",
       "      <td>93</td>\n",
       "      <td>120</td>\n",
       "      <td>6</td>\n",
       "      <td>90</td>\n",
       "      <td>[6, 90]</td>\n",
       "    </tr>\n",
       "    <tr>\n",
       "      <th>Row 4</th>\n",
       "      <td>4</td>\n",
       "      <td>40</td>\n",
       "      <td>80</td>\n",
       "      <td>124</td>\n",
       "      <td>160</td>\n",
       "      <td>8</td>\n",
       "      <td>120</td>\n",
       "      <td>[8, 120]</td>\n",
       "    </tr>\n",
       "    <tr>\n",
       "      <th>Row 5</th>\n",
       "      <td>10</td>\n",
       "      <td>100</td>\n",
       "      <td>200</td>\n",
       "      <td>310</td>\n",
       "      <td>400</td>\n",
       "      <td>20</td>\n",
       "      <td>300</td>\n",
       "      <td>[20, 300]</td>\n",
       "    </tr>\n",
       "  </tbody>\n",
       "</table>\n",
       "</div>"
      ],
      "text/plain": [
       "        A    B    C    D    E   0    1        New\n",
       "Row 1   1   10   20   31   40   2   30    [2, 30]\n",
       "Row 2   2   20   40   62   80   4   60    [4, 60]\n",
       "Row 3   3   30   60   93  120   6   90    [6, 90]\n",
       "Row 4   4   40   80  124  160   8  120   [8, 120]\n",
       "Row 5  10  100  200  310  400  20  300  [20, 300]"
      ]
     },
     "execution_count": 17,
     "metadata": {},
     "output_type": "execute_result"
    }
   ],
   "source": [
    "import numpy as np\n",
    "#df.applymap(np.square)\n",
    "df"
   ]
  },
  {
   "cell_type": "markdown",
   "id": "42209cf3",
   "metadata": {},
   "source": [
    "### Duplicated Rows\n",
    "Description\n",
    "The given Dataframe 'rating' has repeated rows. You need to remove the duplicated rows. \n"
   ]
  },
  {
   "cell_type": "code",
   "execution_count": 43,
   "id": "b77f1659",
   "metadata": {},
   "outputs": [],
   "source": [
    "import pandas as pd\n",
    "rating = pd.read_csv('https://media-doselect.s3.amazonaws.com/generic/N45BN5xqWKpKNEnZP1qGKk5V3/rating_final.csv')\n"
   ]
  },
  {
   "cell_type": "code",
   "execution_count": 47,
   "id": "b0898496",
   "metadata": {},
   "outputs": [],
   "source": [
    "rating_update  = rating.drop_duplicates()"
   ]
  },
  {
   "cell_type": "code",
   "execution_count": 48,
   "id": "885ddfd8",
   "metadata": {},
   "outputs": [
    {
     "name": "stdout",
     "output_type": "stream",
     "text": [
      "(1254, 5)\n",
      "(1149, 5)\n"
     ]
    }
   ],
   "source": [
    "print(rating.shape)\n",
    "print(rating_update.shape)"
   ]
  },
  {
   "cell_type": "markdown",
   "id": "2824c97e",
   "metadata": {},
   "source": [
    "### Derived Variable\n",
    "Description\n",
    "The given dataset 'cust_rating' has 3 columns i.e 'rating', ' food_rating', 'service_rating'. Create a new variable 'avg_rating'.\n"
   ]
  },
  {
   "cell_type": "code",
   "execution_count": 50,
   "id": "013347da",
   "metadata": {},
   "outputs": [
    {
     "data": {
      "text/html": [
       "<div>\n",
       "<style scoped>\n",
       "    .dataframe tbody tr th:only-of-type {\n",
       "        vertical-align: middle;\n",
       "    }\n",
       "\n",
       "    .dataframe tbody tr th {\n",
       "        vertical-align: top;\n",
       "    }\n",
       "\n",
       "    .dataframe thead th {\n",
       "        text-align: right;\n",
       "    }\n",
       "</style>\n",
       "<table border=\"1\" class=\"dataframe\">\n",
       "  <thead>\n",
       "    <tr style=\"text-align: right;\">\n",
       "      <th></th>\n",
       "      <th>userID</th>\n",
       "      <th>placeID</th>\n",
       "      <th>rating</th>\n",
       "      <th>food_rating</th>\n",
       "      <th>service_rating</th>\n",
       "    </tr>\n",
       "  </thead>\n",
       "  <tbody>\n",
       "    <tr>\n",
       "      <th>0</th>\n",
       "      <td>U1077</td>\n",
       "      <td>135085</td>\n",
       "      <td>2</td>\n",
       "      <td>2</td>\n",
       "      <td>2</td>\n",
       "    </tr>\n",
       "    <tr>\n",
       "      <th>1</th>\n",
       "      <td>U1077</td>\n",
       "      <td>135038</td>\n",
       "      <td>2</td>\n",
       "      <td>2</td>\n",
       "      <td>1</td>\n",
       "    </tr>\n",
       "    <tr>\n",
       "      <th>2</th>\n",
       "      <td>U1077</td>\n",
       "      <td>132825</td>\n",
       "      <td>2</td>\n",
       "      <td>2</td>\n",
       "      <td>2</td>\n",
       "    </tr>\n",
       "    <tr>\n",
       "      <th>3</th>\n",
       "      <td>U1077</td>\n",
       "      <td>135060</td>\n",
       "      <td>1</td>\n",
       "      <td>2</td>\n",
       "      <td>2</td>\n",
       "    </tr>\n",
       "    <tr>\n",
       "      <th>4</th>\n",
       "      <td>U1068</td>\n",
       "      <td>135104</td>\n",
       "      <td>1</td>\n",
       "      <td>1</td>\n",
       "      <td>2</td>\n",
       "    </tr>\n",
       "    <tr>\n",
       "      <th>...</th>\n",
       "      <td>...</td>\n",
       "      <td>...</td>\n",
       "      <td>...</td>\n",
       "      <td>...</td>\n",
       "      <td>...</td>\n",
       "    </tr>\n",
       "    <tr>\n",
       "      <th>1249</th>\n",
       "      <td>U1043</td>\n",
       "      <td>132630</td>\n",
       "      <td>1</td>\n",
       "      <td>1</td>\n",
       "      <td>1</td>\n",
       "    </tr>\n",
       "    <tr>\n",
       "      <th>1250</th>\n",
       "      <td>U1011</td>\n",
       "      <td>132715</td>\n",
       "      <td>1</td>\n",
       "      <td>1</td>\n",
       "      <td>0</td>\n",
       "    </tr>\n",
       "    <tr>\n",
       "      <th>1251</th>\n",
       "      <td>U1068</td>\n",
       "      <td>132733</td>\n",
       "      <td>1</td>\n",
       "      <td>1</td>\n",
       "      <td>0</td>\n",
       "    </tr>\n",
       "    <tr>\n",
       "      <th>1252</th>\n",
       "      <td>U1068</td>\n",
       "      <td>132594</td>\n",
       "      <td>1</td>\n",
       "      <td>1</td>\n",
       "      <td>1</td>\n",
       "    </tr>\n",
       "    <tr>\n",
       "      <th>1253</th>\n",
       "      <td>U1068</td>\n",
       "      <td>132660</td>\n",
       "      <td>0</td>\n",
       "      <td>0</td>\n",
       "      <td>0</td>\n",
       "    </tr>\n",
       "  </tbody>\n",
       "</table>\n",
       "<p>1254 rows × 5 columns</p>\n",
       "</div>"
      ],
      "text/plain": [
       "     userID  placeID  rating  food_rating  service_rating\n",
       "0     U1077   135085       2            2               2\n",
       "1     U1077   135038       2            2               1\n",
       "2     U1077   132825       2            2               2\n",
       "3     U1077   135060       1            2               2\n",
       "4     U1068   135104       1            1               2\n",
       "...     ...      ...     ...          ...             ...\n",
       "1249  U1043   132630       1            1               1\n",
       "1250  U1011   132715       1            1               0\n",
       "1251  U1068   132733       1            1               0\n",
       "1252  U1068   132594       1            1               1\n",
       "1253  U1068   132660       0            0               0\n",
       "\n",
       "[1254 rows x 5 columns]"
      ]
     },
     "execution_count": 50,
     "metadata": {},
     "output_type": "execute_result"
    }
   ],
   "source": [
    "import pandas as pd\n",
    "cust_rating = pd.read_csv('https://media-doselect.s3.amazonaws.com/generic/GvOkzy5MLdy9zJ8vXMArwpRvN/rating_final.csv')\n",
    "cust_rating"
   ]
  },
  {
   "cell_type": "code",
   "execution_count": 60,
   "id": "cd260446",
   "metadata": {},
   "outputs": [],
   "source": [
    "#cust_rating['avg_rating'] = round( (cust_rating['rating']+ cust_rating['food_rating']+ cust_rating['service_rating'])/3)\n",
    "#cust_rating['avg_rating'] = cust_rating.apply(lambda x:int(x.sum()/3), axis=1)\n",
    "cust_rating['avg_rating']  = round(cust_rating.iloc[:,-3:].sum(axis=1)/3)"
   ]
  },
  {
   "cell_type": "code",
   "execution_count": 61,
   "id": "634111ea",
   "metadata": {},
   "outputs": [
    {
     "name": "stdout",
     "output_type": "stream",
     "text": [
      "  userID  placeID  rating  food_rating  service_rating  avg_rating\n",
      "0  U1077   135085       2            2               2         2.0\n",
      "1  U1077   135038       2            2               1         2.0\n",
      "2  U1077   132825       2            2               2         2.0\n",
      "3  U1077   135060       1            2               2         2.0\n",
      "4  U1068   135104       1            1               2         1.0\n",
      "5  U1068   132740       0            0               0         0.0\n",
      "6  U1068   132663       1            1               1         1.0\n",
      "7  U1068   132732       0            0               0         0.0\n",
      "8  U1068   132630       1            1               1         1.0\n",
      "9  U1067   132584       2            2               2         2.0\n"
     ]
    }
   ],
   "source": [
    "print(cust_rating.head(10))"
   ]
  },
  {
   "cell_type": "code",
   "execution_count": null,
   "id": "bc5cb0c8",
   "metadata": {},
   "outputs": [],
   "source": []
  },
  {
   "cell_type": "markdown",
   "id": "578abee7",
   "metadata": {},
   "source": [
    "### Extracting Day From a Date\n",
    "Description\n",
    "The given dataset 'order' has a variable 'Order_Date' with the dates of purchase.\n",
    "Create a new variable 'day' which will contain the day from the date at variable Order_Date.\n"
   ]
  },
  {
   "cell_type": "code",
   "execution_count": 62,
   "id": "b003991b",
   "metadata": {},
   "outputs": [],
   "source": [
    "import pandas as pd\n",
    "order = pd.read_csv('https://media-doselect.s3.amazonaws.com/generic/0gjkvLLgNdQLqG10jo5yyJyjK/orders_dimen.csv')"
   ]
  },
  {
   "cell_type": "code",
   "execution_count": 65,
   "id": "9a1fe578",
   "metadata": {},
   "outputs": [
    {
     "name": "stdout",
     "output_type": "stream",
     "text": [
      "   Order_ID Order_Date Order_Priority  Ord_id  day\n",
      "0         3 2010-10-13            LOW   Ord_1   13\n",
      "1       293 2012-01-10           HIGH   Ord_2   10\n",
      "2       483 2011-10-07           HIGH   Ord_3    7\n",
      "3       515 2010-08-28  NOT SPECIFIED   Ord_4   28\n",
      "4       613 2011-06-17           HIGH   Ord_5   17\n",
      "5       643 2011-03-24           HIGH   Ord_6   24\n",
      "6       678 2010-02-26            LOW   Ord_7   26\n",
      "7       807 2010-11-23         MEDIUM   Ord_8   23\n",
      "8       868 2012-08-06  NOT SPECIFIED   Ord_9    6\n",
      "9       933 2012-04-08  NOT SPECIFIED  Ord_10    8\n"
     ]
    }
   ],
   "source": [
    "#order['day'] =order['Order_Date'].dt.day\n",
    "\n",
    "order['Order_Date'] = pd.to_datetime(order['Order_Date'])\n",
    "order['day']= order.Order_Date.apply(lambda x:x.day)\n",
    "print(order.head(10))"
   ]
  },
  {
   "cell_type": "markdown",
   "id": "8304282e",
   "metadata": {},
   "source": [
    "### Generating Binomial Distribution\n",
    "Description\n",
    "Generate a binomial distribution, tested 10 times, given the number of trials(n) and probability(p) of each trial.\n",
    "The input will contain seed, n and p in the same order.\n",
    "The output should contain a numpy array with 10 numbers representing the required binomial distribution.\n",
    "Hint: You can use numpy's random number generator here too. Remember to set the seed before generating numbers to ensure correct output"
   ]
  },
  {
   "cell_type": "code",
   "execution_count": 70,
   "id": "d6611796",
   "metadata": {},
   "outputs": [
    {
     "name": "stdout",
     "output_type": "stream",
     "text": [
      "4\n",
      "5\n",
      "10\n"
     ]
    },
    {
     "ename": "ValueError",
     "evalue": "p < 0, p > 1 or p is NaN",
     "output_type": "error",
     "traceback": [
      "\u001b[0;31m---------------------------------------------------------------------------\u001b[0m",
      "\u001b[0;31mValueError\u001b[0m                                Traceback (most recent call last)",
      "\u001b[0;32m/var/folders/43/859d2zb56t3_rbldq_3tyncmhd0n5m/T/ipykernel_2106/4163042510.py\u001b[0m in \u001b[0;36m<module>\u001b[0;34m\u001b[0m\n\u001b[1;32m      5\u001b[0m \u001b[0;34m\u001b[0m\u001b[0m\n\u001b[1;32m      6\u001b[0m \u001b[0mnp\u001b[0m\u001b[0;34m.\u001b[0m\u001b[0mrandom\u001b[0m\u001b[0;34m.\u001b[0m\u001b[0mseed\u001b[0m\u001b[0;34m(\u001b[0m\u001b[0mseed\u001b[0m\u001b[0;34m)\u001b[0m\u001b[0;34m\u001b[0m\u001b[0;34m\u001b[0m\u001b[0m\n\u001b[0;32m----> 7\u001b[0;31m \u001b[0ms\u001b[0m \u001b[0;34m=\u001b[0m \u001b[0mnp\u001b[0m\u001b[0;34m.\u001b[0m\u001b[0mrandom\u001b[0m\u001b[0;34m.\u001b[0m\u001b[0mbinomial\u001b[0m\u001b[0;34m(\u001b[0m\u001b[0mn\u001b[0m\u001b[0;34m,\u001b[0m\u001b[0mp\u001b[0m\u001b[0;34m,\u001b[0m\u001b[0;36m10\u001b[0m\u001b[0;34m)\u001b[0m\u001b[0;34m\u001b[0m\u001b[0;34m\u001b[0m\u001b[0m\n\u001b[0m\u001b[1;32m      8\u001b[0m \u001b[0;34m\u001b[0m\u001b[0m\n\u001b[1;32m      9\u001b[0m \u001b[0mprint\u001b[0m\u001b[0;34m(\u001b[0m\u001b[0ms\u001b[0m\u001b[0;34m)\u001b[0m\u001b[0;34m\u001b[0m\u001b[0;34m\u001b[0m\u001b[0m\n",
      "\u001b[0;32mmtrand.pyx\u001b[0m in \u001b[0;36mnumpy.random.mtrand.RandomState.binomial\u001b[0;34m()\u001b[0m\n",
      "\u001b[0;32m_common.pyx\u001b[0m in \u001b[0;36mnumpy.random._common.check_constraint\u001b[0;34m()\u001b[0m\n",
      "\u001b[0;31mValueError\u001b[0m: p < 0, p > 1 or p is NaN"
     ]
    }
   ],
   "source": [
    "import numpy as np\n",
    "seed = int(input())\n",
    "n=int(input())\n",
    "p=float(input())\n",
    "\n",
    "np.random.seed(seed)\n",
    "s = np.random.binomial(n,p,10)\n",
    "\n",
    "print(s)"
   ]
  },
  {
   "cell_type": "markdown",
   "id": "e7023f9b",
   "metadata": {},
   "source": [
    "### Coloured cards\n",
    "Description\n",
    "A card stack contains white and black cards. Two cards are drawn randomly without replacement. The probability of selecting a white and then a black card is x. The probability of selecting a white card in the first draw is y. You have to find the probability of drawing a black card, given that the first card drawn was white.\n",
    "The input will contain two lines with x and y respectively.  \n",
    "The output should be displayed as a float(no need to round it off)."
   ]
  },
  {
   "cell_type": "code",
   "execution_count": 2,
   "id": "c2ceef20",
   "metadata": {},
   "outputs": [
    {
     "name": "stdout",
     "output_type": "stream",
     "text": [
      "10\n",
      "5\n",
      "2.0\n"
     ]
    }
   ],
   "source": [
    "x=float(input())\n",
    "y=float(input())\n",
    "#write your code here\n",
    "#P(W) = y and P(B intersection W) = x......P(z) = x/y\n",
    "z = x/y\n",
    "print(z)"
   ]
  },
  {
   "cell_type": "markdown",
   "id": "92e7e50a",
   "metadata": {},
   "source": [
    "### Entrance Test\n",
    "Description\n",
    "Consider that the scores of an entrance test are normally distributed. \n",
    "If the test has a mean of m and a standard deviation of s.\n",
    "You have set the cut off as 90 marks for the test. What is the probability of a student passing the test?\n",
    "The input will contain m and s in two lines in the same order. The output has to be rounded off to two decimal places.\n",
    "\n",
    "Please note that if the answer is 3.6, it is to be reported as 3.6 and not 3.60\n"
   ]
  },
  {
   "cell_type": "code",
   "execution_count": 77,
   "id": "88ba90dd",
   "metadata": {},
   "outputs": [
    {
     "name": "stdout",
     "output_type": "stream",
     "text": [
      "90\n",
      "10\n",
      "0.5\n"
     ]
    }
   ],
   "source": [
    "import scipy.stats\n",
    "\n",
    "m=float(input())#mean\n",
    "sd=float(input())#standard deviation\n",
    "\n",
    "\n",
    "print(round(1-scipy.stats.norm(m,sd).cdf(90),2))"
   ]
  },
  {
   "cell_type": "markdown",
   "id": "966632df",
   "metadata": {},
   "source": [
    "### Seating Arrangement\n",
    "Description\n",
    "N people sit around a circular table. You have to find the probability that two particular people won't be sitting together.\n",
    "\n",
    "The input will have the number N and the output should have the probability printed as a float type number rounded off to four decimal places.\n",
    "\n",
    "Hint: This problem follows the logic of circular permutation which you can read about here.\n"
   ]
  },
  {
   "cell_type": "code",
   "execution_count": 7,
   "id": "ba065439",
   "metadata": {},
   "outputs": [
    {
     "name": "stdout",
     "output_type": "stream",
     "text": [
      "10\n",
      "0.7778\n"
     ]
    }
   ],
   "source": [
    "n=int(input())\n",
    "result = round((n-3)/(n-1),4)\n",
    "print(result)"
   ]
  },
  {
   "cell_type": "code",
   "execution_count": 8,
   "id": "9a7c0193",
   "metadata": {},
   "outputs": [
    {
     "name": "stdout",
     "output_type": "stream",
     "text": [
      "10\n",
      "0.7778\n"
     ]
    }
   ],
   "source": [
    "int(input())\n",
    "import math\n",
    "print(round(1-math.factorial(n-2)*math.factorial(2)/math.factorial(n-1),4))\n"
   ]
  },
  {
   "cell_type": "markdown",
   "id": "87d2584c",
   "metadata": {},
   "source": [
    "### Flatten a list\n",
    "\n",
    "Description\n",
    "Given a nested list, write python code to flatten the list.\n",
    "Note: The input list will strictly have 2 levels, i.e. the list will be of the form [[1,2],[3,4]]. Inputs like [1,[2,3]] and [[1,[2,3],4],5] are not applicable."
   ]
  },
  {
   "cell_type": "code",
   "execution_count": 94,
   "id": "5e180ea2",
   "metadata": {},
   "outputs": [
    {
     "name": "stdout",
     "output_type": "stream",
     "text": [
      "[1, 2, 3, 4, 5, 6, 7, 8, 9]\n"
     ]
    }
   ],
   "source": [
    "import ast,sys\n",
    "#input_str = sys.stdin.read()\n",
    "#input_list = ast.literal_eval(input_str)\n",
    "input_list = [[1,2,3],[4,5],[6,7,8,9]]\n",
    "\n",
    "flat_list = []\n",
    "def flatten_list(input_list):\n",
    "    for sublist in input_list:\n",
    "        for item in sublist:\n",
    "            flat_list.append(item)\n",
    "\n",
    "flatten_list(input_list)       \n",
    "print(flat_list)       "
   ]
  },
  {
   "cell_type": "code",
   "execution_count": 95,
   "id": "53bf80ec",
   "metadata": {},
   "outputs": [
    {
     "data": {
      "text/plain": [
       "[1, 2, 3, 4, 5, 6, 7, 8, 9]"
      ]
     },
     "execution_count": 95,
     "metadata": {},
     "output_type": "execute_result"
    }
   ],
   "source": [
    "import itertools\n",
    "\n",
    "input_list = [[1,2,3],[4,5],[6,7,8,9]]\n",
    "flat_list = [item for sublist in input_list for item in sublist]\n",
    "flat_list\n"
   ]
  },
  {
   "cell_type": "markdown",
   "id": "ec290f98",
   "metadata": {},
   "source": [
    "### Squares\n",
    "Description\n",
    "Given a list of positive integers, you have to find numbers divisible by 3 and replace them with their squares. \n",
    "For example, consider the list below:\n",
    "Input: [1,2,3,4,5,6]\n",
    "The output for the above list would be: [1,2,9,4,5,36]. Because 3 and 6 were divisible by 3, these numbers were replaced with their squares."
   ]
  },
  {
   "cell_type": "code",
   "execution_count": 11,
   "id": "cb8ddf6c",
   "metadata": {},
   "outputs": [
    {
     "name": "stdout",
     "output_type": "stream",
     "text": [
      "[1, 2, 9, 4, 5, 36]\n"
     ]
    }
   ],
   "source": [
    "import ast,sys\n",
    "#input_str = sys.stdin.read()\n",
    "#input_list = ast.literal_eval(input_str)\n",
    "input_list = [1,2,3,4,5,6]\n",
    "\n",
    "for i in range(len(input_list)):\n",
    "    if input_list[i]%3==0:\n",
    "        input_list[i] = input_list[i]**2\n",
    "        \n",
    "print(input_list)"
   ]
  },
  {
   "cell_type": "code",
   "execution_count": 100,
   "id": "c4202a19",
   "metadata": {},
   "outputs": [
    {
     "data": {
      "text/plain": [
       "[1, 2, 9, 4, 5, 36]"
      ]
     },
     "execution_count": 100,
     "metadata": {},
     "output_type": "execute_result"
    }
   ],
   "source": [
    "input_list = [1,2,3,4,5,6]\n",
    "squared_list = [ item**2 if item%3==0 else item for item in input_list]\n",
    "squared_list"
   ]
  },
  {
   "cell_type": "markdown",
   "id": "b7b38d17",
   "metadata": {},
   "source": [
    "### A weird sum\n",
    "Description\n",
    "Write a program that computes the value of n+nn+nnn+nnnn with a given digit as the value of n.\n",
    "For example, if n=9 , then you have to find the value of 9+99+999+9999.\n"
   ]
  },
  {
   "cell_type": "code",
   "execution_count": 102,
   "id": "5abd4341",
   "metadata": {},
   "outputs": [
    {
     "name": "stdout",
     "output_type": "stream",
     "text": [
      "9\n",
      "11106\n"
     ]
    }
   ],
   "source": [
    "n=int(input())\n",
    "temp=0\n",
    "weird_sum=0\n",
    "for i in range(4):\n",
    "    temp = n + temp*10\n",
    "    weird_sum += temp\n",
    "\n",
    "print(weird_sum)"
   ]
  },
  {
   "cell_type": "markdown",
   "id": "26e775fc",
   "metadata": {},
   "source": [
    "### Frequent Letters\n",
    "Description\n",
    "Given a string, you have to find the first n most frequent characters in it.\n",
    "\n",
    "You have to print these n letters in alphabetically sorted order.\n",
    "\n",
    "The input will contain two lines, the first line will contain a string and the second line will contain the letter n.\n",
    "\n",
    "The output should be a list of n most frequent letters in alphabetically sorted order.\n",
    "\n",
    "Note: If there are two letters with the same frequency, then the alphabetically preceding alphabet should be picked first. (For example, in \"aabbccc\", if n=2, then output list would have c and a.)\n",
    "\n",
    "Sample Input:\n",
    "\n",
    "ddddaacccb"
   ]
  },
  {
   "cell_type": "code",
   "execution_count": 16,
   "id": "174e84c2",
   "metadata": {},
   "outputs": [
    {
     "name": "stdout",
     "output_type": "stream",
     "text": [
      "ddddaacccb\n",
      "3\n",
      "['a', 'c', 'd']\n"
     ]
    }
   ],
   "source": [
    "string=input()\n",
    "n=int(input())\n",
    "\n",
    "def most_frequent_char(string,n):\n",
    "  freq_char = dict()\n",
    "  for char in string:\n",
    "    if char not in freq_char.keys():\n",
    "      freq_char[char] = 1\n",
    "    else:\n",
    "      freq_char[char] += 1\n",
    "\n",
    "  char_tuples = sorted(freq_char.items(), key=lambda x: (-x[1],x[0]))[:n]\n",
    "  \n",
    "  final_list = []\n",
    "  for chars in char_tuples:\n",
    "    final_list.append(chars[0])\n",
    "  return(sorted(final_list))\n",
    "\n",
    "print(most_frequent_char(string,n))"
   ]
  },
  {
   "cell_type": "code",
   "execution_count": 105,
   "id": "84095eb5",
   "metadata": {},
   "outputs": [
    {
     "name": "stdout",
     "output_type": "stream",
     "text": [
      "ddddcccaab\n",
      "3\n",
      "['a', 'c', 'd']\n"
     ]
    }
   ],
   "source": [
    "string=input()\n",
    "n=int(input())\n",
    "import collections\n",
    "out=[collections.Counter(string).most_common(i+1)[i][0] for i in range(n)]\n",
    "out.sort()\n",
    "print(out)"
   ]
  },
  {
   "cell_type": "markdown",
   "id": "5099a867",
   "metadata": {},
   "source": [
    "### 2D array\n",
    "Description\n",
    "Write Python code which takes 2 numbers x and y as input and generates a 2-dimensional numpy array where value in the i-th row and j-th column of the array should be (i+j)/2.\n",
    "Note: i=0,1,...x-1 and j=0,1....,y-1\n",
    "The input will have two lines with x and y respectively.\n",
    "The output should be a 2D numpy array."
   ]
  },
  {
   "cell_type": "code",
   "execution_count": 106,
   "id": "951d96b7",
   "metadata": {},
   "outputs": [
    {
     "name": "stdout",
     "output_type": "stream",
     "text": [
      "3\n",
      "4\n",
      "[[0.  0.5 1.  1.5]\n",
      " [0.5 1.  1.5 2. ]\n",
      " [1.  1.5 2.  2.5]]\n"
     ]
    }
   ],
   "source": [
    "import numpy as np\n",
    "x=int(input())\n",
    "y=int(input())\n",
    "\n",
    "def td_array(x,y):\n",
    "    return np.matrix([[(row+col)/2 for col in range(y)] for row in range(x)])\n",
    "\n",
    "print(td_array(x,y))"
   ]
  },
  {
   "cell_type": "code",
   "execution_count": 20,
   "id": "5c889ca8",
   "metadata": {},
   "outputs": [
    {
     "name": "stdout",
     "output_type": "stream",
     "text": [
      "3\n",
      "4\n",
      "[[0.  0.5 1.  1.5]\n",
      " [0.5 1.  1.5 2. ]\n",
      " [1.  1.5 2.  2.5]]\n"
     ]
    }
   ],
   "source": [
    "x=int(input())\n",
    "y=int(input())\n",
    "from numpy import zeros\n",
    "a = zeros([x,y])\n",
    "for row in range(x):\n",
    "    for col in range(y):\n",
    "        a[row][col]= (row+col)/2\n",
    "print(a)"
   ]
  },
  {
   "cell_type": "code",
   "execution_count": null,
   "id": "53efebf8",
   "metadata": {},
   "outputs": [],
   "source": []
  },
  {
   "cell_type": "markdown",
   "id": "cd81bd24",
   "metadata": {},
   "source": [
    "### Contiguous list\n",
    "Given a list as input, your task is to check if the list is strictly increasing. i.e. the numbers in the list should be in an increasing order. Hence, a number at a lower index should always be smaller than a number at a higher index.\n",
    "Assume that the list will only have positive integers.\n",
    "Print \"yes\" if the list is in strictly increasing order and print \"no\" if the list is not strictly increasing. \n",
    "\n",
    "Sample Input:\n",
    "[1,4,300,400,900]\n",
    "Sample Output:\n",
    "yes"
   ]
  },
  {
   "cell_type": "code",
   "execution_count": 110,
   "id": "c6853ce1",
   "metadata": {},
   "outputs": [
    {
     "name": "stdout",
     "output_type": "stream",
     "text": [
      "yes\n"
     ]
    }
   ],
   "source": [
    "import ast,sys\n",
    "#nput_str = sys.stdin.read()\n",
    "#input_list = ast.literal_eval(input_str)\n",
    "input_list = [1,3,4,400,900] \n",
    "if(all(i<j for i,j in zip(input_list, input_list[1:]))):\n",
    "    print(\"yes\")\n",
    "else:\n",
    "    print(\"no\")"
   ]
  },
  {
   "cell_type": "markdown",
   "id": "d4365603",
   "metadata": {},
   "source": [
    "### Odd or Even Sum\n",
    "Given a positive integer as input, you have to find whether the sum of its digits is odd or even.\n",
    "\n",
    "The input will have a positive integer and the output should say \"odd\" if the sum of its digits is odd and \"even\" if the sum of its digits is even.\n",
    "\n",
    "Sample Input:\n",
    "1234567\n",
    "Sample Output:\n",
    "even"
   ]
  },
  {
   "cell_type": "code",
   "execution_count": 120,
   "id": "440509eb",
   "metadata": {},
   "outputs": [
    {
     "name": "stdout",
     "output_type": "stream",
     "text": [
      "123\n",
      "even\n"
     ]
    }
   ],
   "source": [
    "n=int(input())\n",
    "if sum(map(int, str(n)))%2:\n",
    "    print(\"odd\")\n",
    "else:\n",
    "    print(\"even\")"
   ]
  },
  {
   "cell_type": "code",
   "execution_count": null,
   "id": "7a493d0a",
   "metadata": {},
   "outputs": [],
   "source": []
  },
  {
   "cell_type": "markdown",
   "id": "8aebb68f",
   "metadata": {},
   "source": [
    "### Vote for Food\n",
    "Your team is going for camping and you are taking a vote to decide what food to pack for dinner.\n",
    "Everyone gets a vote and the food item that gets at least one more than half of the votes wins. None of the items wins if nothing gets at least one more than half votes. Assume that every person gets only one vote.\n",
    "The input will contain a list of food items where each occurrence of an item represents one vote. You should print the winning food item as output. If there is no clear winner, print \"NOTA\". \n",
    "\n",
    "Sample Input:\n",
    "[\"pasta\",\"pasta\",\"pasta\",\"pasta\",\"pasta\",\"paratha\",\"paratha\",\"paratha\"]\n",
    "Sample Output:\n",
    "pasta\n"
   ]
  },
  {
   "cell_type": "code",
   "execution_count": 55,
   "id": "1d8d4018",
   "metadata": {},
   "outputs": [
    {
     "name": "stdout",
     "output_type": "stream",
     "text": [
      "pasta\n"
     ]
    }
   ],
   "source": [
    "import ast,sys\n",
    "#input_str = sys.stdin.read()\n",
    "#votes = ast.literal_eval(input_str)\n",
    "votes = [\"pasta\",\"pasta\",\"pasta\",\"pasta\",\"pasta\",\"paratha\",\"paratha\",\"paratha\"]\n",
    "\n",
    "flag = 0\n",
    "vote_size = len(votes) \n",
    "vote_values = {}\n",
    "\n",
    "for vote in votes:\n",
    "    if vote in vote_values:\n",
    "        vote_values[vote] += 1\n",
    "    else:\n",
    "        vote_values[vote] = 1\n",
    "        \n",
    "for vote_value in vote_values.keys():\n",
    "    if vote_values[vote_value] > vote_size/2:\n",
    "        print(vote_value)\n",
    "        flag = 1\n",
    "        break\n",
    "    \n",
    "if flag == 0 :\n",
    "    print(\"NOTA\")"
   ]
  },
  {
   "cell_type": "code",
   "execution_count": 124,
   "id": "973acab2",
   "metadata": {},
   "outputs": [
    {
     "name": "stdout",
     "output_type": "stream",
     "text": [
      "5\n",
      "{'paratha', 'pasta', 'banana'}\n",
      "pasta\n"
     ]
    }
   ],
   "source": [
    "votes = [\"pasta\",\"pasta\",\"pasta\",\"pasta\",\"pasta\",\"paratha\",\"paratha\",\"paratha\"]\n",
    "\n",
    "def dinner(votes):\n",
    "    for i in set(votes):\n",
    "        if votes.count(i)>len(votes)//2:\n",
    "            return i\n",
    "    return \"NOTA\"\n",
    "print(dinner(votes))"
   ]
  },
  {
   "cell_type": "markdown",
   "id": "2ca4eedc",
   "metadata": {},
   "source": [
    "### BMI Groups\n",
    "Description\n",
    "Create another feature based called BMI_group which groups people based on their BMI. The groups should be as follows:\n",
    "Underweight: BMI is less than 18.5.\n",
    "Normal: BMI is 18.5 to 24.9.\n",
    "Overweight: BMI is 25 to 29.9.\n",
    "Obese: BMI is 30 or more.\n",
    "The grouping is based on WHO standards.\n",
    "\n",
    "The output should have first five rows of the resulting dataframe"
   ]
  },
  {
   "cell_type": "code",
   "execution_count": 126,
   "id": "d27f3faf",
   "metadata": {},
   "outputs": [
    {
     "data": {
      "text/html": [
       "<div>\n",
       "<style scoped>\n",
       "    .dataframe tbody tr th:only-of-type {\n",
       "        vertical-align: middle;\n",
       "    }\n",
       "\n",
       "    .dataframe tbody tr th {\n",
       "        vertical-align: top;\n",
       "    }\n",
       "\n",
       "    .dataframe thead th {\n",
       "        text-align: right;\n",
       "    }\n",
       "</style>\n",
       "<table border=\"1\" class=\"dataframe\">\n",
       "  <thead>\n",
       "    <tr style=\"text-align: right;\">\n",
       "      <th></th>\n",
       "      <th>age</th>\n",
       "      <th>sex</th>\n",
       "      <th>bmi</th>\n",
       "      <th>children</th>\n",
       "      <th>smoker</th>\n",
       "      <th>region</th>\n",
       "      <th>charges</th>\n",
       "    </tr>\n",
       "  </thead>\n",
       "  <tbody>\n",
       "    <tr>\n",
       "      <th>0</th>\n",
       "      <td>19</td>\n",
       "      <td>female</td>\n",
       "      <td>27.900</td>\n",
       "      <td>0</td>\n",
       "      <td>yes</td>\n",
       "      <td>southwest</td>\n",
       "      <td>16884.92400</td>\n",
       "    </tr>\n",
       "    <tr>\n",
       "      <th>1</th>\n",
       "      <td>18</td>\n",
       "      <td>male</td>\n",
       "      <td>33.770</td>\n",
       "      <td>1</td>\n",
       "      <td>no</td>\n",
       "      <td>southeast</td>\n",
       "      <td>1725.55230</td>\n",
       "    </tr>\n",
       "    <tr>\n",
       "      <th>2</th>\n",
       "      <td>28</td>\n",
       "      <td>male</td>\n",
       "      <td>33.000</td>\n",
       "      <td>3</td>\n",
       "      <td>no</td>\n",
       "      <td>southeast</td>\n",
       "      <td>4449.46200</td>\n",
       "    </tr>\n",
       "    <tr>\n",
       "      <th>3</th>\n",
       "      <td>33</td>\n",
       "      <td>male</td>\n",
       "      <td>22.705</td>\n",
       "      <td>0</td>\n",
       "      <td>no</td>\n",
       "      <td>northwest</td>\n",
       "      <td>21984.47061</td>\n",
       "    </tr>\n",
       "    <tr>\n",
       "      <th>4</th>\n",
       "      <td>32</td>\n",
       "      <td>male</td>\n",
       "      <td>28.880</td>\n",
       "      <td>0</td>\n",
       "      <td>no</td>\n",
       "      <td>northwest</td>\n",
       "      <td>3866.85520</td>\n",
       "    </tr>\n",
       "  </tbody>\n",
       "</table>\n",
       "</div>"
      ],
      "text/plain": [
       "   age     sex     bmi  children smoker     region      charges\n",
       "0   19  female  27.900         0    yes  southwest  16884.92400\n",
       "1   18    male  33.770         1     no  southeast   1725.55230\n",
       "2   28    male  33.000         3     no  southeast   4449.46200\n",
       "3   33    male  22.705         0     no  northwest  21984.47061\n",
       "4   32    male  28.880         0     no  northwest   3866.85520"
      ]
     },
     "execution_count": 126,
     "metadata": {},
     "output_type": "execute_result"
    }
   ],
   "source": [
    "import pandas as pd \n",
    "df=pd.read_csv(\"https://media-doselect.s3.amazonaws.com/generic/OzvzVqK4pgg4x7qEadoZMRyVR/insurance.csv\")\n",
    "df.head()"
   ]
  },
  {
   "cell_type": "code",
   "execution_count": 127,
   "id": "91642249",
   "metadata": {},
   "outputs": [
    {
     "data": {
      "text/html": [
       "<div>\n",
       "<style scoped>\n",
       "    .dataframe tbody tr th:only-of-type {\n",
       "        vertical-align: middle;\n",
       "    }\n",
       "\n",
       "    .dataframe tbody tr th {\n",
       "        vertical-align: top;\n",
       "    }\n",
       "\n",
       "    .dataframe thead th {\n",
       "        text-align: right;\n",
       "    }\n",
       "</style>\n",
       "<table border=\"1\" class=\"dataframe\">\n",
       "  <thead>\n",
       "    <tr style=\"text-align: right;\">\n",
       "      <th></th>\n",
       "      <th>age</th>\n",
       "      <th>sex</th>\n",
       "      <th>bmi</th>\n",
       "      <th>children</th>\n",
       "      <th>smoker</th>\n",
       "      <th>region</th>\n",
       "      <th>charges</th>\n",
       "      <th>BMI_group</th>\n",
       "    </tr>\n",
       "  </thead>\n",
       "  <tbody>\n",
       "    <tr>\n",
       "      <th>0</th>\n",
       "      <td>19</td>\n",
       "      <td>female</td>\n",
       "      <td>27.900</td>\n",
       "      <td>0</td>\n",
       "      <td>yes</td>\n",
       "      <td>southwest</td>\n",
       "      <td>16884.92400</td>\n",
       "      <td>Overweight</td>\n",
       "    </tr>\n",
       "    <tr>\n",
       "      <th>1</th>\n",
       "      <td>18</td>\n",
       "      <td>male</td>\n",
       "      <td>33.770</td>\n",
       "      <td>1</td>\n",
       "      <td>no</td>\n",
       "      <td>southeast</td>\n",
       "      <td>1725.55230</td>\n",
       "      <td>Obese</td>\n",
       "    </tr>\n",
       "    <tr>\n",
       "      <th>2</th>\n",
       "      <td>28</td>\n",
       "      <td>male</td>\n",
       "      <td>33.000</td>\n",
       "      <td>3</td>\n",
       "      <td>no</td>\n",
       "      <td>southeast</td>\n",
       "      <td>4449.46200</td>\n",
       "      <td>Obese</td>\n",
       "    </tr>\n",
       "    <tr>\n",
       "      <th>3</th>\n",
       "      <td>33</td>\n",
       "      <td>male</td>\n",
       "      <td>22.705</td>\n",
       "      <td>0</td>\n",
       "      <td>no</td>\n",
       "      <td>northwest</td>\n",
       "      <td>21984.47061</td>\n",
       "      <td>Normal</td>\n",
       "    </tr>\n",
       "    <tr>\n",
       "      <th>4</th>\n",
       "      <td>32</td>\n",
       "      <td>male</td>\n",
       "      <td>28.880</td>\n",
       "      <td>0</td>\n",
       "      <td>no</td>\n",
       "      <td>northwest</td>\n",
       "      <td>3866.85520</td>\n",
       "      <td>Overweight</td>\n",
       "    </tr>\n",
       "  </tbody>\n",
       "</table>\n",
       "</div>"
      ],
      "text/plain": [
       "   age     sex     bmi  children smoker     region      charges   BMI_group\n",
       "0   19  female  27.900         0    yes  southwest  16884.92400  Overweight\n",
       "1   18    male  33.770         1     no  southeast   1725.55230       Obese\n",
       "2   28    male  33.000         3     no  southeast   4449.46200       Obese\n",
       "3   33    male  22.705         0     no  northwest  21984.47061      Normal\n",
       "4   32    male  28.880         0     no  northwest   3866.85520  Overweight"
      ]
     },
     "execution_count": 127,
     "metadata": {},
     "output_type": "execute_result"
    }
   ],
   "source": [
    "def bmi_group(val):\n",
    "    if(val<18.5):\n",
    "        return \"Underweight\"\n",
    "    if (val>=18.5) & (val<24.9):\n",
    "        return \"Normal\"\n",
    "    if (val>=24.9) & (val<=29.9):\n",
    "        return \"Overweight\"\n",
    "    if val>=30:\n",
    "        return \"Obese\"\n",
    "df[\"BMI_group\"] = df.bmi.apply(bmi_group)    \n",
    "df.head()    "
   ]
  },
  {
   "cell_type": "markdown",
   "id": "dc48c71c",
   "metadata": {},
   "source": [
    "### Handling Categorical Variables\n",
    "Description\n",
    "Encode all categorical features such that they can be used in a regression model.\n",
    "i.e.\n",
    "sex, BMI_group, smoker and region should be labelled properly.\n",
    "\n",
    "Note: Use the label encoder for all features. You can read more about it here.\n",
    "\n",
    "The output should have first five rows of the resulting dataframe. \n",
    "\n",
    "\n"
   ]
  },
  {
   "cell_type": "code",
   "execution_count": 60,
   "id": "0a6fb254",
   "metadata": {},
   "outputs": [],
   "source": [
    "import pandas as pd \n",
    "from sklearn.preprocessing import LabelEncoder\n",
    "pd.set_option('display.max_columns', 500)\n",
    "df=pd.read_csv(\"https://media-doselect.s3.amazonaws.com/generic/831JKKEkW7kqd5M4evNva9LyB/insurance_grouped.csv\")\n",
    "le = LabelEncoder()#use this encoder to encode values\n"
   ]
  },
  {
   "cell_type": "code",
   "execution_count": 61,
   "id": "2af10fcc",
   "metadata": {},
   "outputs": [
    {
     "name": "stdout",
     "output_type": "stream",
     "text": [
      "   age  sex     bmi  children  smoker  region      charges  BMI_group\n",
      "0   19    0  27.900         0       1       3  16884.92400          2\n",
      "1   18    1  33.770         1       0       2   1725.55230          1\n",
      "2   28    1  33.000         3       0       2   4449.46200          1\n",
      "3   33    1  22.705         0       0       1  21984.47061          0\n",
      "4   32    1  28.880         0       0       1   3866.85520          2\n"
     ]
    }
   ],
   "source": [
    "#sex\n",
    "le.fit(df.sex.drop_duplicates()) \n",
    "df.sex = le.transform(df.sex)\n",
    "# smoker or not\n",
    "le.fit(df.smoker.drop_duplicates()) \n",
    "df.smoker = le.transform(df.smoker)\n",
    "#region\n",
    "le.fit(df.region.drop_duplicates()) \n",
    "df.region = le.transform(df.region)\n",
    "#changing data type\n",
    "df.BMI_group=df.BMI_group.astype(str)\n",
    "le.fit(df.BMI_group.drop_duplicates()) \n",
    "df.BMI_group = le.transform(df.BMI_group)\n",
    "print(df.head())"
   ]
  },
  {
   "cell_type": "markdown",
   "id": "29a94142",
   "metadata": {},
   "source": [
    "### Smoking kills\n",
    "Description\n",
    "As everyone knows, smoking is a major cause of bad health. Here, try to find if smoking is affecting health of people.\n",
    "Print the correlation value of \"smoker\" columns with \"bmi\", \"age\"  and \"charges\" columns in three lines respectively.\n",
    "\n",
    "Note: You should round off all three values till four decimal places using the round() function.\n"
   ]
  },
  {
   "cell_type": "code",
   "execution_count": 64,
   "id": "8e10e447",
   "metadata": {},
   "outputs": [
    {
     "name": "stdout",
     "output_type": "stream",
     "text": [
      "0.0038\n",
      "-0.025\n",
      "0.7873\n"
     ]
    }
   ],
   "source": [
    "import pandas as pd \n",
    "df=pd.read_csv(\"https://media-doselect.s3.amazonaws.com/generic/B5yO4wkEbQk4dVGn8140yV1bx/insurance_encoded.csv\")\n",
    "print(round(df['smoker'].corr(df['bmi']), 4))\n",
    "print(round(df['smoker'].corr(df['age']), 4))\n",
    "print(round(df['smoker'].corr(df['charges']), 4))"
   ]
  },
  {
   "cell_type": "markdown",
   "id": "bc5a51fa",
   "metadata": {},
   "source": [
    "### Sorting list of tuples\n",
    "You are provided with a list of tuples having three elements, name, age and salary. You are required to arrange the tuples in order of any of the three elements. The variable (name/age/salary) has to be decided by the second input, which is an integer (1 : name, 2 : Age, 3 : Salary). Make sure that the ordering should be ascending.\n",
    "\n"
   ]
  },
  {
   "cell_type": "code",
   "execution_count": 70,
   "id": "b5629f00",
   "metadata": {},
   "outputs": [
    {
     "name": "stdout",
     "output_type": "stream",
     "text": [
      "[('Ram', 23 , 3000) , ('Mohan' , 22 , 4000 ) , ( 'Suresh' , 19 , 8000)]\n",
      "2\n",
      "[('Suresh', 19, 8000), ('Mohan', 22, 4000), ('Ram', 23, 3000)]\n"
     ]
    }
   ],
   "source": [
    "import ast\n",
    "#Accept user input as string from stdin\n",
    "input_str = input()\n",
    "#ast.literal_eval raises an exception if the input isn't a valid Python datatype.\n",
    "#The string or node provided may only consist of the following Python literal structures: strings, numbers, tuples, lists, dicts, booleans, and None.\n",
    "input_list = ast.literal_eval(input_str)\n",
    "#Accept second input for selecting field for sorting\n",
    "sorting_choice = int(input())\n",
    "\n",
    "# Your code goes hereimport ast,sys\n",
    "\n",
    "print(sorted(input_list, key=lambda x: x[sorting_choice-1]))\n"
   ]
  },
  {
   "cell_type": "markdown",
   "id": "abe678dc",
   "metadata": {},
   "source": [
    "### What's Missing?\n",
    "For a given list of integers in increasing order from n to m with no duplicates and common difference between two consecutive numbers being 1 except where the number is missing  with total  m-n integers in list, find out the missing number."
   ]
  },
  {
   "cell_type": "code",
   "execution_count": 72,
   "id": "173d8577",
   "metadata": {},
   "outputs": [
    {
     "name": "stdout",
     "output_type": "stream",
     "text": [
      "11\n"
     ]
    }
   ],
   "source": [
    "# Import the relevant libraries\n",
    "import ast,sys\n",
    "\n",
    "# Read the input list\n",
    "\n",
    "#input_str = sys.stdin.read()\n",
    "#input_list = ast.literal_eval(input_str)\n",
    "input_list = [ 8,9,10,12]\n",
    "# Write your code here\n",
    "\n",
    "mn = min(input_list)   # Get the first no of the list\n",
    "mx= max(input_list)    # Get the last no of the list\n",
    "n= mx-mn+1 # 4-1+1\n",
    "total = n*(2*mn + n-1 )/2 # 4x(2*1+(3-1))/2\n",
    "sum_of_input = sum(input_list) \n",
    "print(int(total - sum_of_input))"
   ]
  },
  {
   "cell_type": "code",
   "execution_count": 140,
   "id": "e659f92b",
   "metadata": {},
   "outputs": [
    {
     "name": "stdout",
     "output_type": "stream",
     "text": [
      "[11]\n"
     ]
    }
   ],
   "source": [
    "input_list = [8,9,10,12]\n",
    "\n",
    "def find_missing(lst):\n",
    "    return [x for x in range(lst[0], lst[-1]+1) \n",
    "                               if x not in lst]\n",
    "print(find_missing(input_list))"
   ]
  },
  {
   "cell_type": "markdown",
   "id": "f016bade",
   "metadata": {},
   "source": [
    "### Finding common letters in string\n",
    "You are provided two strings. You have to determine the common letters in the two strings. Make sure that the case difference is kept in mind. 'A' is not the same as 'a'. Also, note that the common letters are ordered in their alphabetical order."
   ]
  },
  {
   "cell_type": "code",
   "execution_count": 153,
   "id": "868421ab",
   "metadata": {},
   "outputs": [
    {
     "name": "stdout",
     "output_type": "stream",
     "text": [
      "rahull\n",
      "rajeev\n",
      "The common letters are:\n",
      "ar\n"
     ]
    }
   ],
   "source": [
    "# Take the strings as input\n",
    "\n",
    "s1=input()\n",
    "s2=input()\n",
    "\n",
    "# Write your code below\n",
    "\n",
    "unique_1 = [w for w in set(s1) if w in s2]\n",
    "\n",
    "if len(unique_1):\n",
    "    print('The common letters are:')\n",
    "    print(''.join(sorted(unique_1))) \n",
    "else:\n",
    "    print('There are no common letters between them')"
   ]
  },
  {
   "cell_type": "code",
   "execution_count": 18,
   "id": "e1da41f9",
   "metadata": {},
   "outputs": [
    {
     "name": "stdout",
     "output_type": "stream",
     "text": [
      "sdsdsd\n",
      "dfdfdfd\n",
      "The common letters are:\n",
      "d\n"
     ]
    }
   ],
   "source": [
    "# Take the strings as input\n",
    "\n",
    "s1=input()\n",
    "s2=input()\n",
    "\n",
    "# Write your code below\n",
    "\n",
    "a=list(set(s1)&set(s2))\n",
    "a.sort()\n",
    "if len(a):\n",
    "    print('The common letters are:')\n",
    "    for i in a:\n",
    "        print(i)\n",
    "else:\n",
    "    print('There are no common letters between them')"
   ]
  },
  {
   "cell_type": "markdown",
   "id": "6f4a4a3d",
   "metadata": {},
   "source": [
    "### Join String\n",
    "Given a list of strings, join them using the delimiter  '-' "
   ]
  },
  {
   "cell_type": "code",
   "execution_count": 74,
   "id": "3716290d",
   "metadata": {},
   "outputs": [
    {
     "name": "stdout",
     "output_type": "stream",
     "text": [
      "Accountability-and-Ownership\n"
     ]
    }
   ],
   "source": [
    "# Import the relevant libraries\n",
    "\n",
    "import ast,sys\n",
    "\n",
    "# Read the input list\n",
    "\n",
    "input_str = sys.stdin.read()\n",
    "#input_list = ast.literal_eval(input_str)\n",
    "input_list = ['Accountability', 'and', 'Ownership']\n",
    "\n",
    "# Write your code here\n",
    "print('-'.join(input_list))        "
   ]
  },
  {
   "cell_type": "markdown",
   "id": "1d15b937",
   "metadata": {},
   "source": [
    "### Break the list\n",
    "Write a Python program to divide a given list into chunks of size k.\n",
    "\n",
    "The number of elements in the list need not to be divisible by k.\n",
    "For example, if you want to divide the list [1,2,3,4,5,6,7] into chunk size k=4, then the first chunk will be [1,2,3,4] and the second one will have [5,6,7]. i.e. the last chunk need not have k elements.\n",
    "The input will have two lines, the first line would have the list and the second line would have the value of k.(the code for taking input has already been written, you should not change that)\n",
    "The final output should have the list chunks in different lines.\n",
    "\n",
    "Sample Input:\n",
    "[1,2,3,4,5,6,7,8,9]\n",
    "3"
   ]
  },
  {
   "cell_type": "code",
   "execution_count": 17,
   "id": "0f05d94c",
   "metadata": {},
   "outputs": [
    {
     "name": "stdout",
     "output_type": "stream",
     "text": [
      "[1, 2, 3, 4]\n",
      "[5, 6, 7, 8]\n",
      "[9]\n"
     ]
    }
   ],
   "source": [
    "import ast,sys\n",
    "input_str = sys.stdin.read()\n",
    "#input_list = ast.literal_eval(input_str)\n",
    "input_list = [[1,2,3,4,5,6,7,8,9],4]\n",
    "\n",
    "lis=input_list[0]\n",
    "k=input_list[1]\n",
    "\n",
    "for i in range(0, len(lis), k):  \n",
    "    print(lis[i:i + k]) \n",
    "    "
   ]
  },
  {
   "cell_type": "code",
   "execution_count": 14,
   "id": "92ce85fc",
   "metadata": {},
   "outputs": [
    {
     "ename": "SyntaxError",
     "evalue": "invalid syntax (2881183860.py, line 7)",
     "output_type": "error",
     "traceback": [
      "\u001b[0;36m  File \u001b[0;32m\"/var/folders/43/859d2zb56t3_rbldq_3tyncmhd0n5m/T/ipykernel_6233/2881183860.py\"\u001b[0;36m, line \u001b[0;32m7\u001b[0m\n\u001b[0;31m    reshaped_array = np_array.reshape(4, :).T\u001b[0m\n\u001b[0m                                         ^\u001b[0m\n\u001b[0;31mSyntaxError\u001b[0m\u001b[0;31m:\u001b[0m invalid syntax\n"
     ]
    }
   ],
   "source": [
    "import numpy as np\n",
    "# create list\n",
    "my_list = [0,0,1,1,2,2,3,3]\n",
    "# convert list to numpy array\n",
    "np_array=np.asarray(my_list)\n",
    "# reshape array into 4 rows x 2 columns, and transpose the result\n",
    "reshaped_array = np_array.reshape(4, :).T \n",
    "\n",
    "#check the result\n",
    "reshaped_array.tolist()"
   ]
  },
  {
   "cell_type": "markdown",
   "id": "516ac301",
   "metadata": {},
   "source": [
    "### Scrabble\n",
    "Assume that you are trying to complete a crossword puzzle. In a crossword puzzle, some letters are given and you have to figure out which complete word can you make out of it.\n",
    "For example, given letters \"cwd\"in the same order, you can make the word  \"crossword\" or \"crowd\" with it. But if \"dw\" is given in that order, you cannot make \"crossword\" out of it because d and w are in the opposite order here.\n",
    "\n",
    "You want to find an efficient method and write a code for this process. \n",
    "The code will take two strings as input in two lines. The first string will contain letters on the crossword(\"cwd\"), and the second string will contain a word that you want to check.(i.e. you want to check whether the word can be made out of given letters in the same order).\n",
    "The output should say \"yes\" if the word can be formed, else it should say \"no\"\n",
    "Sample Input 1:\n",
    "ccwd\n",
    "crossword"
   ]
  },
  {
   "cell_type": "code",
   "execution_count": 1,
   "id": "a3cb2fe0",
   "metadata": {},
   "outputs": [
    {
     "name": "stdout",
     "output_type": "stream",
     "text": [
      "cwd\n",
      "crossword\n",
      "yes\n"
     ]
    }
   ],
   "source": [
    "import re\n",
    "letters=input()#letters already in the crossword\n",
    "guess=input()#word to check for fit\n",
    "x = re.findall(\".*\".join(list(letters)),guess)\n",
    "if x:\n",
    "    print(\"yes\")\n",
    "else:\n",
    "    print(\"no\")\n"
   ]
  },
  {
   "cell_type": "markdown",
   "id": "06fe2408",
   "metadata": {},
   "source": [
    "### Paying the rent\n",
    "You are moving to a new city for an internship for a few months and have to rent a house for that purpose.\n",
    "You have to pay the full month's house rent even if you have lived for a few days for that month. i.e. if you start on 15th Jan and leave by 15th May, you still have to pay full rent for months of Jan and May too.\n",
    "\n",
    "Your task is to find the months that you have to pay rent for so that you can write post-dated cheques to your landlord.\n",
    "\n",
    "You will be given two dates as input and your task is to print all months between the dates including the months the dates are from.\n",
    "The input will contain the two dates in a list as follows:\n",
    "[2017,1,1,2017,3,4] which corresponds to 1st Jan, 2017 and 4th March, 2017. This date is in the format(yyyy,mm,dd)\n",
    "(the code for taking input has already been written for you, please don't modify that)\n",
    "The output should contain a list with names of months you have to pay the rent for(the list should be sorted chronologically  based on months, i.e May should come before August). You can assume that there won't be more than 12 months between two dates.\n",
    "You'll need to use the datetime module for this problem which can be referred to here. You can choose to use any other method too.\n"
   ]
  },
  {
   "cell_type": "code",
   "execution_count": 14,
   "id": "0fd88774",
   "metadata": {},
   "outputs": [
    {
     "name": "stdout",
     "output_type": "stream",
     "text": [
      "['January', 'August', 'September', 'October', 'November', 'December']\n"
     ]
    }
   ],
   "source": [
    "import datetime\n",
    "import ast,sys\n",
    "input_str = sys.stdin.read()\n",
    "#input_list = ast.literal_eval(input_str)\n",
    "#input_list = [2017,1,1,2017,1,1]\n",
    "input_list = [2017,8,2,2018,1,1]\n",
    "dateStart=datetime.date(input_list[0],input_list[1],input_list[2])\n",
    "dateEnd=datetime.date(input_list[3],input_list[4],input_list[5])\n",
    "months = ['January', 'February', 'March', 'April', 'May', 'June', 'July', 'August', 'September', 'October', 'November', 'December']\n",
    "\n",
    "ans = set()\n",
    "while dateStart <= dateEnd:\n",
    "    ans.add(dateStart.month)\n",
    "    dateStart += datetime.timedelta(1)\n",
    "print([months[x-1] for x in sorted(ans)])\n"
   ]
  },
  {
   "cell_type": "markdown",
   "id": "46e43824",
   "metadata": {},
   "source": [
    "### Remove empty lists\n",
    "Write a Python program to eliminate all empty lists from a given list of lists.\n",
    "The input will have a list of lists and the output should have the resulting list after eliminating empty lists from it.\n",
    "[[1,2,3],[],[4,5],[],[],[6,7,8]]\n"
   ]
  },
  {
   "cell_type": "code",
   "execution_count": 21,
   "id": "b319e2ef",
   "metadata": {},
   "outputs": [
    {
     "name": "stdout",
     "output_type": "stream",
     "text": [
      "[[1, 2, 3], [4, 5], [6, 7, 8]]\n"
     ]
    }
   ],
   "source": [
    "import ast,sys\n",
    "input_str = sys.stdin.read()\n",
    "#input_list = ast.literal_eval(input_str)\n",
    "input_list = [[1,2,3],[],[4,5],[],[],[6,7,8]]\n",
    "\n",
    "list=[l for l in input_list if l!= []] \n",
    "print(list)"
   ]
  },
  {
   "cell_type": "code",
   "execution_count": null,
   "id": "53a21068",
   "metadata": {},
   "outputs": [],
   "source": []
  }
 ],
 "metadata": {
  "kernelspec": {
   "display_name": "Python 3 (ipykernel)",
   "language": "python",
   "name": "python3"
  },
  "language_info": {
   "codemirror_mode": {
    "name": "ipython",
    "version": 3
   },
   "file_extension": ".py",
   "mimetype": "text/x-python",
   "name": "python",
   "nbconvert_exporter": "python",
   "pygments_lexer": "ipython3",
   "version": "3.9.12"
  }
 },
 "nbformat": 4,
 "nbformat_minor": 5
}
