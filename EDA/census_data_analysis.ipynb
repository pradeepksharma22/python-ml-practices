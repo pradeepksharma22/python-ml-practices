{
 "cells": [
  {
   "cell_type": "code",
   "execution_count": 58,
   "id": "ddaf63cf",
   "metadata": {},
   "outputs": [],
   "source": [
    "# All imports\n",
    "import numpy as np\n",
    "import pandas as pd"
   ]
  },
  {
   "cell_type": "code",
   "execution_count": 67,
   "id": "6d1c1bb5",
   "metadata": {},
   "outputs": [
    {
     "name": "stdout",
     "output_type": "stream",
     "text": [
      "        State Code  Distt Code  Total_Persons   Total_Males  Total_Females  \\\n",
      "count  3132.000000      3132.0   3.132000e+03  3.132000e+03   3.132000e+03   \n",
      "mean     17.500000         0.0   3.092861e+06  1.592006e+06   1.500855e+06   \n",
      "std      10.389954         0.0   2.882232e+07  1.483375e+07   1.398926e+07   \n",
      "min       0.000000         0.0   6.000000e+00  4.000000e+00   2.000000e+00   \n",
      "25%       8.750000         0.0   2.141225e+04  1.116850e+04   1.014875e+04   \n",
      "50%      17.500000         0.0   2.389940e+05  1.232525e+05   1.166540e+05   \n",
      "75%      26.250000         0.0   1.123899e+06  5.782720e+05   5.429365e+05   \n",
      "max      35.000000         0.0   1.210855e+09  6.232703e+08   5.875847e+08   \n",
      "\n",
      "       Illiterate_Persons  Illiterate_Males  Illiterate_Females  \\\n",
      "count        3.132000e+03      3.132000e+03        3.132000e+03   \n",
      "mean         1.142315e+06      4.814984e+05        6.608162e+05   \n",
      "std          1.150330e+07      4.966519e+06        6.565306e+06   \n",
      "min          1.000000e+00      0.000000e+00        0.000000e+00   \n",
      "25%          3.453750e+03      1.371500e+03        1.957500e+03   \n",
      "50%          3.054300e+04      1.267350e+04        1.743800e+04   \n",
      "75%          2.291725e+05      8.404050e+04        1.411090e+05   \n",
      "max          4.472162e+08      1.885066e+08        2.587095e+08   \n",
      "\n",
      "       Literate_Persons  Literate_Males  Literate_Females  Unnamed: 15  \n",
      "count      3.132000e+03    3.132000e+03      3.132000e+03          0.0  \n",
      "mean       1.950546e+06    1.110507e+06      8.400388e+05          NaN  \n",
      "std        1.791240e+07    1.023041e+07      7.689529e+06          NaN  \n",
      "min        0.000000e+00    0.000000e+00      0.000000e+00          NaN  \n",
      "25%        1.296200e+04    7.055250e+03      5.883250e+03          NaN  \n",
      "50%        1.319095e+05    8.090150e+04      5.604350e+04          NaN  \n",
      "75%        7.046172e+05    4.018530e+05      3.060520e+05          NaN  \n",
      "max        7.636388e+08    4.347636e+08      3.288752e+08          NaN  \n"
     ]
    }
   ],
   "source": [
    "#my_sheet = 'C-08'\n",
    "#df = pd.read_excel('census+data.xlsx', sheet_name=my_sheet)\n",
    "\n",
    "census_df = pd.read_csv('EDA_census.csv')\n",
    "print(census_df.describe())"
   ]
  },
  {
   "cell_type": "code",
   "execution_count": 35,
   "id": "0801a969",
   "metadata": {},
   "outputs": [
    {
     "name": "stdout",
     "output_type": "stream",
     "text": [
      "Prefix         0\n",
      "Assignment     2\n",
      "Tutorial      12\n",
      "Midterm       16\n",
      "TakeHome       9\n",
      "Final          5\n",
      "dtype: int64\n"
     ]
    }
   ],
   "source": [
    "import pandas as pd\n",
    "marks = pd.read_csv('https://media-doselect.s3.amazonaws.com/generic/GZVBQG5pzJeNaL1ve50Rv9YNV/class-grades.csv')\n",
    "print(marks.isnull().sum())\n",
    "\n",
    "#print(marks)"
   ]
  },
  {
   "cell_type": "code",
   "execution_count": 36,
   "id": "65194eee",
   "metadata": {},
   "outputs": [
    {
     "name": "stdout",
     "output_type": "stream",
     "text": [
      "Prefix        False\n",
      "Assignment    False\n",
      "Tutorial       True\n",
      "Midterm        True\n",
      "TakeHome       True\n",
      "Final         False\n",
      "dtype: bool\n"
     ]
    }
   ],
   "source": [
    "print(marks.isnull().sum()>5)"
   ]
  },
  {
   "cell_type": "code",
   "execution_count": 37,
   "id": "30bc40d6",
   "metadata": {},
   "outputs": [
    {
     "name": "stdout",
     "output_type": "stream",
     "text": [
      "Prefix         0\n",
      "Assignment     0\n",
      "Tutorial      10\n",
      "Midterm       14\n",
      "TakeHome       7\n",
      "Final          3\n",
      "dtype: int64\n"
     ]
    }
   ],
   "source": [
    "#print(marks[marks.isnull().sum(axis=1) > 5].index)\n",
    "marks= marks.drop(marks[marks.isnull().sum(axis=1)==5].index)\n",
    "print(marks.isnull().sum())\n",
    "#print(round(100 * (marks.isnull().sum() / len(marks.index)), 2)) # percentage of each columns"
   ]
  },
  {
   "cell_type": "code",
   "execution_count": 39,
   "id": "eaa6e89b",
   "metadata": {},
   "outputs": [
    {
     "name": "stdout",
     "output_type": "stream",
     "text": [
      "        Customer_Name Province   Region Customer_Segment Cust_id\n",
      "0  MUHAMMED MACINTYRE  NUNAVUT  NUNAVUT   SMALL BUSINESS       1\n",
      "1        BARRY FRENCH  NUNAVUT  NUNAVUT         CONSUMER       2\n",
      "2       CLAY ROZENDAL  NUNAVUT  NUNAVUT        CORPORATE       3\n",
      "3      CARLOS SOLTERO  NUNAVUT  NUNAVUT         CONSUMER       4\n",
      "4        CARL JACKSON  NUNAVUT  NUNAVUT        CORPORATE       5\n",
      "5      MONICA FEDERLE  NUNAVUT  NUNAVUT        CORPORATE       6\n",
      "6     DOROTHY BADDERS  NUNAVUT  NUNAVUT      HOME OFFICE       7\n",
      "7     NEOLA SCHNEIDER  NUNAVUT  NUNAVUT      HOME OFFICE       8\n",
      "8         CARLOS DALY  NUNAVUT  NUNAVUT      HOME OFFICE       9\n",
      "9       CLAUDIA MINER  NUNAVUT  NUNAVUT   SMALL BUSINESS      10\n"
     ]
    }
   ],
   "source": [
    "customer = pd.read_csv('https://media-doselect.s3.amazonaws.com/generic/9B2ZPE1apMvqrLWx7p8ge9dqX/cust_dimen.csv')\n",
    "\n",
    "customer['Cust_id'] = customer.Cust_id.apply(lambda x: x[5:])\n",
    "\n",
    "print(customer.head(10))"
   ]
  },
  {
   "cell_type": "code",
   "execution_count": 57,
   "id": "f2b9e875",
   "metadata": {},
   "outputs": [
    {
     "name": "stdout",
     "output_type": "stream",
     "text": [
      "(1254, 5)\n",
      "(1149, 5)\n"
     ]
    }
   ],
   "source": [
    "rating = pd.read_csv('https://media-doselect.s3.amazonaws.com/generic/N45BN5xqWKpKNEnZP1qGKk5V3/rating_final.csv')\n",
    "\n",
    "# sorting by first name\n",
    "rating.sort_values(\"userID\", inplace = True)\n",
    " \n",
    "# dropping ALL duplicate values\n",
    "rating_update = rating.drop_duplicates()\n",
    "print(rating.shape)\n",
    "print(rating_update.shape)"
   ]
  },
  {
   "cell_type": "code",
   "execution_count": null,
   "id": "692a84d7",
   "metadata": {},
   "outputs": [],
   "source": [
    "df1 = pd.pivot_table(census_df,index=[\"Father.edu\",\"State\"],values=['Maths..'], aggfunc=np.max)\n",
    "df1"
   ]
  },
  {
   "cell_type": "code",
   "execution_count": 68,
   "id": "f6183d57",
   "metadata": {},
   "outputs": [
    {
     "name": "stdout",
     "output_type": "stream",
     "text": [
      "<class 'pandas.core.frame.DataFrame'>\n",
      "RangeIndex: 3132 entries, 0 to 3131\n",
      "Data columns (total 16 columns):\n",
      " #   Column              Non-Null Count  Dtype  \n",
      "---  ------              --------------  -----  \n",
      " 0   Table Name          3132 non-null   object \n",
      " 1   State Code          3132 non-null   int64  \n",
      " 2   Distt Code          3132 non-null   int64  \n",
      " 3   Area Name           3132 non-null   object \n",
      " 4   TRU                 3132 non-null   object \n",
      " 5   Age-group           3132 non-null   object \n",
      " 6   Total_Persons       3132 non-null   int64  \n",
      " 7   Total_Males         3132 non-null   int64  \n",
      " 8   Total_Females       3132 non-null   int64  \n",
      " 9   Illiterate_Persons  3132 non-null   int64  \n",
      " 10  Illiterate_Males    3132 non-null   int64  \n",
      " 11  Illiterate_Females  3132 non-null   int64  \n",
      " 12  Literate_Persons    3132 non-null   int64  \n",
      " 13  Literate_Males      3132 non-null   int64  \n",
      " 14  Literate_Females    3132 non-null   int64  \n",
      " 15  Unnamed: 15         0 non-null      float64\n",
      "dtypes: float64(1), int64(11), object(4)\n",
      "memory usage: 391.6+ KB\n"
     ]
    }
   ],
   "source": [
    "census_df.info()"
   ]
  },
  {
   "cell_type": "code",
   "execution_count": null,
   "id": "cab33f70",
   "metadata": {},
   "outputs": [],
   "source": []
  }
 ],
 "metadata": {
  "kernelspec": {
   "display_name": "Python 3 (ipykernel)",
   "language": "python",
   "name": "python3"
  },
  "language_info": {
   "codemirror_mode": {
    "name": "ipython",
    "version": 3
   },
   "file_extension": ".py",
   "mimetype": "text/x-python",
   "name": "python",
   "nbconvert_exporter": "python",
   "pygments_lexer": "ipython3",
   "version": "3.9.8"
  }
 },
 "nbformat": 4,
 "nbformat_minor": 5
}
