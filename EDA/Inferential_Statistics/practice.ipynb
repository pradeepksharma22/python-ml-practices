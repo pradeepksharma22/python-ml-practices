{
 "cells": [
  {
   "cell_type": "code",
   "execution_count": 6,
   "id": "1601fad5",
   "metadata": {},
   "outputs": [],
   "source": [
    "from scipy.stats import norm  \n",
    "import pandas as pd\n",
    "import numpy as np\n",
    "import seaborn as sns\n",
    "\n",
    "import matplotlib.pyplot as plt\n",
    "import os.path"
   ]
  },
  {
   "cell_type": "code",
   "execution_count": 4,
   "id": "3b4ffcce",
   "metadata": {},
   "outputs": [
    {
     "name": "stdout",
     "output_type": "stream",
     "text": [
      "0.01822334163066596\n"
     ]
    }
   ],
   "source": [
    "data_start = 0\n",
    "data_end = 30\n",
    "data_points = 26\n",
    "data = np.linspace(data_start, data_end, data_points)\n",
    "  \n",
    "mean = np.mean(data)\n",
    "std = np.std(data)\n",
    "  \n",
    "probability_pdf = norm.pdf(3, loc=mean, scale=std)\n",
    "print(probability_pdf)"
   ]
  },
  {
   "cell_type": "code",
   "execution_count": 9,
   "id": "ef50aa3a",
   "metadata": {},
   "outputs": [
    {
     "data": {
      "text/html": [
       "<div>\n",
       "<style scoped>\n",
       "    .dataframe tbody tr th:only-of-type {\n",
       "        vertical-align: middle;\n",
       "    }\n",
       "\n",
       "    .dataframe tbody tr th {\n",
       "        vertical-align: top;\n",
       "    }\n",
       "\n",
       "    .dataframe thead th {\n",
       "        text-align: right;\n",
       "    }\n",
       "</style>\n",
       "<table border=\"1\" class=\"dataframe\">\n",
       "  <thead>\n",
       "    <tr style=\"text-align: right;\">\n",
       "      <th></th>\n",
       "      <th>Customer No.</th>\n",
       "      <th>Exposure at Default (in lakh Rs.)</th>\n",
       "      <th>Recovery (%)</th>\n",
       "      <th>Probability of Default</th>\n",
       "      <th>Unnamed: 4</th>\n",
       "      <th>Unnamed: 5</th>\n",
       "    </tr>\n",
       "  </thead>\n",
       "  <tbody>\n",
       "    <tr>\n",
       "      <th>0</th>\n",
       "      <td>1</td>\n",
       "      <td>11.50</td>\n",
       "      <td>20.00%</td>\n",
       "      <td>0.0070</td>\n",
       "      <td>NaN</td>\n",
       "      <td>NaN</td>\n",
       "    </tr>\n",
       "    <tr>\n",
       "      <th>1</th>\n",
       "      <td>2</td>\n",
       "      <td>0.24</td>\n",
       "      <td>5.10%</td>\n",
       "      <td>0.0033</td>\n",
       "      <td>NaN</td>\n",
       "      <td>NaN</td>\n",
       "    </tr>\n",
       "    <tr>\n",
       "      <th>2</th>\n",
       "      <td>3</td>\n",
       "      <td>0.04</td>\n",
       "      <td>24.86%</td>\n",
       "      <td>0.0022</td>\n",
       "      <td>NaN</td>\n",
       "      <td>NaN</td>\n",
       "    </tr>\n",
       "    <tr>\n",
       "      <th>3</th>\n",
       "      <td>4</td>\n",
       "      <td>13.81</td>\n",
       "      <td>2.29%</td>\n",
       "      <td>0.0066</td>\n",
       "      <td>NaN</td>\n",
       "      <td>NaN</td>\n",
       "    </tr>\n",
       "    <tr>\n",
       "      <th>4</th>\n",
       "      <td>5</td>\n",
       "      <td>19.84</td>\n",
       "      <td>3.47%</td>\n",
       "      <td>0.0020</td>\n",
       "      <td>NaN</td>\n",
       "      <td>NaN</td>\n",
       "    </tr>\n",
       "  </tbody>\n",
       "</table>\n",
       "</div>"
      ],
      "text/plain": [
       "   Customer No.  Exposure at Default (in lakh Rs.) Recovery (%)  \\\n",
       "0             1                              11.50       20.00%   \n",
       "1             2                               0.24        5.10%   \n",
       "2             3                               0.04       24.86%   \n",
       "3             4                              13.81        2.29%   \n",
       "4             5                              19.84        3.47%   \n",
       "\n",
       "   Probability of Default  Unnamed: 4  Unnamed: 5  \n",
       "0                  0.0070         NaN         NaN  \n",
       "1                  0.0033         NaN         NaN  \n",
       "2                  0.0022         NaN         NaN  \n",
       "3                  0.0066         NaN         NaN  \n",
       "4                  0.0020         NaN         NaN  "
      ]
     },
     "execution_count": 9,
     "metadata": {},
     "output_type": "execute_result"
    }
   ],
   "source": [
    "istats = pd.read_csv(\"Inferential Statistics - Student Loan.csv\")\n",
    "istats.head()"
   ]
  },
  {
   "cell_type": "code",
   "execution_count": 17,
   "id": "95c78672",
   "metadata": {},
   "outputs": [],
   "source": [
    "istats[\"EV\"] =(((istats[\"Exposure at Default (in lakh Rs.)\"]) -(20*istats[\"Exposure at Default (in lakh Rs.)\"])/100)* istats[\"Probability of Default\"])*100000\n"
   ]
  },
  {
   "cell_type": "code",
   "execution_count": 18,
   "id": "623f1d1b",
   "metadata": {},
   "outputs": [
    {
     "data": {
      "text/html": [
       "<div>\n",
       "<style scoped>\n",
       "    .dataframe tbody tr th:only-of-type {\n",
       "        vertical-align: middle;\n",
       "    }\n",
       "\n",
       "    .dataframe tbody tr th {\n",
       "        vertical-align: top;\n",
       "    }\n",
       "\n",
       "    .dataframe thead th {\n",
       "        text-align: right;\n",
       "    }\n",
       "</style>\n",
       "<table border=\"1\" class=\"dataframe\">\n",
       "  <thead>\n",
       "    <tr style=\"text-align: right;\">\n",
       "      <th></th>\n",
       "      <th>Customer No.</th>\n",
       "      <th>Exposure at Default (in lakh Rs.)</th>\n",
       "      <th>Recovery (%)</th>\n",
       "      <th>Probability of Default</th>\n",
       "      <th>Unnamed: 4</th>\n",
       "      <th>Unnamed: 5</th>\n",
       "      <th>EV</th>\n",
       "    </tr>\n",
       "  </thead>\n",
       "  <tbody>\n",
       "    <tr>\n",
       "      <th>0</th>\n",
       "      <td>1</td>\n",
       "      <td>11.50</td>\n",
       "      <td>20.00%</td>\n",
       "      <td>0.0070</td>\n",
       "      <td>NaN</td>\n",
       "      <td>NaN</td>\n",
       "      <td>6440.00</td>\n",
       "    </tr>\n",
       "    <tr>\n",
       "      <th>1</th>\n",
       "      <td>2</td>\n",
       "      <td>0.24</td>\n",
       "      <td>5.10%</td>\n",
       "      <td>0.0033</td>\n",
       "      <td>NaN</td>\n",
       "      <td>NaN</td>\n",
       "      <td>63.36</td>\n",
       "    </tr>\n",
       "    <tr>\n",
       "      <th>2</th>\n",
       "      <td>3</td>\n",
       "      <td>0.04</td>\n",
       "      <td>24.86%</td>\n",
       "      <td>0.0022</td>\n",
       "      <td>NaN</td>\n",
       "      <td>NaN</td>\n",
       "      <td>7.04</td>\n",
       "    </tr>\n",
       "    <tr>\n",
       "      <th>3</th>\n",
       "      <td>4</td>\n",
       "      <td>13.81</td>\n",
       "      <td>2.29%</td>\n",
       "      <td>0.0066</td>\n",
       "      <td>NaN</td>\n",
       "      <td>NaN</td>\n",
       "      <td>7291.68</td>\n",
       "    </tr>\n",
       "    <tr>\n",
       "      <th>4</th>\n",
       "      <td>5</td>\n",
       "      <td>19.84</td>\n",
       "      <td>3.47%</td>\n",
       "      <td>0.0020</td>\n",
       "      <td>NaN</td>\n",
       "      <td>NaN</td>\n",
       "      <td>3174.40</td>\n",
       "    </tr>\n",
       "  </tbody>\n",
       "</table>\n",
       "</div>"
      ],
      "text/plain": [
       "   Customer No.  Exposure at Default (in lakh Rs.) Recovery (%)  \\\n",
       "0             1                              11.50       20.00%   \n",
       "1             2                               0.24        5.10%   \n",
       "2             3                               0.04       24.86%   \n",
       "3             4                              13.81        2.29%   \n",
       "4             5                              19.84        3.47%   \n",
       "\n",
       "   Probability of Default  Unnamed: 4  Unnamed: 5       EV  \n",
       "0                  0.0070         NaN         NaN  6440.00  \n",
       "1                  0.0033         NaN         NaN    63.36  \n",
       "2                  0.0022         NaN         NaN     7.04  \n",
       "3                  0.0066         NaN         NaN  7291.68  \n",
       "4                  0.0020         NaN         NaN  3174.40  "
      ]
     },
     "execution_count": 18,
     "metadata": {},
     "output_type": "execute_result"
    }
   ],
   "source": [
    "istats.head()"
   ]
  },
  {
   "cell_type": "code",
   "execution_count": 19,
   "id": "0240a06e",
   "metadata": {},
   "outputs": [
    {
     "data": {
      "text/plain": [
       "49499867.84"
      ]
     },
     "execution_count": 19,
     "metadata": {},
     "output_type": "execute_result"
    }
   ],
   "source": [
    "istats[\"EV\"].sum()"
   ]
  },
  {
   "cell_type": "code",
   "execution_count": 20,
   "id": "2c54f257",
   "metadata": {},
   "outputs": [
    {
     "data": {
      "text/plain": [
       "-5.26315789473685"
      ]
     },
     "execution_count": 20,
     "metadata": {},
     "output_type": "execute_result"
    }
   ],
   "source": [
    "(37/38)*(-100)+(1/38)*(3500)"
   ]
  },
  {
   "cell_type": "code",
   "execution_count": 21,
   "id": "2284b3d3",
   "metadata": {},
   "outputs": [
    {
     "data": {
      "text/plain": [
       "0.9736842105263158"
      ]
     },
     "execution_count": 21,
     "metadata": {},
     "output_type": "execute_result"
    }
   ],
   "source": [
    "37/38"
   ]
  },
  {
   "cell_type": "code",
   "execution_count": 23,
   "id": "9559f37e",
   "metadata": {},
   "outputs": [
    {
     "data": {
      "text/plain": [
       "92.10526315789473"
      ]
     },
     "execution_count": 23,
     "metadata": {},
     "output_type": "execute_result"
    }
   ],
   "source": [
    "(1/38)*(3500)"
   ]
  },
  {
   "cell_type": "code",
   "execution_count": 36,
   "id": "bd6161ad",
   "metadata": {},
   "outputs": [
    {
     "name": "stdout",
     "output_type": "stream",
     "text": [
      "0.84\n"
     ]
    }
   ],
   "source": [
    "m=100\n",
    "sd=10\n",
    "Z=(90-m)/sd\n",
    "#P(x>=90)=1-P(x<=90)\n",
    "\n",
    "import numpy as np\n",
    "import scipy.special as scsp\n",
    "\n",
    "def z2p(z):\n",
    "    \"\"\"From z-score return p-value.\"\"\"\n",
    "    return 0.5 * (1 + scsp.erf(z / np.sqrt(2)))\n",
    "\n",
    "p_value = z2p(Z)\n",
    "#P(x>=90)=1-P(x<=90)\n",
    "p_student_passing = round((1-p_value),2)\n",
    "print(p_student_passing)"
   ]
  },
  {
   "cell_type": "code",
   "execution_count": 27,
   "id": "1730d5b6",
   "metadata": {},
   "outputs": [
    {
     "data": {
      "text/plain": [
       "-1.0"
      ]
     },
     "execution_count": 27,
     "metadata": {},
     "output_type": "execute_result"
    }
   ],
   "source": [
    "(90-100)/10"
   ]
  },
  {
   "cell_type": "code",
   "execution_count": 30,
   "id": "1cc71507",
   "metadata": {},
   "outputs": [
    {
     "ename": "NameError",
     "evalue": "name 'st' is not defined",
     "output_type": "error",
     "traceback": [
      "\u001b[0;31m---------------------------------------------------------------------------\u001b[0m",
      "\u001b[0;31mNameError\u001b[0m                                 Traceback (most recent call last)",
      "\u001b[0;32m/var/folders/43/859d2zb56t3_rbldq_3tyncmhd0n5m/T/ipykernel_24110/1323232127.py\u001b[0m in \u001b[0;36m<module>\u001b[0;34m\u001b[0m\n\u001b[1;32m      1\u001b[0m \u001b[0;32mimport\u001b[0m \u001b[0mnumpy\u001b[0m \u001b[0;32mas\u001b[0m \u001b[0mnp\u001b[0m\u001b[0;34m\u001b[0m\u001b[0;34m\u001b[0m\u001b[0m\n\u001b[1;32m      2\u001b[0m \u001b[0mvector\u001b[0m \u001b[0;34m=\u001b[0m \u001b[0mnp\u001b[0m\u001b[0;34m.\u001b[0m\u001b[0marray\u001b[0m\u001b[0;34m(\u001b[0m\u001b[0;34m[\u001b[0m\u001b[0;36m.925\u001b[0m\u001b[0;34m,\u001b[0m \u001b[0;36m.95\u001b[0m\u001b[0;34m,\u001b[0m \u001b[0;36m.975\u001b[0m\u001b[0;34m,\u001b[0m \u001b[0;36m.99\u001b[0m\u001b[0;34m]\u001b[0m\u001b[0;34m)\u001b[0m\u001b[0;34m\u001b[0m\u001b[0;34m\u001b[0m\u001b[0m\n\u001b[0;32m----> 3\u001b[0;31m \u001b[0mp_values\u001b[0m \u001b[0;34m=\u001b[0m \u001b[0;34m[\u001b[0m\u001b[0mst\u001b[0m\u001b[0;34m.\u001b[0m\u001b[0mnorm\u001b[0m\u001b[0;34m.\u001b[0m\u001b[0mppf\u001b[0m\u001b[0;34m(\u001b[0m\u001b[0mv\u001b[0m\u001b[0;34m)\u001b[0m \u001b[0;32mfor\u001b[0m \u001b[0mv\u001b[0m \u001b[0;32min\u001b[0m \u001b[0mvector\u001b[0m\u001b[0;34m]\u001b[0m\u001b[0;34m\u001b[0m\u001b[0;34m\u001b[0m\u001b[0m\n\u001b[0m\u001b[1;32m      4\u001b[0m \u001b[0mp_values\u001b[0m\u001b[0;34m\u001b[0m\u001b[0;34m\u001b[0m\u001b[0m\n",
      "\u001b[0;32m/var/folders/43/859d2zb56t3_rbldq_3tyncmhd0n5m/T/ipykernel_24110/1323232127.py\u001b[0m in \u001b[0;36m<listcomp>\u001b[0;34m(.0)\u001b[0m\n\u001b[1;32m      1\u001b[0m \u001b[0;32mimport\u001b[0m \u001b[0mnumpy\u001b[0m \u001b[0;32mas\u001b[0m \u001b[0mnp\u001b[0m\u001b[0;34m\u001b[0m\u001b[0;34m\u001b[0m\u001b[0m\n\u001b[1;32m      2\u001b[0m \u001b[0mvector\u001b[0m \u001b[0;34m=\u001b[0m \u001b[0mnp\u001b[0m\u001b[0;34m.\u001b[0m\u001b[0marray\u001b[0m\u001b[0;34m(\u001b[0m\u001b[0;34m[\u001b[0m\u001b[0;36m.925\u001b[0m\u001b[0;34m,\u001b[0m \u001b[0;36m.95\u001b[0m\u001b[0;34m,\u001b[0m \u001b[0;36m.975\u001b[0m\u001b[0;34m,\u001b[0m \u001b[0;36m.99\u001b[0m\u001b[0;34m]\u001b[0m\u001b[0;34m)\u001b[0m\u001b[0;34m\u001b[0m\u001b[0;34m\u001b[0m\u001b[0m\n\u001b[0;32m----> 3\u001b[0;31m \u001b[0mp_values\u001b[0m \u001b[0;34m=\u001b[0m \u001b[0;34m[\u001b[0m\u001b[0mst\u001b[0m\u001b[0;34m.\u001b[0m\u001b[0mnorm\u001b[0m\u001b[0;34m.\u001b[0m\u001b[0mppf\u001b[0m\u001b[0;34m(\u001b[0m\u001b[0mv\u001b[0m\u001b[0;34m)\u001b[0m \u001b[0;32mfor\u001b[0m \u001b[0mv\u001b[0m \u001b[0;32min\u001b[0m \u001b[0mvector\u001b[0m\u001b[0;34m]\u001b[0m\u001b[0;34m\u001b[0m\u001b[0;34m\u001b[0m\u001b[0m\n\u001b[0m\u001b[1;32m      4\u001b[0m \u001b[0mp_values\u001b[0m\u001b[0;34m\u001b[0m\u001b[0;34m\u001b[0m\u001b[0m\n",
      "\u001b[0;31mNameError\u001b[0m: name 'st' is not defined"
     ]
    }
   ],
   "source": [
    "import numpy as np\n",
    "vector = np.array([.925, .95, .975, .99])\n",
    "p_values = [st.norm.ppf(v) for v in vector]\n",
    "p_values"
   ]
  },
  {
   "cell_type": "code",
   "execution_count": null,
   "id": "e11dcd4d",
   "metadata": {},
   "outputs": [],
   "source": []
  }
 ],
 "metadata": {
  "kernelspec": {
   "display_name": "Python 3 (ipykernel)",
   "language": "python",
   "name": "python3"
  },
  "language_info": {
   "codemirror_mode": {
    "name": "ipython",
    "version": 3
   },
   "file_extension": ".py",
   "mimetype": "text/x-python",
   "name": "python",
   "nbconvert_exporter": "python",
   "pygments_lexer": "ipython3",
   "version": "3.9.8"
  }
 },
 "nbformat": 4,
 "nbformat_minor": 5
}
