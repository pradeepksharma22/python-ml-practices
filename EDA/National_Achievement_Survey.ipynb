{
 "cells": [
  {
   "cell_type": "code",
   "execution_count": 185,
   "id": "536bceb5",
   "metadata": {},
   "outputs": [],
   "source": [
    "#import the libraries\n",
    "import pandas as pd\n",
    "import numpy as np\n",
    "import seaborn as sns\n",
    "\n",
    "import matplotlib.pyplot as plt\n",
    "import os.path"
   ]
  },
  {
   "cell_type": "code",
   "execution_count": 2,
   "id": "735afee8",
   "metadata": {},
   "outputs": [
    {
     "data": {
      "text/html": [
       "<div>\n",
       "<style scoped>\n",
       "    .dataframe tbody tr th:only-of-type {\n",
       "        vertical-align: middle;\n",
       "    }\n",
       "\n",
       "    .dataframe tbody tr th {\n",
       "        vertical-align: top;\n",
       "    }\n",
       "\n",
       "    .dataframe thead th {\n",
       "        text-align: right;\n",
       "    }\n",
       "</style>\n",
       "<table border=\"1\" class=\"dataframe\">\n",
       "  <thead>\n",
       "    <tr style=\"text-align: right;\">\n",
       "      <th></th>\n",
       "      <th>STUID</th>\n",
       "      <th>District</th>\n",
       "      <th>Category</th>\n",
       "      <th>Same.language</th>\n",
       "      <th>Maths..</th>\n",
       "      <th>Reading..</th>\n",
       "      <th>Science..</th>\n",
       "      <th>Social..</th>\n",
       "    </tr>\n",
       "  </thead>\n",
       "  <tbody>\n",
       "    <tr>\n",
       "      <th>count</th>\n",
       "      <td>8.801000e+03</td>\n",
       "      <td>8801.000000</td>\n",
       "      <td>8232.000000</td>\n",
       "      <td>8572.000000</td>\n",
       "      <td>4190.000000</td>\n",
       "      <td>4227.000000</td>\n",
       "      <td>4144.000000</td>\n",
       "      <td>4119.000000</td>\n",
       "    </tr>\n",
       "    <tr>\n",
       "      <th>mean</th>\n",
       "      <td>2.608389e+10</td>\n",
       "      <td>8.255766</td>\n",
       "      <td>2.787293</td>\n",
       "      <td>1.102776</td>\n",
       "      <td>31.601532</td>\n",
       "      <td>55.404436</td>\n",
       "      <td>36.313272</td>\n",
       "      <td>40.502527</td>\n",
       "    </tr>\n",
       "    <tr>\n",
       "      <th>std</th>\n",
       "      <td>4.069188e+07</td>\n",
       "      <td>4.065476</td>\n",
       "      <td>1.146670</td>\n",
       "      <td>0.303684</td>\n",
       "      <td>14.734404</td>\n",
       "      <td>23.279043</td>\n",
       "      <td>13.199105</td>\n",
       "      <td>14.479584</td>\n",
       "    </tr>\n",
       "    <tr>\n",
       "      <th>min</th>\n",
       "      <td>2.601100e+10</td>\n",
       "      <td>1.000000</td>\n",
       "      <td>1.000000</td>\n",
       "      <td>1.000000</td>\n",
       "      <td>0.000000</td>\n",
       "      <td>0.000000</td>\n",
       "      <td>0.000000</td>\n",
       "      <td>0.000000</td>\n",
       "    </tr>\n",
       "    <tr>\n",
       "      <th>25%</th>\n",
       "      <td>2.604207e+10</td>\n",
       "      <td>4.000000</td>\n",
       "      <td>2.000000</td>\n",
       "      <td>1.000000</td>\n",
       "      <td>22.030000</td>\n",
       "      <td>35.575000</td>\n",
       "      <td>27.270000</td>\n",
       "      <td>30.610000</td>\n",
       "    </tr>\n",
       "    <tr>\n",
       "      <th>50%</th>\n",
       "      <td>2.609115e+10</td>\n",
       "      <td>9.000000</td>\n",
       "      <td>3.000000</td>\n",
       "      <td>1.000000</td>\n",
       "      <td>28.070000</td>\n",
       "      <td>56.670000</td>\n",
       "      <td>34.550000</td>\n",
       "      <td>38.780000</td>\n",
       "    </tr>\n",
       "    <tr>\n",
       "      <th>75%</th>\n",
       "      <td>2.612121e+10</td>\n",
       "      <td>12.000000</td>\n",
       "      <td>4.000000</td>\n",
       "      <td>1.000000</td>\n",
       "      <td>36.840000</td>\n",
       "      <td>73.330000</td>\n",
       "      <td>43.640000</td>\n",
       "      <td>51.020000</td>\n",
       "    </tr>\n",
       "    <tr>\n",
       "      <th>max</th>\n",
       "      <td>2.614127e+10</td>\n",
       "      <td>14.000000</td>\n",
       "      <td>4.000000</td>\n",
       "      <td>2.000000</td>\n",
       "      <td>94.740000</td>\n",
       "      <td>100.000000</td>\n",
       "      <td>85.450000</td>\n",
       "      <td>89.800000</td>\n",
       "    </tr>\n",
       "  </tbody>\n",
       "</table>\n",
       "</div>"
      ],
      "text/plain": [
       "              STUID     District     Category  Same.language      Maths..  \\\n",
       "count  8.801000e+03  8801.000000  8232.000000    8572.000000  4190.000000   \n",
       "mean   2.608389e+10     8.255766     2.787293       1.102776    31.601532   \n",
       "std    4.069188e+07     4.065476     1.146670       0.303684    14.734404   \n",
       "min    2.601100e+10     1.000000     1.000000       1.000000     0.000000   \n",
       "25%    2.604207e+10     4.000000     2.000000       1.000000    22.030000   \n",
       "50%    2.609115e+10     9.000000     3.000000       1.000000    28.070000   \n",
       "75%    2.612121e+10    12.000000     4.000000       1.000000    36.840000   \n",
       "max    2.614127e+10    14.000000     4.000000       2.000000    94.740000   \n",
       "\n",
       "         Reading..    Science..     Social..  \n",
       "count  4227.000000  4144.000000  4119.000000  \n",
       "mean     55.404436    36.313272    40.502527  \n",
       "std      23.279043    13.199105    14.479584  \n",
       "min       0.000000     0.000000     0.000000  \n",
       "25%      35.575000    27.270000    30.610000  \n",
       "50%      56.670000    34.550000    38.780000  \n",
       "75%      73.330000    43.640000    51.020000  \n",
       "max     100.000000    85.450000    89.800000  "
      ]
     },
     "execution_count": 2,
     "metadata": {},
     "output_type": "execute_result"
    }
   ],
   "source": [
    "#read the dataset and check the first five rows\n",
    "df = pd.read_csv(\"EDA_nas.csv\")\n",
    "df.describe()"
   ]
  },
  {
   "cell_type": "code",
   "execution_count": 7,
   "id": "ecda8559",
   "metadata": {},
   "outputs": [
    {
     "name": "stdout",
     "output_type": "stream",
     "text": [
      "<class 'pandas.core.frame.DataFrame'>\n",
      "RangeIndex: 8801 entries, 0 to 8800\n",
      "Data columns (total 64 columns):\n",
      " #   Column                  Non-Null Count  Dtype  \n",
      "---  ------                  --------------  -----  \n",
      " 0   STUID                   8801 non-null   int64  \n",
      " 1   State                   8801 non-null   object \n",
      " 2   District                8801 non-null   int64  \n",
      " 3   Gender                  8799 non-null   object \n",
      " 4   Age                     8569 non-null   object \n",
      " 5   Category                8232 non-null   float64\n",
      " 6   Same.language           8572 non-null   float64\n",
      " 7   Siblings                8801 non-null   object \n",
      " 8   Handicap                8304 non-null   object \n",
      " 9   Father.edu              8147 non-null   object \n",
      " 10  Mother.edu              7950 non-null   object \n",
      " 11  Father.occupation       7761 non-null   object \n",
      " 12  Mother.occupation       6626 non-null   object \n",
      " 13  Below.poverty           7347 non-null   object \n",
      " 14  Use.calculator          6646 non-null   object \n",
      " 15  Use.computer            6646 non-null   object \n",
      " 16  Use.Internet            6646 non-null   object \n",
      " 17  Use.dictionary          6646 non-null   object \n",
      " 18  Read.other.books        6996 non-null   object \n",
      " 19  X..Books                8059 non-null   object \n",
      " 20  Distance                8467 non-null   object \n",
      " 21  Computer.use            8737 non-null   object \n",
      " 22  Library.use             8604 non-null   object \n",
      " 23  Like.school             8568 non-null   object \n",
      " 24  Subjects                8692 non-null   object \n",
      " 25  Give.Lang.HW            8735 non-null   object \n",
      " 26  Give.Math.HW            8735 non-null   object \n",
      " 27  Give.Scie.HW            8735 non-null   object \n",
      " 28  Give.SoSc.HW            8735 non-null   object \n",
      " 29  Correct.Lang.HW         8694 non-null   object \n",
      " 30  Correct.Math.HW         8694 non-null   object \n",
      " 31  Correct.Scie.HW         8694 non-null   object \n",
      " 32  Correct.SocS.HW         8694 non-null   object \n",
      " 33  Help.in.Study           8711 non-null   object \n",
      " 34  Private.tuition         8711 non-null   object \n",
      " 35  English.is.difficult    8761 non-null   object \n",
      " 36  Read.English            8761 non-null   object \n",
      " 37  Dictionary.to.learn     8761 non-null   object \n",
      " 38  Answer.English.WB       8761 non-null   object \n",
      " 39  Answer.English.aloud    8761 non-null   object \n",
      " 40  Maths.is.difficult      8740 non-null   object \n",
      " 41  Solve.Maths             8740 non-null   object \n",
      " 42  Solve.Maths.in.groups   8740 non-null   object \n",
      " 43  Draw.geometry           8740 non-null   object \n",
      " 44  Explain.answers         8740 non-null   object \n",
      " 45  SocSci.is.difficult     8611 non-null   object \n",
      " 46  Historical.excursions   8587 non-null   object \n",
      " 47  Participate.in.SocSci   8567 non-null   object \n",
      " 48  Small.groups.in.SocSci  8525 non-null   object \n",
      " 49  Express.SocSci.views    8488 non-null   object \n",
      " 50  Science.is.difficult    8599 non-null   object \n",
      " 51  Observe.experiments     8562 non-null   object \n",
      " 52  Conduct.experiments     8555 non-null   object \n",
      " 53  Solve.science.problems  8489 non-null   object \n",
      " 54  Express.science.views   8436 non-null   object \n",
      " 55  Watch.TV                8757 non-null   object \n",
      " 56  Read.magazine           8757 non-null   object \n",
      " 57  Read.a.book             8757 non-null   object \n",
      " 58  Play.games              8757 non-null   object \n",
      " 59  Help.in.household       8757 non-null   object \n",
      " 60  Maths..                 4190 non-null   float64\n",
      " 61  Reading..               4227 non-null   float64\n",
      " 62  Science..               4144 non-null   float64\n",
      " 63  Social..                4119 non-null   float64\n",
      "dtypes: float64(6), int64(2), object(56)\n",
      "memory usage: 4.3+ MB\n"
     ]
    }
   ],
   "source": [
    "df.info()"
   ]
  },
  {
   "cell_type": "code",
   "execution_count": 6,
   "id": "f9fd8432",
   "metadata": {},
   "outputs": [
    {
     "data": {
      "text/plain": [
       "0         Every day\n",
       "1       Once a week\n",
       "2         Every day\n",
       "3         Every day\n",
       "4             Never\n",
       "           ...     \n",
       "8796      Every day\n",
       "8797      Every day\n",
       "8798      Every day\n",
       "8799    Once a week\n",
       "8800    Once a week\n",
       "Name: Watch.TV, Length: 8801, dtype: object"
      ]
     },
     "execution_count": 6,
     "metadata": {},
     "output_type": "execute_result"
    }
   ],
   "source": [
    "df[\"Watch.TV\"]"
   ]
  },
  {
   "cell_type": "code",
   "execution_count": 8,
   "id": "b81a81e7",
   "metadata": {},
   "outputs": [
    {
     "data": {
      "text/html": [
       "<div>\n",
       "<style scoped>\n",
       "    .dataframe tbody tr th:only-of-type {\n",
       "        vertical-align: middle;\n",
       "    }\n",
       "\n",
       "    .dataframe tbody tr th {\n",
       "        vertical-align: top;\n",
       "    }\n",
       "\n",
       "    .dataframe thead th {\n",
       "        text-align: right;\n",
       "    }\n",
       "</style>\n",
       "<table border=\"1\" class=\"dataframe\">\n",
       "  <thead>\n",
       "    <tr style=\"text-align: right;\">\n",
       "      <th></th>\n",
       "      <th>Science..</th>\n",
       "    </tr>\n",
       "    <tr>\n",
       "      <th>Watch.TV</th>\n",
       "      <th></th>\n",
       "    </tr>\n",
       "  </thead>\n",
       "  <tbody>\n",
       "    <tr>\n",
       "      <th>Every day</th>\n",
       "      <td>36.357915</td>\n",
       "    </tr>\n",
       "    <tr>\n",
       "      <th>Never</th>\n",
       "      <td>35.638589</td>\n",
       "    </tr>\n",
       "    <tr>\n",
       "      <th>Once a month</th>\n",
       "      <td>36.786127</td>\n",
       "    </tr>\n",
       "    <tr>\n",
       "      <th>Once a week</th>\n",
       "      <td>36.467112</td>\n",
       "    </tr>\n",
       "  </tbody>\n",
       "</table>\n",
       "</div>"
      ],
      "text/plain": [
       "              Science..\n",
       "Watch.TV               \n",
       "Every day     36.357915\n",
       "Never         35.638589\n",
       "Once a month  36.786127\n",
       "Once a week   36.467112"
      ]
     },
     "execution_count": 8,
     "metadata": {},
     "output_type": "execute_result"
    }
   ],
   "source": [
    "df1 = pd.pivot_table(df,index=[\"Watch.TV\"],values=['Science..'], aggfunc=np.mean)\n",
    "df1"
   ]
  },
  {
   "cell_type": "code",
   "execution_count": 9,
   "id": "e76c61ee",
   "metadata": {},
   "outputs": [
    {
     "data": {
      "text/html": [
       "<div>\n",
       "<style scoped>\n",
       "    .dataframe tbody tr th:only-of-type {\n",
       "        vertical-align: middle;\n",
       "    }\n",
       "\n",
       "    .dataframe tbody tr th {\n",
       "        vertical-align: top;\n",
       "    }\n",
       "\n",
       "    .dataframe thead th {\n",
       "        text-align: right;\n",
       "    }\n",
       "</style>\n",
       "<table border=\"1\" class=\"dataframe\">\n",
       "  <thead>\n",
       "    <tr style=\"text-align: right;\">\n",
       "      <th></th>\n",
       "      <th>Maths..</th>\n",
       "    </tr>\n",
       "    <tr>\n",
       "      <th>Father.edu</th>\n",
       "      <th></th>\n",
       "    </tr>\n",
       "  </thead>\n",
       "  <tbody>\n",
       "    <tr>\n",
       "      <th>Degree &amp; above</th>\n",
       "      <td>34.879193</td>\n",
       "    </tr>\n",
       "    <tr>\n",
       "      <th>Illiterate</th>\n",
       "      <td>29.126754</td>\n",
       "    </tr>\n",
       "    <tr>\n",
       "      <th>Primary</th>\n",
       "      <td>32.561137</td>\n",
       "    </tr>\n",
       "    <tr>\n",
       "      <th>Secondary</th>\n",
       "      <td>32.230393</td>\n",
       "    </tr>\n",
       "    <tr>\n",
       "      <th>Sr secondary</th>\n",
       "      <td>32.493415</td>\n",
       "    </tr>\n",
       "  </tbody>\n",
       "</table>\n",
       "</div>"
      ],
      "text/plain": [
       "                  Maths..\n",
       "Father.edu               \n",
       "Degree & above  34.879193\n",
       "Illiterate      29.126754\n",
       "Primary         32.561137\n",
       "Secondary       32.230393\n",
       "Sr secondary    32.493415"
      ]
     },
     "execution_count": 9,
     "metadata": {},
     "output_type": "execute_result"
    }
   ],
   "source": [
    "df1 = pd.pivot_table(df,index=[\"Father.edu\"],values=['Maths..'], aggfunc=np.mean)\n",
    "df1"
   ]
  },
  {
   "cell_type": "code",
   "execution_count": 10,
   "id": "c20a9999",
   "metadata": {},
   "outputs": [
    {
     "data": {
      "text/html": [
       "<div>\n",
       "<style scoped>\n",
       "    .dataframe tbody tr th:only-of-type {\n",
       "        vertical-align: middle;\n",
       "    }\n",
       "\n",
       "    .dataframe tbody tr th {\n",
       "        vertical-align: top;\n",
       "    }\n",
       "\n",
       "    .dataframe thead th {\n",
       "        text-align: right;\n",
       "    }\n",
       "</style>\n",
       "<table border=\"1\" class=\"dataframe\">\n",
       "  <thead>\n",
       "    <tr style=\"text-align: right;\">\n",
       "      <th></th>\n",
       "      <th>Maths..</th>\n",
       "    </tr>\n",
       "    <tr>\n",
       "      <th>Father.edu</th>\n",
       "      <th></th>\n",
       "    </tr>\n",
       "  </thead>\n",
       "  <tbody>\n",
       "    <tr>\n",
       "      <th>Degree &amp; above</th>\n",
       "      <td>77.19</td>\n",
       "    </tr>\n",
       "    <tr>\n",
       "      <th>Illiterate</th>\n",
       "      <td>94.74</td>\n",
       "    </tr>\n",
       "    <tr>\n",
       "      <th>Primary</th>\n",
       "      <td>89.83</td>\n",
       "    </tr>\n",
       "    <tr>\n",
       "      <th>Secondary</th>\n",
       "      <td>91.23</td>\n",
       "    </tr>\n",
       "    <tr>\n",
       "      <th>Sr secondary</th>\n",
       "      <td>91.53</td>\n",
       "    </tr>\n",
       "  </tbody>\n",
       "</table>\n",
       "</div>"
      ],
      "text/plain": [
       "                Maths..\n",
       "Father.edu             \n",
       "Degree & above    77.19\n",
       "Illiterate        94.74\n",
       "Primary           89.83\n",
       "Secondary         91.23\n",
       "Sr secondary      91.53"
      ]
     },
     "execution_count": 10,
     "metadata": {},
     "output_type": "execute_result"
    }
   ],
   "source": [
    "df1 = pd.pivot_table(df,index=[\"Father.edu\"],values=['Maths..'], aggfunc=np.max)\n",
    "df1"
   ]
  },
  {
   "cell_type": "code",
   "execution_count": 12,
   "id": "553b32c1",
   "metadata": {},
   "outputs": [
    {
     "data": {
      "text/html": [
       "<div>\n",
       "<style scoped>\n",
       "    .dataframe tbody tr th:only-of-type {\n",
       "        vertical-align: middle;\n",
       "    }\n",
       "\n",
       "    .dataframe tbody tr th {\n",
       "        vertical-align: top;\n",
       "    }\n",
       "\n",
       "    .dataframe thead th {\n",
       "        text-align: right;\n",
       "    }\n",
       "</style>\n",
       "<table border=\"1\" class=\"dataframe\">\n",
       "  <thead>\n",
       "    <tr style=\"text-align: right;\">\n",
       "      <th></th>\n",
       "      <th>Reading..</th>\n",
       "    </tr>\n",
       "    <tr>\n",
       "      <th>Play.games</th>\n",
       "      <th></th>\n",
       "    </tr>\n",
       "  </thead>\n",
       "  <tbody>\n",
       "    <tr>\n",
       "      <th>Every day</th>\n",
       "      <td>54.780136</td>\n",
       "    </tr>\n",
       "    <tr>\n",
       "      <th>Never</th>\n",
       "      <td>49.107484</td>\n",
       "    </tr>\n",
       "    <tr>\n",
       "      <th>Once a month</th>\n",
       "      <td>51.951193</td>\n",
       "    </tr>\n",
       "    <tr>\n",
       "      <th>Once a week</th>\n",
       "      <td>59.627034</td>\n",
       "    </tr>\n",
       "  </tbody>\n",
       "</table>\n",
       "</div>"
      ],
      "text/plain": [
       "              Reading..\n",
       "Play.games             \n",
       "Every day     54.780136\n",
       "Never         49.107484\n",
       "Once a month  51.951193\n",
       "Once a week   59.627034"
      ]
     },
     "execution_count": 12,
     "metadata": {},
     "output_type": "execute_result"
    }
   ],
   "source": [
    "df1 = pd.pivot_table(df,index=[\"Play.games\"],values=['Reading..'], aggfunc=np.mean)\n",
    "df1"
   ]
  },
  {
   "cell_type": "code",
   "execution_count": 16,
   "id": "0aa80cbc",
   "metadata": {},
   "outputs": [
    {
     "data": {
      "text/html": [
       "<div>\n",
       "<style scoped>\n",
       "    .dataframe tbody tr th:only-of-type {\n",
       "        vertical-align: middle;\n",
       "    }\n",
       "\n",
       "    .dataframe tbody tr th {\n",
       "        vertical-align: top;\n",
       "    }\n",
       "\n",
       "    .dataframe thead th {\n",
       "        text-align: right;\n",
       "    }\n",
       "</style>\n",
       "<table border=\"1\" class=\"dataframe\">\n",
       "  <thead>\n",
       "    <tr style=\"text-align: right;\">\n",
       "      <th></th>\n",
       "      <th></th>\n",
       "      <th>Maths..</th>\n",
       "    </tr>\n",
       "    <tr>\n",
       "      <th>Father.edu</th>\n",
       "      <th>State</th>\n",
       "      <th></th>\n",
       "    </tr>\n",
       "  </thead>\n",
       "  <tbody>\n",
       "    <tr>\n",
       "      <th>Degree &amp; above</th>\n",
       "      <th>Maharashtra</th>\n",
       "      <td>77.19</td>\n",
       "    </tr>\n",
       "    <tr>\n",
       "      <th>Illiterate</th>\n",
       "      <th>Maharashtra</th>\n",
       "      <td>94.74</td>\n",
       "    </tr>\n",
       "    <tr>\n",
       "      <th>Primary</th>\n",
       "      <th>Maharashtra</th>\n",
       "      <td>89.83</td>\n",
       "    </tr>\n",
       "    <tr>\n",
       "      <th>Secondary</th>\n",
       "      <th>Maharashtra</th>\n",
       "      <td>91.23</td>\n",
       "    </tr>\n",
       "    <tr>\n",
       "      <th>Sr secondary</th>\n",
       "      <th>Maharashtra</th>\n",
       "      <td>91.53</td>\n",
       "    </tr>\n",
       "  </tbody>\n",
       "</table>\n",
       "</div>"
      ],
      "text/plain": [
       "                            Maths..\n",
       "Father.edu     State               \n",
       "Degree & above Maharashtra    77.19\n",
       "Illiterate     Maharashtra    94.74\n",
       "Primary        Maharashtra    89.83\n",
       "Secondary      Maharashtra    91.23\n",
       "Sr secondary   Maharashtra    91.53"
      ]
     },
     "execution_count": 16,
     "metadata": {},
     "output_type": "execute_result"
    }
   ],
   "source": [
    "df1 = pd.pivot_table(df,index=[\"Father.edu\",\"State\"],values=['Maths..'], aggfunc=np.max)\n",
    "df1"
   ]
  },
  {
   "cell_type": "code",
   "execution_count": 44,
   "id": "a26ae778",
   "metadata": {},
   "outputs": [
    {
     "data": {
      "text/plain": [
       "Mother.edu      Siblings    \n",
       "Secondary       1 sibling       1050\n",
       "Illiterate      2 siblings       923\n",
       "Secondary       2 siblings       846\n",
       "Primary         2 siblings       771\n",
       "                1 sibling        689\n",
       "Illiterate      1 sibling        533\n",
       "                3 siblings       532\n",
       "                4+ siblings      469\n",
       "Primary         3 siblings       417\n",
       "Secondary       3 siblings       348\n",
       "                4+ siblings      255\n",
       "Primary         4+ siblings      251\n",
       "Sr secondary    1 sibling        206\n",
       "                2 siblings       132\n",
       "Secondary       Single child      92\n",
       "Primary         Single child      92\n",
       "Degree & above  1 sibling         88\n",
       "Illiterate      Single child      88\n",
       "Sr secondary    3 siblings        48\n",
       "Degree & above  2 siblings        36\n",
       "Sr secondary    Single child      24\n",
       "                4+ siblings       23\n",
       "Degree & above  Single child      20\n",
       "                3 siblings        11\n",
       "                4+ siblings        6\n",
       "dtype: int64"
      ]
     },
     "execution_count": 44,
     "metadata": {},
     "output_type": "execute_result"
    }
   ],
   "source": [
    "nas_df = pd.read_csv(\"nas.csv\")\n",
    "nas_df = nas_df[[\"Mother.edu\", 'Siblings']]\n",
    "nas_df.value_counts()"
   ]
  },
  {
   "cell_type": "code",
   "execution_count": 36,
   "id": "5e3d01b8",
   "metadata": {},
   "outputs": [
    {
     "data": {
      "text/html": [
       "<div>\n",
       "<style scoped>\n",
       "    .dataframe tbody tr th:only-of-type {\n",
       "        vertical-align: middle;\n",
       "    }\n",
       "\n",
       "    .dataframe tbody tr th {\n",
       "        vertical-align: top;\n",
       "    }\n",
       "\n",
       "    .dataframe thead th {\n",
       "        text-align: right;\n",
       "    }\n",
       "</style>\n",
       "<table border=\"1\" class=\"dataframe\">\n",
       "  <thead>\n",
       "    <tr style=\"text-align: right;\">\n",
       "      <th></th>\n",
       "      <th>Mother.edu</th>\n",
       "      <th>Siblings</th>\n",
       "    </tr>\n",
       "  </thead>\n",
       "  <tbody>\n",
       "    <tr>\n",
       "      <th>1</th>\n",
       "      <td>Illiterate</td>\n",
       "      <td>3 siblings</td>\n",
       "    </tr>\n",
       "    <tr>\n",
       "      <th>2</th>\n",
       "      <td>Illiterate</td>\n",
       "      <td>3 siblings</td>\n",
       "    </tr>\n",
       "    <tr>\n",
       "      <th>14</th>\n",
       "      <td>Illiterate</td>\n",
       "      <td>3 siblings</td>\n",
       "    </tr>\n",
       "    <tr>\n",
       "      <th>18</th>\n",
       "      <td>Illiterate</td>\n",
       "      <td>3 siblings</td>\n",
       "    </tr>\n",
       "    <tr>\n",
       "      <th>21</th>\n",
       "      <td>Illiterate</td>\n",
       "      <td>3 siblings</td>\n",
       "    </tr>\n",
       "    <tr>\n",
       "      <th>...</th>\n",
       "      <td>...</td>\n",
       "      <td>...</td>\n",
       "    </tr>\n",
       "    <tr>\n",
       "      <th>8647</th>\n",
       "      <td>Illiterate</td>\n",
       "      <td>3 siblings</td>\n",
       "    </tr>\n",
       "    <tr>\n",
       "      <th>8665</th>\n",
       "      <td>Illiterate</td>\n",
       "      <td>3 siblings</td>\n",
       "    </tr>\n",
       "    <tr>\n",
       "      <th>8668</th>\n",
       "      <td>Illiterate</td>\n",
       "      <td>3 siblings</td>\n",
       "    </tr>\n",
       "    <tr>\n",
       "      <th>8712</th>\n",
       "      <td>Illiterate</td>\n",
       "      <td>3 siblings</td>\n",
       "    </tr>\n",
       "    <tr>\n",
       "      <th>8721</th>\n",
       "      <td>Illiterate</td>\n",
       "      <td>3 siblings</td>\n",
       "    </tr>\n",
       "  </tbody>\n",
       "</table>\n",
       "<p>532 rows × 2 columns</p>\n",
       "</div>"
      ],
      "text/plain": [
       "      Mother.edu    Siblings\n",
       "1     Illiterate  3 siblings\n",
       "2     Illiterate  3 siblings\n",
       "14    Illiterate  3 siblings\n",
       "18    Illiterate  3 siblings\n",
       "21    Illiterate  3 siblings\n",
       "...          ...         ...\n",
       "8647  Illiterate  3 siblings\n",
       "8665  Illiterate  3 siblings\n",
       "8668  Illiterate  3 siblings\n",
       "8712  Illiterate  3 siblings\n",
       "8721  Illiterate  3 siblings\n",
       "\n",
       "[532 rows x 2 columns]"
      ]
     },
     "execution_count": 36,
     "metadata": {},
     "output_type": "execute_result"
    }
   ],
   "source": [
    "\n",
    "nas_df[(nas_df[\"Mother.edu\"] != \"\") & (nas_df[\"Mother.edu\"] == \"Illiterate\") & (nas_df[\"Siblings\"] == \"3 siblings\")]\n",
    "#nas_df1 = nas_df[nas_df[\"Mother.edu\"] != \"\"]\n",
    "#nas_df.value_counts()"
   ]
  },
  {
   "cell_type": "code",
   "execution_count": 39,
   "id": "07b23e6e",
   "metadata": {},
   "outputs": [
    {
     "data": {
      "text/html": [
       "<div>\n",
       "<style scoped>\n",
       "    .dataframe tbody tr th:only-of-type {\n",
       "        vertical-align: middle;\n",
       "    }\n",
       "\n",
       "    .dataframe tbody tr th {\n",
       "        vertical-align: top;\n",
       "    }\n",
       "\n",
       "    .dataframe thead th {\n",
       "        text-align: right;\n",
       "    }\n",
       "</style>\n",
       "<table border=\"1\" class=\"dataframe\">\n",
       "  <thead>\n",
       "    <tr style=\"text-align: right;\">\n",
       "      <th></th>\n",
       "      <th>Mother.edu</th>\n",
       "      <th>Siblings</th>\n",
       "    </tr>\n",
       "  </thead>\n",
       "  <tbody>\n",
       "  </tbody>\n",
       "</table>\n",
       "</div>"
      ],
      "text/plain": [
       "Empty DataFrame\n",
       "Columns: [Mother.edu, Siblings]\n",
       "Index: []"
      ]
     },
     "execution_count": 39,
     "metadata": {},
     "output_type": "execute_result"
    }
   ],
   "source": [
    "nas_df[(nas_df[\"Mother.edu\"] != \"\") & (nas_df[\"Mother.edu\"] == \"Illiterate\") & (nas_df[\"Siblings\"] == \"3 sibling\")]\n"
   ]
  },
  {
   "cell_type": "code",
   "execution_count": 37,
   "id": "c3ba9d26",
   "metadata": {},
   "outputs": [
    {
     "data": {
      "text/html": [
       "<div>\n",
       "<style scoped>\n",
       "    .dataframe tbody tr th:only-of-type {\n",
       "        vertical-align: middle;\n",
       "    }\n",
       "\n",
       "    .dataframe tbody tr th {\n",
       "        vertical-align: top;\n",
       "    }\n",
       "\n",
       "    .dataframe thead th {\n",
       "        text-align: right;\n",
       "    }\n",
       "</style>\n",
       "<table border=\"1\" class=\"dataframe\">\n",
       "  <thead>\n",
       "    <tr style=\"text-align: right;\">\n",
       "      <th></th>\n",
       "      <th>Mother.edu</th>\n",
       "      <th>Siblings</th>\n",
       "    </tr>\n",
       "  </thead>\n",
       "  <tbody>\n",
       "    <tr>\n",
       "      <th>4</th>\n",
       "      <td>Illiterate</td>\n",
       "      <td>2 siblings</td>\n",
       "    </tr>\n",
       "    <tr>\n",
       "      <th>5</th>\n",
       "      <td>Illiterate</td>\n",
       "      <td>2 siblings</td>\n",
       "    </tr>\n",
       "    <tr>\n",
       "      <th>8</th>\n",
       "      <td>Illiterate</td>\n",
       "      <td>2 siblings</td>\n",
       "    </tr>\n",
       "    <tr>\n",
       "      <th>15</th>\n",
       "      <td>Illiterate</td>\n",
       "      <td>2 siblings</td>\n",
       "    </tr>\n",
       "    <tr>\n",
       "      <th>33</th>\n",
       "      <td>Illiterate</td>\n",
       "      <td>2 siblings</td>\n",
       "    </tr>\n",
       "    <tr>\n",
       "      <th>...</th>\n",
       "      <td>...</td>\n",
       "      <td>...</td>\n",
       "    </tr>\n",
       "    <tr>\n",
       "      <th>8709</th>\n",
       "      <td>Illiterate</td>\n",
       "      <td>2 siblings</td>\n",
       "    </tr>\n",
       "    <tr>\n",
       "      <th>8717</th>\n",
       "      <td>Illiterate</td>\n",
       "      <td>2 siblings</td>\n",
       "    </tr>\n",
       "    <tr>\n",
       "      <th>8729</th>\n",
       "      <td>Illiterate</td>\n",
       "      <td>2 siblings</td>\n",
       "    </tr>\n",
       "    <tr>\n",
       "      <th>8778</th>\n",
       "      <td>Illiterate</td>\n",
       "      <td>2 siblings</td>\n",
       "    </tr>\n",
       "    <tr>\n",
       "      <th>8786</th>\n",
       "      <td>Illiterate</td>\n",
       "      <td>2 siblings</td>\n",
       "    </tr>\n",
       "  </tbody>\n",
       "</table>\n",
       "<p>923 rows × 2 columns</p>\n",
       "</div>"
      ],
      "text/plain": [
       "      Mother.edu    Siblings\n",
       "4     Illiterate  2 siblings\n",
       "5     Illiterate  2 siblings\n",
       "8     Illiterate  2 siblings\n",
       "15    Illiterate  2 siblings\n",
       "33    Illiterate  2 siblings\n",
       "...          ...         ...\n",
       "8709  Illiterate  2 siblings\n",
       "8717  Illiterate  2 siblings\n",
       "8729  Illiterate  2 siblings\n",
       "8778  Illiterate  2 siblings\n",
       "8786  Illiterate  2 siblings\n",
       "\n",
       "[923 rows x 2 columns]"
      ]
     },
     "execution_count": 37,
     "metadata": {},
     "output_type": "execute_result"
    }
   ],
   "source": [
    "nas_df[(nas_df[\"Mother.edu\"] != \"\") & (nas_df[\"Mother.edu\"] == \"Illiterate\") & (nas_df[\"Siblings\"] == \"2 siblings\")]\n"
   ]
  },
  {
   "cell_type": "code",
   "execution_count": 38,
   "id": "af337bdb",
   "metadata": {},
   "outputs": [
    {
     "data": {
      "text/html": [
       "<div>\n",
       "<style scoped>\n",
       "    .dataframe tbody tr th:only-of-type {\n",
       "        vertical-align: middle;\n",
       "    }\n",
       "\n",
       "    .dataframe tbody tr th {\n",
       "        vertical-align: top;\n",
       "    }\n",
       "\n",
       "    .dataframe thead th {\n",
       "        text-align: right;\n",
       "    }\n",
       "</style>\n",
       "<table border=\"1\" class=\"dataframe\">\n",
       "  <thead>\n",
       "    <tr style=\"text-align: right;\">\n",
       "      <th></th>\n",
       "      <th>Mother.edu</th>\n",
       "      <th>Siblings</th>\n",
       "    </tr>\n",
       "  </thead>\n",
       "  <tbody>\n",
       "  </tbody>\n",
       "</table>\n",
       "</div>"
      ],
      "text/plain": [
       "Empty DataFrame\n",
       "Columns: [Mother.edu, Siblings]\n",
       "Index: []"
      ]
     },
     "execution_count": 38,
     "metadata": {},
     "output_type": "execute_result"
    }
   ],
   "source": [
    "nas_df[(nas_df[\"Mother.edu\"] != \"\") & (nas_df[\"Mother.edu\"] == \"Illiterate\") & (nas_df[\"Siblings\"] == \"2 sibling\")]\n"
   ]
  },
  {
   "cell_type": "code",
   "execution_count": 41,
   "id": "2f08d1b4",
   "metadata": {},
   "outputs": [
    {
     "data": {
      "text/html": [
       "<div>\n",
       "<style scoped>\n",
       "    .dataframe tbody tr th:only-of-type {\n",
       "        vertical-align: middle;\n",
       "    }\n",
       "\n",
       "    .dataframe tbody tr th {\n",
       "        vertical-align: top;\n",
       "    }\n",
       "\n",
       "    .dataframe thead th {\n",
       "        text-align: right;\n",
       "    }\n",
       "</style>\n",
       "<table border=\"1\" class=\"dataframe\">\n",
       "  <thead>\n",
       "    <tr style=\"text-align: right;\">\n",
       "      <th></th>\n",
       "      <th>Mother.edu</th>\n",
       "      <th>Siblings</th>\n",
       "    </tr>\n",
       "  </thead>\n",
       "  <tbody>\n",
       "    <tr>\n",
       "      <th>7</th>\n",
       "      <td>Illiterate</td>\n",
       "      <td>4+ siblings</td>\n",
       "    </tr>\n",
       "    <tr>\n",
       "      <th>9</th>\n",
       "      <td>Illiterate</td>\n",
       "      <td>4+ siblings</td>\n",
       "    </tr>\n",
       "    <tr>\n",
       "      <th>11</th>\n",
       "      <td>Illiterate</td>\n",
       "      <td>4+ siblings</td>\n",
       "    </tr>\n",
       "    <tr>\n",
       "      <th>17</th>\n",
       "      <td>Illiterate</td>\n",
       "      <td>4+ siblings</td>\n",
       "    </tr>\n",
       "    <tr>\n",
       "      <th>52</th>\n",
       "      <td>Illiterate</td>\n",
       "      <td>4+ siblings</td>\n",
       "    </tr>\n",
       "    <tr>\n",
       "      <th>...</th>\n",
       "      <td>...</td>\n",
       "      <td>...</td>\n",
       "    </tr>\n",
       "    <tr>\n",
       "      <th>8674</th>\n",
       "      <td>Illiterate</td>\n",
       "      <td>4+ siblings</td>\n",
       "    </tr>\n",
       "    <tr>\n",
       "      <th>8675</th>\n",
       "      <td>Illiterate</td>\n",
       "      <td>4+ siblings</td>\n",
       "    </tr>\n",
       "    <tr>\n",
       "      <th>8683</th>\n",
       "      <td>Illiterate</td>\n",
       "      <td>4+ siblings</td>\n",
       "    </tr>\n",
       "    <tr>\n",
       "      <th>8707</th>\n",
       "      <td>Illiterate</td>\n",
       "      <td>4+ siblings</td>\n",
       "    </tr>\n",
       "    <tr>\n",
       "      <th>8713</th>\n",
       "      <td>Illiterate</td>\n",
       "      <td>4+ siblings</td>\n",
       "    </tr>\n",
       "  </tbody>\n",
       "</table>\n",
       "<p>469 rows × 2 columns</p>\n",
       "</div>"
      ],
      "text/plain": [
       "      Mother.edu     Siblings\n",
       "7     Illiterate  4+ siblings\n",
       "9     Illiterate  4+ siblings\n",
       "11    Illiterate  4+ siblings\n",
       "17    Illiterate  4+ siblings\n",
       "52    Illiterate  4+ siblings\n",
       "...          ...          ...\n",
       "8674  Illiterate  4+ siblings\n",
       "8675  Illiterate  4+ siblings\n",
       "8683  Illiterate  4+ siblings\n",
       "8707  Illiterate  4+ siblings\n",
       "8713  Illiterate  4+ siblings\n",
       "\n",
       "[469 rows x 2 columns]"
      ]
     },
     "execution_count": 41,
     "metadata": {},
     "output_type": "execute_result"
    }
   ],
   "source": [
    "nas_df[(nas_df[\"Mother.edu\"] != \"\") & (nas_df[\"Mother.edu\"] == \"Illiterate\") & (nas_df[\"Siblings\"] == \"4+ siblings\")]\n"
   ]
  },
  {
   "cell_type": "code",
   "execution_count": 42,
   "id": "04d4700c",
   "metadata": {},
   "outputs": [
    {
     "data": {
      "text/html": [
       "<div>\n",
       "<style scoped>\n",
       "    .dataframe tbody tr th:only-of-type {\n",
       "        vertical-align: middle;\n",
       "    }\n",
       "\n",
       "    .dataframe tbody tr th {\n",
       "        vertical-align: top;\n",
       "    }\n",
       "\n",
       "    .dataframe thead th {\n",
       "        text-align: right;\n",
       "    }\n",
       "</style>\n",
       "<table border=\"1\" class=\"dataframe\">\n",
       "  <thead>\n",
       "    <tr style=\"text-align: right;\">\n",
       "      <th></th>\n",
       "      <th>Mother.edu</th>\n",
       "      <th>Siblings</th>\n",
       "    </tr>\n",
       "  </thead>\n",
       "  <tbody>\n",
       "  </tbody>\n",
       "</table>\n",
       "</div>"
      ],
      "text/plain": [
       "Empty DataFrame\n",
       "Columns: [Mother.edu, Siblings]\n",
       "Index: []"
      ]
     },
     "execution_count": 42,
     "metadata": {},
     "output_type": "execute_result"
    }
   ],
   "source": [
    "nas_df[(nas_df[\"Mother.edu\"] != \"\") & (nas_df[\"Mother.edu\"] == \"Illiterate\") & (nas_df[\"Siblings\"] == \"4+ sibling\")]\n"
   ]
  },
  {
   "cell_type": "code",
   "execution_count": 45,
   "id": "9cf42f01",
   "metadata": {},
   "outputs": [
    {
     "data": {
      "text/plain": [
       "Father.edu    Science..  Age      \n",
       "Secondary     34.55      14 years     56\n",
       "Illiterate    29.09      14 years     44\n",
       "Primary       34.55      14 years     43\n",
       "Illiterate    30.91      14 years     42\n",
       "Primary       27.27      14 years     40\n",
       "                                      ..\n",
       "              65.45      12 years      1\n",
       "                         15 years      1\n",
       "              67.27      15 years      1\n",
       "              69.09      11- years     1\n",
       "Sr secondary  76.36      14 years      1\n",
       "Length: 585, dtype: int64"
      ]
     },
     "execution_count": 45,
     "metadata": {},
     "output_type": "execute_result"
    }
   ],
   "source": [
    "nas_df_1 = pd.read_csv(\"nas.csv\")\n",
    "nas_df_1 = nas_df_1[[\"Father.edu\", 'Science..', \"Age\"]]\n",
    "nas_df_1.value_counts()"
   ]
  },
  {
   "cell_type": "code",
   "execution_count": 65,
   "id": "71ea81e5",
   "metadata": {},
   "outputs": [
    {
     "data": {
      "text/html": [
       "<div>\n",
       "<style scoped>\n",
       "    .dataframe tbody tr th:only-of-type {\n",
       "        vertical-align: middle;\n",
       "    }\n",
       "\n",
       "    .dataframe tbody tr th {\n",
       "        vertical-align: top;\n",
       "    }\n",
       "\n",
       "    .dataframe thead th {\n",
       "        text-align: right;\n",
       "    }\n",
       "</style>\n",
       "<table border=\"1\" class=\"dataframe\">\n",
       "  <thead>\n",
       "    <tr style=\"text-align: right;\">\n",
       "      <th></th>\n",
       "      <th>Father.edu</th>\n",
       "      <th>Science..</th>\n",
       "      <th>Age</th>\n",
       "    </tr>\n",
       "  </thead>\n",
       "  <tbody>\n",
       "    <tr>\n",
       "      <th>0</th>\n",
       "      <td>Illiterate</td>\n",
       "      <td>NaN</td>\n",
       "      <td>13 years</td>\n",
       "    </tr>\n",
       "    <tr>\n",
       "      <th>1</th>\n",
       "      <td>NaN</td>\n",
       "      <td>NaN</td>\n",
       "      <td>15 years</td>\n",
       "    </tr>\n",
       "    <tr>\n",
       "      <th>2</th>\n",
       "      <td>Degree &amp; above</td>\n",
       "      <td>NaN</td>\n",
       "      <td>14 years</td>\n",
       "    </tr>\n",
       "    <tr>\n",
       "      <th>3</th>\n",
       "      <td>Secondary</td>\n",
       "      <td>NaN</td>\n",
       "      <td>13 years</td>\n",
       "    </tr>\n",
       "    <tr>\n",
       "      <th>4</th>\n",
       "      <td>Primary</td>\n",
       "      <td>27.27</td>\n",
       "      <td>14 years</td>\n",
       "    </tr>\n",
       "    <tr>\n",
       "      <th>...</th>\n",
       "      <td>...</td>\n",
       "      <td>...</td>\n",
       "      <td>...</td>\n",
       "    </tr>\n",
       "    <tr>\n",
       "      <th>8796</th>\n",
       "      <td>Secondary</td>\n",
       "      <td>34.55</td>\n",
       "      <td>13 years</td>\n",
       "    </tr>\n",
       "    <tr>\n",
       "      <th>8797</th>\n",
       "      <td>NaN</td>\n",
       "      <td>NaN</td>\n",
       "      <td>13 years</td>\n",
       "    </tr>\n",
       "    <tr>\n",
       "      <th>8798</th>\n",
       "      <td>Sr secondary</td>\n",
       "      <td>NaN</td>\n",
       "      <td>14 years</td>\n",
       "    </tr>\n",
       "    <tr>\n",
       "      <th>8799</th>\n",
       "      <td>Sr secondary</td>\n",
       "      <td>23.64</td>\n",
       "      <td>13 years</td>\n",
       "    </tr>\n",
       "    <tr>\n",
       "      <th>8800</th>\n",
       "      <td>Sr secondary</td>\n",
       "      <td>27.27</td>\n",
       "      <td>13 years</td>\n",
       "    </tr>\n",
       "  </tbody>\n",
       "</table>\n",
       "<p>8255 rows × 3 columns</p>\n",
       "</div>"
      ],
      "text/plain": [
       "          Father.edu  Science..       Age\n",
       "0         Illiterate        NaN  13 years\n",
       "1                NaN        NaN  15 years\n",
       "2     Degree & above        NaN  14 years\n",
       "3          Secondary        NaN  13 years\n",
       "4            Primary      27.27  14 years\n",
       "...              ...        ...       ...\n",
       "8796       Secondary      34.55  13 years\n",
       "8797             NaN        NaN  13 years\n",
       "8798    Sr secondary        NaN  14 years\n",
       "8799    Sr secondary      23.64  13 years\n",
       "8800    Sr secondary      27.27  13 years\n",
       "\n",
       "[8255 rows x 3 columns]"
      ]
     },
     "execution_count": 65,
     "metadata": {},
     "output_type": "execute_result"
    }
   ],
   "source": [
    "nas_df_1[nas_df_1[\"Age\"] > \"12 years\"]"
   ]
  },
  {
   "cell_type": "code",
   "execution_count": 72,
   "id": "96cba363",
   "metadata": {},
   "outputs": [
    {
     "data": {
      "text/plain": [
       "Father.edu      Science..  Age     \n",
       "Degree & above  50.91      13 years    7\n",
       "                40.00      14 years    6\n",
       "                38.18      13 years    5\n",
       "                52.73      14 years    5\n",
       "                47.27      13 years    5\n",
       "                32.73      14 years    5\n",
       "                43.64      13 years    4\n",
       "                54.55      14 years    4\n",
       "                34.55      13 years    4\n",
       "                49.09      14 years    4\n",
       "                36.36      13 years    4\n",
       "                47.27      14 years    4\n",
       "                69.09      13 years    3\n",
       "                45.45      14 years    3\n",
       "                34.55      14 years    3\n",
       "                41.82      14 years    3\n",
       "                           13 years    3\n",
       "                36.36      14 years    3\n",
       "                67.27      14 years    2\n",
       "                32.73      13 years    2\n",
       "                56.36      13 years    2\n",
       "                60.00      13 years    2\n",
       "                           14 years    2\n",
       "                54.55      13 years    2\n",
       "                49.09      13 years    2\n",
       "                72.73      13 years    2\n",
       "                30.91      14 years    2\n",
       "                65.45      14 years    2\n",
       "                45.45      13 years    2\n",
       "                43.64      14 years    2\n",
       "                40.00      13 years    2\n",
       "                38.18      14 years    2\n",
       "                63.64      13 years    2\n",
       "                74.55      13 years    1\n",
       "                70.91      14 years    1\n",
       "                67.27      13 years    1\n",
       "                30.91      13 years    1\n",
       "                63.64      14 years    1\n",
       "                61.82      13 years    1\n",
       "                58.18      14 years    1\n",
       "                           13 years    1\n",
       "                56.36      14 years    1\n",
       "                52.73      13 years    1\n",
       "                50.91      14 years    1\n",
       "                76.36      14 years    1\n",
       "dtype: int64"
      ]
     },
     "execution_count": 72,
     "metadata": {},
     "output_type": "execute_result"
    }
   ],
   "source": [
    "nas_df_1[(nas_df_1[\"Father.edu\"] == \"Degree & above\") & (nas_df_1[\"Age\"] > \"12 years\") & (nas_df_1[\"Age\"] < \"15 years\") & (nas_df_1[\"Science..\"] > 30)].value_counts()\n",
    "\n"
   ]
  },
  {
   "cell_type": "code",
   "execution_count": 71,
   "id": "ce9a73e8",
   "metadata": {},
   "outputs": [
    {
     "data": {
      "text/plain": [
       "Father.edu      Science..  Age      \n",
       "Degree & above  29.09      15 years     1\n",
       "                32.73      16+ years    1\n",
       "dtype: int64"
      ]
     },
     "execution_count": 71,
     "metadata": {},
     "output_type": "execute_result"
    }
   ],
   "source": [
    "nas_df_1[(nas_df_1[\"Father.edu\"] == \"Degree & above\") & (nas_df_1[\"Age\"] >\"14 years\")].value_counts()\n"
   ]
  },
  {
   "cell_type": "code",
   "execution_count": 73,
   "id": "8346b25f",
   "metadata": {},
   "outputs": [
    {
     "data": {
      "text/plain": [
       "Father.edu      Science..  Age     \n",
       "Degree & above  50.91      13 years    7\n",
       "                38.18      13 years    5\n",
       "                47.27      13 years    5\n",
       "                36.36      13 years    4\n",
       "                34.55      13 years    4\n",
       "                43.64      13 years    4\n",
       "                41.82      13 years    3\n",
       "                69.09      13 years    3\n",
       "                40.00      13 years    2\n",
       "                45.45      13 years    2\n",
       "                63.64      13 years    2\n",
       "                49.09      13 years    2\n",
       "                32.73      13 years    2\n",
       "                72.73      13 years    2\n",
       "                54.55      13 years    2\n",
       "                56.36      13 years    2\n",
       "                60.00      13 years    2\n",
       "                67.27      13 years    1\n",
       "                30.91      13 years    1\n",
       "                61.82      13 years    1\n",
       "                58.18      13 years    1\n",
       "                52.73      13 years    1\n",
       "                74.55      13 years    1\n",
       "dtype: int64"
      ]
     },
     "execution_count": 73,
     "metadata": {},
     "output_type": "execute_result"
    }
   ],
   "source": [
    "nas_df_1[(nas_df_1[\"Father.edu\"] == \"Degree & above\") & (nas_df_1[\"Age\"] > \"12 years\") & (nas_df_1[\"Age\"] < \"14 years\") & (nas_df_1[\"Science..\"] > 30)].value_counts()\n"
   ]
  },
  {
   "cell_type": "code",
   "execution_count": 123,
   "id": "16789d1e",
   "metadata": {},
   "outputs": [
    {
     "name": "stdout",
     "output_type": "stream",
     "text": [
      "<class 'pandas.core.frame.DataFrame'>\n",
      "RangeIndex: 198 entries, 0 to 197\n",
      "Data columns (total 2 columns):\n",
      " #   Column       Non-Null Count  Dtype \n",
      "---  ------       --------------  ----- \n",
      " 0   submission   198 non-null    object\n",
      " 1   submit_time  198 non-null    object\n",
      "dtypes: object(2)\n",
      "memory usage: 3.2+ KB\n"
     ]
    }
   ],
   "source": [
    "#Extract all the relevant metrics (such as the date, day, month, year, hour, and minutes) \n",
    "#of each person’s submission and attempt the following questions.   \n",
    "grades_df = pd.read_csv(\"grades.csv\")\n",
    "grades_df.info()"
   ]
  },
  {
   "cell_type": "code",
   "execution_count": 89,
   "id": "2ccda13b",
   "metadata": {},
   "outputs": [],
   "source": [
    "#grades_df[\"date\"] = grades_df[\"submit_time\"].apply(lambda x: x[0:8])\n",
    "#grades_df[\"time\"] = grades_df[\"submit_time\"].apply(lambda x: x[9:])\n",
    "#grades_df[\"hours\"] = grades_df[\"time\"].apply(lambda x: x[0:2])\n",
    "#grades_df[\"Minutes\"] = grades_df[\"time\"].apply(lambda x: x[3:5])"
   ]
  },
  {
   "cell_type": "code",
   "execution_count": 156,
   "id": "e1a51fff",
   "metadata": {},
   "outputs": [],
   "source": [
    "grades_df['submit_time'] = pd.to_datetime(grades_df['submit_time'])\n",
    "\n",
    "grades_df['day'] = grades_df['submit_time'].dt.day\n",
    "grades_df[\"month\"] = grades_df[\"submit_time\"].dt.month\n",
    "grades_df[\"year\"] = grades_df[\"submit_time\"].dt.year\n",
    "grades_df[\"time\"] = grades_df[\"submit_time\"].dt.time\n",
    "grades_df[\"hours\"] = grades_df[\"submit_time\"].dt.hour\n",
    "grades_df[\"Minutes\"] = grades_df[\"submit_time\"].dt.minute\n",
    "grades_df[\"Seconds\"] = grades_df[\"submit_time\"].dt.second"
   ]
  },
  {
   "cell_type": "code",
   "execution_count": null,
   "id": "966fe908",
   "metadata": {},
   "outputs": [],
   "source": [
    "grades_df['file_extension'] = grades_df['submission'].apply(lambda x : os.path.splitext(x)[1])"
   ]
  },
  {
   "cell_type": "code",
   "execution_count": 157,
   "id": "a63bf35f",
   "metadata": {},
   "outputs": [
    {
     "data": {
      "text/html": [
       "<div>\n",
       "<style scoped>\n",
       "    .dataframe tbody tr th:only-of-type {\n",
       "        vertical-align: middle;\n",
       "    }\n",
       "\n",
       "    .dataframe tbody tr th {\n",
       "        vertical-align: top;\n",
       "    }\n",
       "\n",
       "    .dataframe thead th {\n",
       "        text-align: right;\n",
       "    }\n",
       "</style>\n",
       "<table border=\"1\" class=\"dataframe\">\n",
       "  <thead>\n",
       "    <tr style=\"text-align: right;\">\n",
       "      <th></th>\n",
       "      <th>submission</th>\n",
       "      <th>submit_time</th>\n",
       "      <th>file_extension</th>\n",
       "      <th>day</th>\n",
       "      <th>month</th>\n",
       "      <th>time</th>\n",
       "      <th>hours</th>\n",
       "      <th>Minutes</th>\n",
       "      <th>year</th>\n",
       "      <th>Seconds</th>\n",
       "    </tr>\n",
       "  </thead>\n",
       "  <tbody>\n",
       "    <tr>\n",
       "      <th>0</th>\n",
       "      <td>https://ckd.upgrad.com/UpGrad/73ba5189-94fd-44...</td>\n",
       "      <td>2017-01-03 20:28:52</td>\n",
       "      <td>.zip</td>\n",
       "      <td>3</td>\n",
       "      <td>1</td>\n",
       "      <td>20:28:52</td>\n",
       "      <td>20</td>\n",
       "      <td>28</td>\n",
       "      <td>2017</td>\n",
       "      <td>52</td>\n",
       "    </tr>\n",
       "    <tr>\n",
       "      <th>1</th>\n",
       "      <td>https://ckd.upgrad.com/UpGrad/185242ff-7508-4c...</td>\n",
       "      <td>2017-01-03 20:18:21</td>\n",
       "      <td>.zip</td>\n",
       "      <td>3</td>\n",
       "      <td>1</td>\n",
       "      <td>20:18:21</td>\n",
       "      <td>20</td>\n",
       "      <td>18</td>\n",
       "      <td>2017</td>\n",
       "      <td>21</td>\n",
       "    </tr>\n",
       "    <tr>\n",
       "      <th>2</th>\n",
       "      <td>https://ckd.upgrad.com/UpGrad/a353d129-c100-43...</td>\n",
       "      <td>2017-01-03 22:37:08</td>\n",
       "      <td>.zip</td>\n",
       "      <td>3</td>\n",
       "      <td>1</td>\n",
       "      <td>22:37:08</td>\n",
       "      <td>22</td>\n",
       "      <td>37</td>\n",
       "      <td>2017</td>\n",
       "      <td>8</td>\n",
       "    </tr>\n",
       "    <tr>\n",
       "      <th>3</th>\n",
       "      <td>https://ckd.upgrad.com/UpGrad/002fc912-faa1-49...</td>\n",
       "      <td>2017-01-02 21:43:19</td>\n",
       "      <td>.zip</td>\n",
       "      <td>2</td>\n",
       "      <td>1</td>\n",
       "      <td>21:43:19</td>\n",
       "      <td>21</td>\n",
       "      <td>43</td>\n",
       "      <td>2017</td>\n",
       "      <td>19</td>\n",
       "    </tr>\n",
       "    <tr>\n",
       "      <th>4</th>\n",
       "      <td>https://ckd.upgrad.com/UpGrad/25cbc4a4-6d49-4f...</td>\n",
       "      <td>2017-01-03 15:27:49</td>\n",
       "      <td>.zip</td>\n",
       "      <td>3</td>\n",
       "      <td>1</td>\n",
       "      <td>15:27:49</td>\n",
       "      <td>15</td>\n",
       "      <td>27</td>\n",
       "      <td>2017</td>\n",
       "      <td>49</td>\n",
       "    </tr>\n",
       "  </tbody>\n",
       "</table>\n",
       "</div>"
      ],
      "text/plain": [
       "                                          submission         submit_time  \\\n",
       "0  https://ckd.upgrad.com/UpGrad/73ba5189-94fd-44... 2017-01-03 20:28:52   \n",
       "1  https://ckd.upgrad.com/UpGrad/185242ff-7508-4c... 2017-01-03 20:18:21   \n",
       "2  https://ckd.upgrad.com/UpGrad/a353d129-c100-43... 2017-01-03 22:37:08   \n",
       "3  https://ckd.upgrad.com/UpGrad/002fc912-faa1-49... 2017-01-02 21:43:19   \n",
       "4  https://ckd.upgrad.com/UpGrad/25cbc4a4-6d49-4f... 2017-01-03 15:27:49   \n",
       "\n",
       "  file_extension  day  month      time  hours  Minutes  year  Seconds  \n",
       "0           .zip    3      1  20:28:52     20       28  2017       52  \n",
       "1           .zip    3      1  20:18:21     20       18  2017       21  \n",
       "2           .zip    3      1  22:37:08     22       37  2017        8  \n",
       "3           .zip    2      1  21:43:19     21       43  2017       19  \n",
       "4           .zip    3      1  15:27:49     15       27  2017       49  "
      ]
     },
     "execution_count": 157,
     "metadata": {},
     "output_type": "execute_result"
    }
   ],
   "source": [
    "grades_df.head()"
   ]
  },
  {
   "cell_type": "code",
   "execution_count": 145,
   "id": "707b6dad",
   "metadata": {},
   "outputs": [],
   "source": [
    "# You can use the “str_count()” function(This function is present in R language) \n",
    "#from the string library, which would return 1 if the submission columns contain “.zip” text."
   ]
  },
  {
   "cell_type": "code",
   "execution_count": 149,
   "id": "f46c7e23",
   "metadata": {},
   "outputs": [
    {
     "data": {
      "text/plain": [
       "file_extension  file_extension\n",
       ".7z             .7z                 2\n",
       ".R              .R                  7\n",
       ".zip            .zip              189\n",
       "Name: file_extension, dtype: int64"
      ]
     },
     "execution_count": 149,
     "metadata": {},
     "output_type": "execute_result"
    }
   ],
   "source": [
    "grades_df.groupby(grades_df['file_extension']).file_extension.value_counts()"
   ]
  },
  {
   "cell_type": "code",
   "execution_count": 150,
   "id": "4ffc6782",
   "metadata": {},
   "outputs": [
    {
     "data": {
      "text/plain": [
       "95.45454545454545"
      ]
     },
     "execution_count": 150,
     "metadata": {},
     "output_type": "execute_result"
    }
   ],
   "source": [
    "189/198*100 "
   ]
  },
  {
   "cell_type": "code",
   "execution_count": 151,
   "id": "d668935e",
   "metadata": {},
   "outputs": [],
   "source": [
    "#This was the Association Rule Mining assignment whose submission deadline was Jan 3, 2017 - 11:59:59 PM. \n",
    "#The second deadline was Jan 9, 2017 - 11:59 PM.\n"
   ]
  },
  {
   "cell_type": "code",
   "execution_count": 166,
   "id": "b2d1ac77",
   "metadata": {},
   "outputs": [
    {
     "data": {
      "text/plain": [
       ".zip    39\n",
       ".R       4\n",
       "Name: file_extension, dtype: int64"
      ]
     },
     "execution_count": 166,
     "metadata": {},
     "output_type": "execute_result"
    }
   ],
   "source": [
    "grades_df[(grades_df.day >3) & (grades_df.month >=1) & (grades_df.year >=2017)].file_extension.value_counts()"
   ]
  },
  {
   "cell_type": "code",
   "execution_count": 175,
   "id": "66909ba5",
   "metadata": {},
   "outputs": [
    {
     "ename": "ValueError",
     "evalue": "The truth value of a Series is ambiguous. Use a.empty, a.bool(), a.item(), a.any() or a.all().",
     "output_type": "error",
     "traceback": [
      "\u001b[0;31m---------------------------------------------------------------------------\u001b[0m",
      "\u001b[0;31mValueError\u001b[0m                                Traceback (most recent call last)",
      "\u001b[0;32m/var/folders/43/859d2zb56t3_rbldq_3tyncmhd0n5m/T/ipykernel_39820/4196925723.py\u001b[0m in \u001b[0;36m<module>\u001b[0;34m\u001b[0m\n\u001b[0;32m----> 1\u001b[0;31m \u001b[0mgrades_df\u001b[0m\u001b[0;34m[\u001b[0m\u001b[0;34m'After_fsd'\u001b[0m\u001b[0;34m]\u001b[0m \u001b[0;34m=\u001b[0m \u001b[0;34m(\u001b[0m\u001b[0;34m(\u001b[0m\u001b[0mgrades_df\u001b[0m\u001b[0;34m.\u001b[0m\u001b[0mday\u001b[0m \u001b[0;34m>\u001b[0m\u001b[0;36m3\u001b[0m \u001b[0;34m&\u001b[0m \u001b[0mgrades_df\u001b[0m\u001b[0;34m.\u001b[0m\u001b[0mmonth\u001b[0m \u001b[0;34m>=\u001b[0m\u001b[0;36m1\u001b[0m\u001b[0;34m)\u001b[0m \u001b[0;34m&\u001b[0m \u001b[0;34m(\u001b[0m\u001b[0mgrades_df\u001b[0m\u001b[0;34m.\u001b[0m\u001b[0myear\u001b[0m \u001b[0;34m>=\u001b[0m\u001b[0;36m2017\u001b[0m\u001b[0;34m)\u001b[0m\u001b[0;34m)\u001b[0m\u001b[0;34m.\u001b[0m\u001b[0mapply\u001b[0m\u001b[0;34m(\u001b[0m\u001b[0;32mlambda\u001b[0m \u001b[0mx\u001b[0m \u001b[0;34m:\u001b[0m \u001b[0;36m1\u001b[0m \u001b[0;32mif\u001b[0m \u001b[0mx\u001b[0m\u001b[0;34m==\u001b[0m\u001b[0;32mTrue\u001b[0m \u001b[0;32melse\u001b[0m \u001b[0;36m0\u001b[0m\u001b[0;34m)\u001b[0m\u001b[0;34m\u001b[0m\u001b[0;34m\u001b[0m\u001b[0m\n\u001b[0m",
      "\u001b[0;32m/usr/local/lib/python3.9/site-packages/pandas/core/generic.py\u001b[0m in \u001b[0;36m__nonzero__\u001b[0;34m(self)\u001b[0m\n\u001b[1;32m   1535\u001b[0m     \u001b[0;34m@\u001b[0m\u001b[0mfinal\u001b[0m\u001b[0;34m\u001b[0m\u001b[0;34m\u001b[0m\u001b[0m\n\u001b[1;32m   1536\u001b[0m     \u001b[0;32mdef\u001b[0m \u001b[0m__nonzero__\u001b[0m\u001b[0;34m(\u001b[0m\u001b[0mself\u001b[0m\u001b[0;34m)\u001b[0m\u001b[0;34m:\u001b[0m\u001b[0;34m\u001b[0m\u001b[0;34m\u001b[0m\u001b[0m\n\u001b[0;32m-> 1537\u001b[0;31m         raise ValueError(\n\u001b[0m\u001b[1;32m   1538\u001b[0m             \u001b[0;34mf\"The truth value of a {type(self).__name__} is ambiguous. \"\u001b[0m\u001b[0;34m\u001b[0m\u001b[0;34m\u001b[0m\u001b[0m\n\u001b[1;32m   1539\u001b[0m             \u001b[0;34m\"Use a.empty, a.bool(), a.item(), a.any() or a.all().\"\u001b[0m\u001b[0;34m\u001b[0m\u001b[0;34m\u001b[0m\u001b[0m\n",
      "\u001b[0;31mValueError\u001b[0m: The truth value of a Series is ambiguous. Use a.empty, a.bool(), a.item(), a.any() or a.all()."
     ]
    }
   ],
   "source": [
    "grades_df['After_fsd'] = ((grades_df.day >3) & (grades_df.month >=1) & (grades_df.year >=2017)).apply(lambda x : 1 if x==True else 0)"
   ]
  },
  {
   "cell_type": "code",
   "execution_count": 169,
   "id": "f2590618",
   "metadata": {},
   "outputs": [
    {
     "data": {
      "text/html": [
       "<div>\n",
       "<style scoped>\n",
       "    .dataframe tbody tr th:only-of-type {\n",
       "        vertical-align: middle;\n",
       "    }\n",
       "\n",
       "    .dataframe tbody tr th {\n",
       "        vertical-align: top;\n",
       "    }\n",
       "\n",
       "    .dataframe thead th {\n",
       "        text-align: right;\n",
       "    }\n",
       "</style>\n",
       "<table border=\"1\" class=\"dataframe\">\n",
       "  <thead>\n",
       "    <tr style=\"text-align: right;\">\n",
       "      <th></th>\n",
       "      <th>submission</th>\n",
       "      <th>submit_time</th>\n",
       "      <th>file_extension</th>\n",
       "      <th>day</th>\n",
       "      <th>month</th>\n",
       "      <th>time</th>\n",
       "      <th>hours</th>\n",
       "      <th>Minutes</th>\n",
       "      <th>year</th>\n",
       "      <th>Seconds</th>\n",
       "      <th>After_fsd</th>\n",
       "    </tr>\n",
       "  </thead>\n",
       "  <tbody>\n",
       "    <tr>\n",
       "      <th>0</th>\n",
       "      <td>https://ckd.upgrad.com/UpGrad/73ba5189-94fd-44...</td>\n",
       "      <td>2017-01-03 20:28:52</td>\n",
       "      <td>.zip</td>\n",
       "      <td>3</td>\n",
       "      <td>1</td>\n",
       "      <td>20:28:52</td>\n",
       "      <td>20</td>\n",
       "      <td>28</td>\n",
       "      <td>2017</td>\n",
       "      <td>52</td>\n",
       "      <td>0</td>\n",
       "    </tr>\n",
       "    <tr>\n",
       "      <th>1</th>\n",
       "      <td>https://ckd.upgrad.com/UpGrad/185242ff-7508-4c...</td>\n",
       "      <td>2017-01-03 20:18:21</td>\n",
       "      <td>.zip</td>\n",
       "      <td>3</td>\n",
       "      <td>1</td>\n",
       "      <td>20:18:21</td>\n",
       "      <td>20</td>\n",
       "      <td>18</td>\n",
       "      <td>2017</td>\n",
       "      <td>21</td>\n",
       "      <td>0</td>\n",
       "    </tr>\n",
       "    <tr>\n",
       "      <th>2</th>\n",
       "      <td>https://ckd.upgrad.com/UpGrad/a353d129-c100-43...</td>\n",
       "      <td>2017-01-03 22:37:08</td>\n",
       "      <td>.zip</td>\n",
       "      <td>3</td>\n",
       "      <td>1</td>\n",
       "      <td>22:37:08</td>\n",
       "      <td>22</td>\n",
       "      <td>37</td>\n",
       "      <td>2017</td>\n",
       "      <td>8</td>\n",
       "      <td>0</td>\n",
       "    </tr>\n",
       "    <tr>\n",
       "      <th>3</th>\n",
       "      <td>https://ckd.upgrad.com/UpGrad/002fc912-faa1-49...</td>\n",
       "      <td>2017-01-02 21:43:19</td>\n",
       "      <td>.zip</td>\n",
       "      <td>2</td>\n",
       "      <td>1</td>\n",
       "      <td>21:43:19</td>\n",
       "      <td>21</td>\n",
       "      <td>43</td>\n",
       "      <td>2017</td>\n",
       "      <td>19</td>\n",
       "      <td>0</td>\n",
       "    </tr>\n",
       "    <tr>\n",
       "      <th>4</th>\n",
       "      <td>https://ckd.upgrad.com/UpGrad/25cbc4a4-6d49-4f...</td>\n",
       "      <td>2017-01-03 15:27:49</td>\n",
       "      <td>.zip</td>\n",
       "      <td>3</td>\n",
       "      <td>1</td>\n",
       "      <td>15:27:49</td>\n",
       "      <td>15</td>\n",
       "      <td>27</td>\n",
       "      <td>2017</td>\n",
       "      <td>49</td>\n",
       "      <td>0</td>\n",
       "    </tr>\n",
       "  </tbody>\n",
       "</table>\n",
       "</div>"
      ],
      "text/plain": [
       "                                          submission         submit_time  \\\n",
       "0  https://ckd.upgrad.com/UpGrad/73ba5189-94fd-44... 2017-01-03 20:28:52   \n",
       "1  https://ckd.upgrad.com/UpGrad/185242ff-7508-4c... 2017-01-03 20:18:21   \n",
       "2  https://ckd.upgrad.com/UpGrad/a353d129-c100-43... 2017-01-03 22:37:08   \n",
       "3  https://ckd.upgrad.com/UpGrad/002fc912-faa1-49... 2017-01-02 21:43:19   \n",
       "4  https://ckd.upgrad.com/UpGrad/25cbc4a4-6d49-4f... 2017-01-03 15:27:49   \n",
       "\n",
       "  file_extension  day  month      time  hours  Minutes  year  Seconds  \\\n",
       "0           .zip    3      1  20:28:52     20       28  2017       52   \n",
       "1           .zip    3      1  20:18:21     20       18  2017       21   \n",
       "2           .zip    3      1  22:37:08     22       37  2017        8   \n",
       "3           .zip    2      1  21:43:19     21       43  2017       19   \n",
       "4           .zip    3      1  15:27:49     15       27  2017       49   \n",
       "\n",
       "   After_fsd  \n",
       "0          0  \n",
       "1          0  \n",
       "2          0  \n",
       "3          0  \n",
       "4          0  "
      ]
     },
     "execution_count": 169,
     "metadata": {},
     "output_type": "execute_result"
    }
   ],
   "source": [
    "grades_df.head()"
   ]
  },
  {
   "cell_type": "code",
   "execution_count": 171,
   "id": "f72f4213",
   "metadata": {},
   "outputs": [
    {
     "data": {
      "text/plain": [
       "submission        43\n",
       "submit_time       43\n",
       "file_extension    43\n",
       "day               43\n",
       "month             43\n",
       "time              43\n",
       "hours             43\n",
       "Minutes           43\n",
       "year              43\n",
       "Seconds           43\n",
       "After_fsd         43\n",
       "dtype: int64"
      ]
     },
     "execution_count": 171,
     "metadata": {},
     "output_type": "execute_result"
    }
   ],
   "source": [
    "grades_df[grades_df['After_fsd'] == 1].count()"
   ]
  },
  {
   "cell_type": "code",
   "execution_count": 179,
   "id": "0d0b62e1",
   "metadata": {},
   "outputs": [
    {
     "ename": "KeyError",
     "evalue": "\"None of [Int64Index([20, 20, 22, 21, 15,  2, 23, 23, 14, 21,\\n            ...\\n             9, 22, 21, 23, 22, 22, 23, 21, 23, 22],\\n           dtype='int64', length=198)] are in the [columns]\"",
     "output_type": "error",
     "traceback": [
      "\u001b[0;31m---------------------------------------------------------------------------\u001b[0m",
      "\u001b[0;31mKeyError\u001b[0m                                  Traceback (most recent call last)",
      "\u001b[0;32m/var/folders/43/859d2zb56t3_rbldq_3tyncmhd0n5m/T/ipykernel_39820/1239494323.py\u001b[0m in \u001b[0;36m<module>\u001b[0;34m\u001b[0m\n\u001b[0;32m----> 1\u001b[0;31m \u001b[0mgrades_df\u001b[0m\u001b[0;34m[\u001b[0m\u001b[0mgrades_df\u001b[0m\u001b[0;34m[\u001b[0m\u001b[0;34m'hours'\u001b[0m\u001b[0;34m]\u001b[0m\u001b[0;34m]\u001b[0m\u001b[0;34m.\u001b[0m\u001b[0mvalue_counts\u001b[0m\u001b[0;34m\u001b[0m\u001b[0;34m\u001b[0m\u001b[0m\n\u001b[0m",
      "\u001b[0;32m/usr/local/lib/python3.9/site-packages/pandas/core/frame.py\u001b[0m in \u001b[0;36m__getitem__\u001b[0;34m(self, key)\u001b[0m\n\u001b[1;32m   3462\u001b[0m             \u001b[0;32mif\u001b[0m \u001b[0mis_iterator\u001b[0m\u001b[0;34m(\u001b[0m\u001b[0mkey\u001b[0m\u001b[0;34m)\u001b[0m\u001b[0;34m:\u001b[0m\u001b[0;34m\u001b[0m\u001b[0;34m\u001b[0m\u001b[0m\n\u001b[1;32m   3463\u001b[0m                 \u001b[0mkey\u001b[0m \u001b[0;34m=\u001b[0m \u001b[0mlist\u001b[0m\u001b[0;34m(\u001b[0m\u001b[0mkey\u001b[0m\u001b[0;34m)\u001b[0m\u001b[0;34m\u001b[0m\u001b[0;34m\u001b[0m\u001b[0m\n\u001b[0;32m-> 3464\u001b[0;31m             \u001b[0mindexer\u001b[0m \u001b[0;34m=\u001b[0m \u001b[0mself\u001b[0m\u001b[0;34m.\u001b[0m\u001b[0mloc\u001b[0m\u001b[0;34m.\u001b[0m\u001b[0m_get_listlike_indexer\u001b[0m\u001b[0;34m(\u001b[0m\u001b[0mkey\u001b[0m\u001b[0;34m,\u001b[0m \u001b[0maxis\u001b[0m\u001b[0;34m=\u001b[0m\u001b[0;36m1\u001b[0m\u001b[0;34m)\u001b[0m\u001b[0;34m[\u001b[0m\u001b[0;36m1\u001b[0m\u001b[0;34m]\u001b[0m\u001b[0;34m\u001b[0m\u001b[0;34m\u001b[0m\u001b[0m\n\u001b[0m\u001b[1;32m   3465\u001b[0m \u001b[0;34m\u001b[0m\u001b[0m\n\u001b[1;32m   3466\u001b[0m         \u001b[0;31m# take() does not accept boolean indexers\u001b[0m\u001b[0;34m\u001b[0m\u001b[0;34m\u001b[0m\u001b[0m\n",
      "\u001b[0;32m/usr/local/lib/python3.9/site-packages/pandas/core/indexing.py\u001b[0m in \u001b[0;36m_get_listlike_indexer\u001b[0;34m(self, key, axis)\u001b[0m\n\u001b[1;32m   1312\u001b[0m             \u001b[0mkeyarr\u001b[0m\u001b[0;34m,\u001b[0m \u001b[0mindexer\u001b[0m\u001b[0;34m,\u001b[0m \u001b[0mnew_indexer\u001b[0m \u001b[0;34m=\u001b[0m \u001b[0max\u001b[0m\u001b[0;34m.\u001b[0m\u001b[0m_reindex_non_unique\u001b[0m\u001b[0;34m(\u001b[0m\u001b[0mkeyarr\u001b[0m\u001b[0;34m)\u001b[0m\u001b[0;34m\u001b[0m\u001b[0;34m\u001b[0m\u001b[0m\n\u001b[1;32m   1313\u001b[0m \u001b[0;34m\u001b[0m\u001b[0m\n\u001b[0;32m-> 1314\u001b[0;31m         \u001b[0mself\u001b[0m\u001b[0;34m.\u001b[0m\u001b[0m_validate_read_indexer\u001b[0m\u001b[0;34m(\u001b[0m\u001b[0mkeyarr\u001b[0m\u001b[0;34m,\u001b[0m \u001b[0mindexer\u001b[0m\u001b[0;34m,\u001b[0m \u001b[0maxis\u001b[0m\u001b[0;34m)\u001b[0m\u001b[0;34m\u001b[0m\u001b[0;34m\u001b[0m\u001b[0m\n\u001b[0m\u001b[1;32m   1315\u001b[0m \u001b[0;34m\u001b[0m\u001b[0m\n\u001b[1;32m   1316\u001b[0m         if needs_i8_conversion(ax.dtype) or isinstance(\n",
      "\u001b[0;32m/usr/local/lib/python3.9/site-packages/pandas/core/indexing.py\u001b[0m in \u001b[0;36m_validate_read_indexer\u001b[0;34m(self, key, indexer, axis)\u001b[0m\n\u001b[1;32m   1372\u001b[0m                 \u001b[0;32mif\u001b[0m \u001b[0muse_interval_msg\u001b[0m\u001b[0;34m:\u001b[0m\u001b[0;34m\u001b[0m\u001b[0;34m\u001b[0m\u001b[0m\n\u001b[1;32m   1373\u001b[0m                     \u001b[0mkey\u001b[0m \u001b[0;34m=\u001b[0m \u001b[0mlist\u001b[0m\u001b[0;34m(\u001b[0m\u001b[0mkey\u001b[0m\u001b[0;34m)\u001b[0m\u001b[0;34m\u001b[0m\u001b[0;34m\u001b[0m\u001b[0m\n\u001b[0;32m-> 1374\u001b[0;31m                 \u001b[0;32mraise\u001b[0m \u001b[0mKeyError\u001b[0m\u001b[0;34m(\u001b[0m\u001b[0;34mf\"None of [{key}] are in the [{axis_name}]\"\u001b[0m\u001b[0;34m)\u001b[0m\u001b[0;34m\u001b[0m\u001b[0;34m\u001b[0m\u001b[0m\n\u001b[0m\u001b[1;32m   1375\u001b[0m \u001b[0;34m\u001b[0m\u001b[0m\n\u001b[1;32m   1376\u001b[0m             \u001b[0mnot_found\u001b[0m \u001b[0;34m=\u001b[0m \u001b[0mlist\u001b[0m\u001b[0;34m(\u001b[0m\u001b[0mensure_index\u001b[0m\u001b[0;34m(\u001b[0m\u001b[0mkey\u001b[0m\u001b[0;34m)\u001b[0m\u001b[0;34m[\u001b[0m\u001b[0mmissing_mask\u001b[0m\u001b[0;34m.\u001b[0m\u001b[0mnonzero\u001b[0m\u001b[0;34m(\u001b[0m\u001b[0;34m)\u001b[0m\u001b[0;34m[\u001b[0m\u001b[0;36m0\u001b[0m\u001b[0;34m]\u001b[0m\u001b[0;34m]\u001b[0m\u001b[0;34m.\u001b[0m\u001b[0munique\u001b[0m\u001b[0;34m(\u001b[0m\u001b[0;34m)\u001b[0m\u001b[0;34m)\u001b[0m\u001b[0;34m\u001b[0m\u001b[0;34m\u001b[0m\u001b[0m\n",
      "\u001b[0;31mKeyError\u001b[0m: \"None of [Int64Index([20, 20, 22, 21, 15,  2, 23, 23, 14, 21,\\n            ...\\n             9, 22, 21, 23, 22, 22, 23, 21, 23, 22],\\n           dtype='int64', length=198)] are in the [columns]\""
     ]
    }
   ],
   "source": [
    "grades_df[grades_df['hours']].value_counts"
   ]
  },
  {
   "cell_type": "code",
   "execution_count": 183,
   "id": "8c4701cb",
   "metadata": {},
   "outputs": [
    {
     "data": {
      "text/plain": [
       "hours\n",
       "0     10\n",
       "1      8\n",
       "2      2\n",
       "3      3\n",
       "4      2\n",
       "6      1\n",
       "8      1\n",
       "9      1\n",
       "10     3\n",
       "11     1\n",
       "12     3\n",
       "13     6\n",
       "14     6\n",
       "15     4\n",
       "16     2\n",
       "17     4\n",
       "18     6\n",
       "19     2\n",
       "20    16\n",
       "21    27\n",
       "22    24\n",
       "23    66\n",
       "Name: submission, dtype: int64"
      ]
     },
     "execution_count": 183,
     "metadata": {},
     "output_type": "execute_result"
    }
   ],
   "source": [
    "grades_df.submission.groupby(grades_df[\"hours\"]).plot()\n"
   ]
  },
  {
   "cell_type": "code",
   "execution_count": 186,
   "id": "65c334f8",
   "metadata": {},
   "outputs": [
    {
     "name": "stderr",
     "output_type": "stream",
     "text": [
      "/usr/local/lib/python3.9/site-packages/seaborn/distributions.py:2619: FutureWarning: `distplot` is a deprecated function and will be removed in a future version. Please adapt your code to use either `displot` (a figure-level function with similar flexibility) or `histplot` (an axes-level function for histograms).\n",
      "  warnings.warn(msg, FutureWarning)\n"
     ]
    },
    {
     "data": {
      "text/plain": [
       "<AxesSubplot:xlabel='hours'>"
      ]
     },
     "execution_count": 186,
     "metadata": {},
     "output_type": "execute_result"
    },
    {
     "data": {
      "image/png": "[encoded data removed]",
      "text/plain": [
       "<Figure size 432x288 with 1 Axes>"
      ]
     },
     "metadata": {},
     "output_type": "display_data"
    }
   ],
   "source": [
    "sns.set_style('whitegrid')\n",
    "sns.distplot(grades_df['hours'], kde = False, color ='red', bins = 30)"
   ]
  },
  {
   "cell_type": "code",
   "execution_count": null,
   "id": "fba3d4f8",
   "metadata": {},
   "outputs": [],
   "source": []
  }
 ],
 "metadata": {
  "kernelspec": {
   "display_name": "Python 3 (ipykernel)",
   "language": "python",
   "name": "python3"
  },
  "language_info": {
   "codemirror_mode": {
    "name": "ipython",
    "version": 3
   },
   "file_extension": ".py",
   "mimetype": "text/x-python",
   "name": "python",
   "nbconvert_exporter": "python",
   "pygments_lexer": "ipython3",
   "version": "3.9.8"
  }
 },
 "nbformat": 4,
 "nbformat_minor": 5
}
